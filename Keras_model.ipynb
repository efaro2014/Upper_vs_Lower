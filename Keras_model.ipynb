{
  "nbformat": 4,
  "nbformat_minor": 0,
  "metadata": {
    "colab": {
      "name": "Keras_model.ipynb",
      "provenance": [],
      "collapsed_sections": [],
      "authorship_tag": "ABX9TyPU6kQ+5NNdua+xyErfvdvb",
      "include_colab_link": true
    },
    "kernelspec": {
      "display_name": "Python 3",
      "name": "python3"
    }
  },
  "cells": [
    {
      "cell_type": "markdown",
      "metadata": {
        "id": "view-in-github",
        "colab_type": "text"
      },
      "source": [
        "<a href=\"https://colab.research.google.com/github/efaro2014/Upper_vs_Lower/blob/main/Keras_model.ipynb\" target=\"_parent\"><img src=\"https://colab.research.google.com/assets/colab-badge.svg\" alt=\"Open In Colab\"/></a>"
      ]
    },
    {
      "cell_type": "code",
      "metadata": {
        "colab": {
          "base_uri": "https://localhost:8080/"
        },
        "id": "VZRC2WrGUrhH",
        "outputId": "cbc5b2b9-8392-4e89-9d4e-ae8dbfbcfd57"
      },
      "source": [
        "from google.colab import drive\n",
        "drive.mount('/gdrive')\n",
        "%cd /gdrive"
      ],
      "execution_count": null,
      "outputs": [
        {
          "output_type": "stream",
          "text": [
            "Drive already mounted at /gdrive; to attempt to forcibly remount, call drive.mount(\"/gdrive\", force_remount=True).\n",
            "/gdrive\n"
          ],
          "name": "stdout"
        }
      ]
    },
    {
      "cell_type": "code",
      "metadata": {
        "colab": {
          "base_uri": "https://localhost:8080/"
        },
        "id": "MIP-aTTGUumZ",
        "outputId": "6b47cc0d-5a09-4aed-8fb0-6a29e42ff951"
      },
      "source": [
        "from google.colab import auth\n",
        "auth.authenticate_user()\n",
        "# https://cloud.google.com/resource-manager/docs/creating-managing-projects\n",
        "project_id = 'Efrem'\n",
        "!gcloud config set project {project_id}"
      ],
      "execution_count": null,
      "outputs": [
        {
          "output_type": "stream",
          "text": [
            "\u001b[1;31mERROR:\u001b[0m (gcloud.config.set) The project property must be set to a valid project ID, not the project name [Efrem]\n",
            "To set your project, run:\n",
            "\n",
            "  $ gcloud config set project PROJECT_ID\n",
            "\n",
            "or to unset it, run:\n",
            "\n",
            "  $ gcloud config unset project\n"
          ],
          "name": "stdout"
        }
      ]
    },
    {
      "cell_type": "code",
      "metadata": {
        "id": "AsjqWGBlU0kf",
        "colab": {
          "base_uri": "https://localhost:8080/"
        },
        "outputId": "e7bc488a-7408-4144-8e6c-3db3ff82fec0"
      },
      "source": [
        "! mkdir /tmp/metadata"
      ],
      "execution_count": null,
      "outputs": [
        {
          "output_type": "stream",
          "text": [
            "mkdir: cannot create directory ‘/tmp/metadata’: File exists\n"
          ],
          "name": "stdout"
        }
      ]
    },
    {
      "cell_type": "code",
      "metadata": {
        "id": "CnxzYodvVD6P"
      },
      "source": [
        "! mkdir -p /tmp/features"
      ],
      "execution_count": null,
      "outputs": []
    },
    {
      "cell_type": "code",
      "metadata": {
        "colab": {
          "base_uri": "https://localhost:8080/"
        },
        "id": "SPzbcrGTVHR9",
        "outputId": "5c171012-1669-4057-b449-648124b3ac8d"
      },
      "source": [
        "# load metadata\n",
        "!gsutil cp gs://virgosvs-ml-train/upper-vs-lower/metadata/* /tmp/metadata"
      ],
      "execution_count": null,
      "outputs": [
        {
          "output_type": "stream",
          "text": [
            "Copying gs://virgosvs-ml-train/upper-vs-lower/metadata/training_metadata.csv...\n",
            "/ [1 files][ 42.5 KiB/ 42.5 KiB]                                                \n",
            "Operation completed over 1 objects/42.5 KiB.                                     \n"
          ],
          "name": "stdout"
        }
      ]
    },
    {
      "cell_type": "code",
      "metadata": {
        "colab": {
          "base_uri": "https://localhost:8080/"
        },
        "id": "pAkb8uVLVmpH",
        "outputId": "00692f2c-703b-4e0b-abf7-ad0f6e22cf14"
      },
      "source": [
        "! /tmp/features/*"
      ],
      "execution_count": null,
      "outputs": [
        {
          "output_type": "stream",
          "text": [
            "/bin/bash: /tmp/features/110777.mp4.hdf5: Permission denied\n"
          ],
          "name": "stdout"
        }
      ]
    },
    {
      "cell_type": "code",
      "metadata": {
        "colab": {
          "base_uri": "https://localhost:8080/"
        },
        "id": "eTODAZ--VqAB",
        "outputId": "7e989107-e728-4124-b2fa-1eb080900783"
      },
      "source": [
        "# load features\n",
        "!gsutil cp gs://virgosvs-ml-train/upper-vs-lower/resnet50-features/padded/*.mp4.hdf5 /tmp/features"
      ],
      "execution_count": null,
      "outputs": [
        {
          "output_type": "stream",
          "text": [
            "Copying gs://virgosvs-ml-train/upper-vs-lower/resnet50-features/padded/110777.mp4.hdf5...\n",
            "Copying gs://virgosvs-ml-train/upper-vs-lower/resnet50-features/padded/112066.mp4.hdf5...\n",
            "Copying gs://virgosvs-ml-train/upper-vs-lower/resnet50-features/padded/112072.mp4.hdf5...\n",
            "Copying gs://virgosvs-ml-train/upper-vs-lower/resnet50-features/padded/112078.mp4.hdf5...\n",
            "- [4 files][678.4 MiB/678.4 MiB]                                                \n",
            "==> NOTE: You are performing a sequence of gsutil operations that may\n",
            "run significantly faster if you instead use gsutil -m cp ... Please\n",
            "see the -m section under \"gsutil help options\" for further information\n",
            "about when gsutil -m can be advantageous.\n",
            "\n",
            "Copying gs://virgosvs-ml-train/upper-vs-lower/resnet50-features/padded/112082.mp4.hdf5...\n",
            "Copying gs://virgosvs-ml-train/upper-vs-lower/resnet50-features/padded/120286.mp4.hdf5...\n",
            "Copying gs://virgosvs-ml-train/upper-vs-lower/resnet50-features/padded/120287.mp4.hdf5...\n",
            "Copying gs://virgosvs-ml-train/upper-vs-lower/resnet50-features/padded/120317.mp4.hdf5...\n",
            "Copying gs://virgosvs-ml-train/upper-vs-lower/resnet50-features/padded/120318.mp4.hdf5...\n",
            "Copying gs://virgosvs-ml-train/upper-vs-lower/resnet50-features/padded/164314.mp4.hdf5...\n",
            "Copying gs://virgosvs-ml-train/upper-vs-lower/resnet50-features/padded/164315.mp4.hdf5...\n",
            "Copying gs://virgosvs-ml-train/upper-vs-lower/resnet50-features/padded/164316.mp4.hdf5...\n",
            "Copying gs://virgosvs-ml-train/upper-vs-lower/resnet50-features/padded/164317.mp4.hdf5...\n",
            "Copying gs://virgosvs-ml-train/upper-vs-lower/resnet50-features/padded/164323.mp4.hdf5...\n",
            "Copying gs://virgosvs-ml-train/upper-vs-lower/resnet50-features/padded/164324.mp4.hdf5...\n",
            "Copying gs://virgosvs-ml-train/upper-vs-lower/resnet50-features/padded/164325.mp4.hdf5...\n",
            "Copying gs://virgosvs-ml-train/upper-vs-lower/resnet50-features/padded/164326.mp4.hdf5...\n",
            "Copying gs://virgosvs-ml-train/upper-vs-lower/resnet50-features/padded/164329.mp4.hdf5...\n",
            "Copying gs://virgosvs-ml-train/upper-vs-lower/resnet50-features/padded/164330.mp4.hdf5...\n",
            "Copying gs://virgosvs-ml-train/upper-vs-lower/resnet50-features/padded/164339.mp4.hdf5...\n",
            "Copying gs://virgosvs-ml-train/upper-vs-lower/resnet50-features/padded/164344.mp4.hdf5...\n",
            "Copying gs://virgosvs-ml-train/upper-vs-lower/resnet50-features/padded/164369.mp4.hdf5...\n",
            "Copying gs://virgosvs-ml-train/upper-vs-lower/resnet50-features/padded/164373.mp4.hdf5...\n",
            "Copying gs://virgosvs-ml-train/upper-vs-lower/resnet50-features/padded/164375.mp4.hdf5...\n",
            "Copying gs://virgosvs-ml-train/upper-vs-lower/resnet50-features/padded/164379.mp4.hdf5...\n",
            "Copying gs://virgosvs-ml-train/upper-vs-lower/resnet50-features/padded/164381.mp4.hdf5...\n",
            "Copying gs://virgosvs-ml-train/upper-vs-lower/resnet50-features/padded/164383.mp4.hdf5...\n",
            "Copying gs://virgosvs-ml-train/upper-vs-lower/resnet50-features/padded/164384.mp4.hdf5...\n",
            "Copying gs://virgosvs-ml-train/upper-vs-lower/resnet50-features/padded/164386.mp4.hdf5...\n",
            "Copying gs://virgosvs-ml-train/upper-vs-lower/resnet50-features/padded/164387.mp4.hdf5...\n",
            "Copying gs://virgosvs-ml-train/upper-vs-lower/resnet50-features/padded/164388.mp4.hdf5...\n",
            "Copying gs://virgosvs-ml-train/upper-vs-lower/resnet50-features/padded/164392.mp4.hdf5...\n",
            "Copying gs://virgosvs-ml-train/upper-vs-lower/resnet50-features/padded/164393.mp4.hdf5...\n",
            "Copying gs://virgosvs-ml-train/upper-vs-lower/resnet50-features/padded/164394.mp4.hdf5...\n",
            "Copying gs://virgosvs-ml-train/upper-vs-lower/resnet50-features/padded/164395.mp4.hdf5...\n",
            "Copying gs://virgosvs-ml-train/upper-vs-lower/resnet50-features/padded/164397.mp4.hdf5...\n",
            "Copying gs://virgosvs-ml-train/upper-vs-lower/resnet50-features/padded/164398.mp4.hdf5...\n",
            "Copying gs://virgosvs-ml-train/upper-vs-lower/resnet50-features/padded/164399.mp4.hdf5...\n",
            "Copying gs://virgosvs-ml-train/upper-vs-lower/resnet50-features/padded/164400.mp4.hdf5...\n",
            "Copying gs://virgosvs-ml-train/upper-vs-lower/resnet50-features/padded/164403.mp4.hdf5...\n",
            "Copying gs://virgosvs-ml-train/upper-vs-lower/resnet50-features/padded/164404.mp4.hdf5...\n",
            "Copying gs://virgosvs-ml-train/upper-vs-lower/resnet50-features/padded/164406.mp4.hdf5...\n",
            "Copying gs://virgosvs-ml-train/upper-vs-lower/resnet50-features/padded/164407.mp4.hdf5...\n",
            "Copying gs://virgosvs-ml-train/upper-vs-lower/resnet50-features/padded/164410.mp4.hdf5...\n",
            "Copying gs://virgosvs-ml-train/upper-vs-lower/resnet50-features/padded/164411.mp4.hdf5...\n",
            "Copying gs://virgosvs-ml-train/upper-vs-lower/resnet50-features/padded/164412.mp4.hdf5...\n",
            "Copying gs://virgosvs-ml-train/upper-vs-lower/resnet50-features/padded/164414.mp4.hdf5...\n",
            "Copying gs://virgosvs-ml-train/upper-vs-lower/resnet50-features/padded/164417.mp4.hdf5...\n",
            "Copying gs://virgosvs-ml-train/upper-vs-lower/resnet50-features/padded/164422.mp4.hdf5...\n",
            "Copying gs://virgosvs-ml-train/upper-vs-lower/resnet50-features/padded/164424.mp4.hdf5...\n",
            "Copying gs://virgosvs-ml-train/upper-vs-lower/resnet50-features/padded/164425.mp4.hdf5...\n",
            "Copying gs://virgosvs-ml-train/upper-vs-lower/resnet50-features/padded/164426.mp4.hdf5...\n",
            "Copying gs://virgosvs-ml-train/upper-vs-lower/resnet50-features/padded/164427.mp4.hdf5...\n",
            "Copying gs://virgosvs-ml-train/upper-vs-lower/resnet50-features/padded/164428.mp4.hdf5...\n",
            "Copying gs://virgosvs-ml-train/upper-vs-lower/resnet50-features/padded/164430.mp4.hdf5...\n",
            "Copying gs://virgosvs-ml-train/upper-vs-lower/resnet50-features/padded/164431.mp4.hdf5...\n",
            "Copying gs://virgosvs-ml-train/upper-vs-lower/resnet50-features/padded/164434.mp4.hdf5...\n",
            "Copying gs://virgosvs-ml-train/upper-vs-lower/resnet50-features/padded/164435.mp4.hdf5...\n",
            "Copying gs://virgosvs-ml-train/upper-vs-lower/resnet50-features/padded/164436.mp4.hdf5...\n",
            "Copying gs://virgosvs-ml-train/upper-vs-lower/resnet50-features/padded/164437.mp4.hdf5...\n",
            "Copying gs://virgosvs-ml-train/upper-vs-lower/resnet50-features/padded/164438.mp4.hdf5...\n",
            "Copying gs://virgosvs-ml-train/upper-vs-lower/resnet50-features/padded/164439.mp4.hdf5...\n",
            "Copying gs://virgosvs-ml-train/upper-vs-lower/resnet50-features/padded/164441.mp4.hdf5...\n",
            "Copying gs://virgosvs-ml-train/upper-vs-lower/resnet50-features/padded/164443.mp4.hdf5...\n",
            "Copying gs://virgosvs-ml-train/upper-vs-lower/resnet50-features/padded/164444.mp4.hdf5...\n",
            "Copying gs://virgosvs-ml-train/upper-vs-lower/resnet50-features/padded/164445.mp4.hdf5...\n",
            "Copying gs://virgosvs-ml-train/upper-vs-lower/resnet50-features/padded/164446.mp4.hdf5...\n",
            "Copying gs://virgosvs-ml-train/upper-vs-lower/resnet50-features/padded/164447.mp4.hdf5...\n",
            "Copying gs://virgosvs-ml-train/upper-vs-lower/resnet50-features/padded/164448.mp4.hdf5...\n",
            "Copying gs://virgosvs-ml-train/upper-vs-lower/resnet50-features/padded/164537.mp4.hdf5...\n",
            "Copying gs://virgosvs-ml-train/upper-vs-lower/resnet50-features/padded/164538.mp4.hdf5...\n",
            "Copying gs://virgosvs-ml-train/upper-vs-lower/resnet50-features/padded/164539.mp4.hdf5...\n",
            "Copying gs://virgosvs-ml-train/upper-vs-lower/resnet50-features/padded/164547.mp4.hdf5...\n",
            "Copying gs://virgosvs-ml-train/upper-vs-lower/resnet50-features/padded/164548.mp4.hdf5...\n",
            "Copying gs://virgosvs-ml-train/upper-vs-lower/resnet50-features/padded/164549.mp4.hdf5...\n",
            "Copying gs://virgosvs-ml-train/upper-vs-lower/resnet50-features/padded/164556.mp4.hdf5...\n",
            "Copying gs://virgosvs-ml-train/upper-vs-lower/resnet50-features/padded/164557.mp4.hdf5...\n",
            "Copying gs://virgosvs-ml-train/upper-vs-lower/resnet50-features/padded/164559.mp4.hdf5...\n",
            "Copying gs://virgosvs-ml-train/upper-vs-lower/resnet50-features/padded/164563.mp4.hdf5...\n",
            "Copying gs://virgosvs-ml-train/upper-vs-lower/resnet50-features/padded/164565.mp4.hdf5...\n",
            "Copying gs://virgosvs-ml-train/upper-vs-lower/resnet50-features/padded/164568.mp4.hdf5...\n",
            "Copying gs://virgosvs-ml-train/upper-vs-lower/resnet50-features/padded/164569.mp4.hdf5...\n",
            "Copying gs://virgosvs-ml-train/upper-vs-lower/resnet50-features/padded/164572.mp4.hdf5...\n",
            "Copying gs://virgosvs-ml-train/upper-vs-lower/resnet50-features/padded/164573.mp4.hdf5...\n",
            "Copying gs://virgosvs-ml-train/upper-vs-lower/resnet50-features/padded/164579.mp4.hdf5...\n",
            "Copying gs://virgosvs-ml-train/upper-vs-lower/resnet50-features/padded/164580.mp4.hdf5...\n",
            "Copying gs://virgosvs-ml-train/upper-vs-lower/resnet50-features/padded/164581.mp4.hdf5...\n",
            "Copying gs://virgosvs-ml-train/upper-vs-lower/resnet50-features/padded/164584.mp4.hdf5...\n",
            "Copying gs://virgosvs-ml-train/upper-vs-lower/resnet50-features/padded/164585.mp4.hdf5...\n",
            "Copying gs://virgosvs-ml-train/upper-vs-lower/resnet50-features/padded/164587.mp4.hdf5...\n",
            "Copying gs://virgosvs-ml-train/upper-vs-lower/resnet50-features/padded/164588.mp4.hdf5...\n",
            "Copying gs://virgosvs-ml-train/upper-vs-lower/resnet50-features/padded/164589.mp4.hdf5...\n",
            "Copying gs://virgosvs-ml-train/upper-vs-lower/resnet50-features/padded/164590.mp4.hdf5...\n",
            "Copying gs://virgosvs-ml-train/upper-vs-lower/resnet50-features/padded/164591.mp4.hdf5...\n",
            "Copying gs://virgosvs-ml-train/upper-vs-lower/resnet50-features/padded/164594.mp4.hdf5...\n",
            "Copying gs://virgosvs-ml-train/upper-vs-lower/resnet50-features/padded/164595.mp4.hdf5...\n",
            "Copying gs://virgosvs-ml-train/upper-vs-lower/resnet50-features/padded/164596.mp4.hdf5...\n",
            "Copying gs://virgosvs-ml-train/upper-vs-lower/resnet50-features/padded/164598.mp4.hdf5...\n",
            "Copying gs://virgosvs-ml-train/upper-vs-lower/resnet50-features/padded/164599.mp4.hdf5...\n",
            "Copying gs://virgosvs-ml-train/upper-vs-lower/resnet50-features/padded/164600.mp4.hdf5...\n",
            "Copying gs://virgosvs-ml-train/upper-vs-lower/resnet50-features/padded/164601.mp4.hdf5...\n",
            "Copying gs://virgosvs-ml-train/upper-vs-lower/resnet50-features/padded/164602.mp4.hdf5...\n",
            "Copying gs://virgosvs-ml-train/upper-vs-lower/resnet50-features/padded/164603.mp4.hdf5...\n",
            "Copying gs://virgosvs-ml-train/upper-vs-lower/resnet50-features/padded/164606.mp4.hdf5...\n",
            "Copying gs://virgosvs-ml-train/upper-vs-lower/resnet50-features/padded/164607.mp4.hdf5...\n",
            "Copying gs://virgosvs-ml-train/upper-vs-lower/resnet50-features/padded/164609.mp4.hdf5...\n",
            "Copying gs://virgosvs-ml-train/upper-vs-lower/resnet50-features/padded/164610.mp4.hdf5...\n",
            "Copying gs://virgosvs-ml-train/upper-vs-lower/resnet50-features/padded/164611.mp4.hdf5...\n",
            "Copying gs://virgosvs-ml-train/upper-vs-lower/resnet50-features/padded/164612.mp4.hdf5...\n",
            "Copying gs://virgosvs-ml-train/upper-vs-lower/resnet50-features/padded/164614.mp4.hdf5...\n",
            "Copying gs://virgosvs-ml-train/upper-vs-lower/resnet50-features/padded/164615.mp4.hdf5...\n",
            "Copying gs://virgosvs-ml-train/upper-vs-lower/resnet50-features/padded/164616.mp4.hdf5...\n",
            "Copying gs://virgosvs-ml-train/upper-vs-lower/resnet50-features/padded/164619.mp4.hdf5...\n",
            "Copying gs://virgosvs-ml-train/upper-vs-lower/resnet50-features/padded/164620.mp4.hdf5...\n",
            "Copying gs://virgosvs-ml-train/upper-vs-lower/resnet50-features/padded/164621.mp4.hdf5...\n",
            "Copying gs://virgosvs-ml-train/upper-vs-lower/resnet50-features/padded/164622.mp4.hdf5...\n",
            "Copying gs://virgosvs-ml-train/upper-vs-lower/resnet50-features/padded/164625.mp4.hdf5...\n",
            "Copying gs://virgosvs-ml-train/upper-vs-lower/resnet50-features/padded/164626.mp4.hdf5...\n",
            "Copying gs://virgosvs-ml-train/upper-vs-lower/resnet50-features/padded/164627.mp4.hdf5...\n",
            "Copying gs://virgosvs-ml-train/upper-vs-lower/resnet50-features/padded/164644.mp4.hdf5...\n",
            "Copying gs://virgosvs-ml-train/upper-vs-lower/resnet50-features/padded/164646.mp4.hdf5...\n",
            "Copying gs://virgosvs-ml-train/upper-vs-lower/resnet50-features/padded/164648.mp4.hdf5...\n",
            "Copying gs://virgosvs-ml-train/upper-vs-lower/resnet50-features/padded/164650.mp4.hdf5...\n",
            "Copying gs://virgosvs-ml-train/upper-vs-lower/resnet50-features/padded/164660.mp4.hdf5...\n",
            "Copying gs://virgosvs-ml-train/upper-vs-lower/resnet50-features/padded/164666.mp4.hdf5...\n",
            "Copying gs://virgosvs-ml-train/upper-vs-lower/resnet50-features/padded/164667.mp4.hdf5...\n",
            "Copying gs://virgosvs-ml-train/upper-vs-lower/resnet50-features/padded/165505.mp4.hdf5...\n",
            "Copying gs://virgosvs-ml-train/upper-vs-lower/resnet50-features/padded/165506.mp4.hdf5...\n",
            "Copying gs://virgosvs-ml-train/upper-vs-lower/resnet50-features/padded/165507.mp4.hdf5...\n",
            "/ [129 files][ 14.6 GiB/ 14.6 GiB]   47.9 MiB/s                                 \n",
            "==> NOTE: You are performing a sequence of gsutil operations that may\n",
            "run significantly faster if you instead use gsutil -m cp ... Please\n",
            "see the -m section under \"gsutil help options\" for further information\n",
            "about when gsutil -m can be advantageous.\n",
            "\n",
            "\n",
            "Operation completed over 129 objects/14.6 GiB.                                   \n"
          ],
          "name": "stdout"
        }
      ]
    },
    {
      "cell_type": "code",
      "metadata": {
        "id": "ofjCV0fWWetf"
      },
      "source": [
        "import numpy as np\n",
        "import pandas as pd\n",
        "import h5py"
      ],
      "execution_count": null,
      "outputs": []
    },
    {
      "cell_type": "code",
      "metadata": {
        "id": "HOG4TKSOY5Fc"
      },
      "source": [
        "metadata = pd.read_csv('/tmp/metadata/training_metadata.csv').query('available_to_intern == True')\n",
        "metadata = metadata[metadata.clip_id != 164662]"
      ],
      "execution_count": null,
      "outputs": []
    },
    {
      "cell_type": "code",
      "metadata": {
        "id": "ke1PVa5CBHty"
      },
      "source": [
        "ids = metadata.clip_id.values"
      ],
      "execution_count": null,
      "outputs": []
    },
    {
      "cell_type": "code",
      "metadata": {
        "id": "O8UHjDrqZNgX"
      },
      "source": [
        "metadata.loc[metadata.institution == \"CDC\", \"test_set\"] = 1\n",
        "metadata[\"test_set\"] = metadata[\"test_set\"].fillna(0)"
      ],
      "execution_count": null,
      "outputs": []
    },
    {
      "cell_type": "code",
      "metadata": {
        "colab": {
          "base_uri": "https://localhost:8080/"
        },
        "id": "PsG4KtekZRJY",
        "outputId": "ac012ccd-9918-4c2e-a672-3f97665bd2a7"
      },
      "source": [
        "metadata['test_set']"
      ],
      "execution_count": null,
      "outputs": [
        {
          "output_type": "execute_result",
          "data": {
            "text/plain": [
              "0      0.0\n",
              "2      0.0\n",
              "3      0.0\n",
              "5      0.0\n",
              "6      0.0\n",
              "      ... \n",
              "147    0.0\n",
              "148    0.0\n",
              "149    0.0\n",
              "151    0.0\n",
              "152    0.0\n",
              "Name: test_set, Length: 129, dtype: float64"
            ]
          },
          "metadata": {
            "tags": []
          },
          "execution_count": 34
        }
      ]
    },
    {
      "cell_type": "code",
      "metadata": {
        "id": "IsArFSq6aTOl"
      },
      "source": [
        "train_clip_ids = metadata.query('test_set==0').clip_id.values # train clip ids\n"
      ],
      "execution_count": null,
      "outputs": []
    },
    {
      "cell_type": "code",
      "metadata": {
        "id": "a-NEc_PNatg1"
      },
      "source": [
        "test_clip_ids = metadata.loc[metadata.test_set == 1].clip_id.values"
      ],
      "execution_count": null,
      "outputs": []
    },
    {
      "cell_type": "code",
      "metadata": {
        "colab": {
          "base_uri": "https://localhost:8080/"
        },
        "id": "19opE8F5a0bH",
        "outputId": "886a5aac-30a7-4bf4-e71a-7e0e74e5f1b3"
      },
      "source": [
        "test_clip_ids"
      ],
      "execution_count": null,
      "outputs": [
        {
          "output_type": "execute_result",
          "data": {
            "text/plain": [
              "array([164547, 164548, 164549, 164556, 164557, 164559, 164563, 164565,\n",
              "       164568, 164569, 164572, 164573, 164584, 164587, 164596, 164598,\n",
              "       164599, 164600, 164606, 164610])"
            ]
          },
          "metadata": {
            "tags": []
          },
          "execution_count": 37
        }
      ]
    },
    {
      "cell_type": "code",
      "metadata": {
        "id": "qHc7FIeScH_e"
      },
      "source": [
        "# metadata['labels'] = metadata.labels.replace({'upper':0., 'lower': 1.})\n",
        "metadata['labels'] = metadata['labels'].replace({'upper':0, 'lower':1}) # convert label to 1=lower 0=upper"
      ],
      "execution_count": null,
      "outputs": []
    },
    {
      "cell_type": "code",
      "metadata": {
        "id": "Zgg6-NifcuOJ"
      },
      "source": [
        "from keras.utils.np_utils import to_categorical\n",
        "labels = to_categorical(metadata.labels)"
      ],
      "execution_count": null,
      "outputs": []
    },
    {
      "cell_type": "code",
      "metadata": {
        "id": "Grnp9roppXJ3"
      },
      "source": [
        "# labels"
      ],
      "execution_count": null,
      "outputs": []
    },
    {
      "cell_type": "code",
      "metadata": {
        "id": "wLxtDPnPcu8l"
      },
      "source": [
        "def get_feature_path(clip_id):\n",
        "    return \"/tmp/features/{}.mp4.hdf5\".format(clip_id)\n",
        "\n",
        "def get_dataset(clip_id, hdf5_file):\n",
        "    '''\n",
        "    grab the 'dataset' component of the hdf5_file.\n",
        "    '''\n",
        "    return hdf5_file[\"tmp/features/{}.mp4.hdf5\".format(clip_id)]"
      ],
      "execution_count": null,
      "outputs": []
    },
    {
      "cell_type": "code",
      "metadata": {
        "id": "KcJON_5miq2C"
      },
      "source": [
        "train_hdf5_files = [h5py.File(get_feature_path(clip_id),'r') for clip_id in train_clip_ids]\n",
        "test_hdf5_files = [h5py.File(get_feature_path(clip_id),'r') for clip_id in test_clip_ids]\n",
        "\n",
        "\n"
      ],
      "execution_count": null,
      "outputs": []
    },
    {
      "cell_type": "code",
      "metadata": {
        "id": "-emxo-KqrL0J"
      },
      "source": [
        "hdf5_files = [h5py.File(get_feature_path(clip_id),'r') for clip_id in ids]"
      ],
      "execution_count": null,
      "outputs": []
    },
    {
      "cell_type": "code",
      "metadata": {
        "colab": {
          "base_uri": "https://localhost:8080/"
        },
        "id": "DY8qDi46CQD2",
        "outputId": "ebcb97bf-3e07-4ed0-d4f7-dda5a87bb9c8"
      },
      "source": [
        "len(train_hdf5_files), len(test_hdf5_files)\n"
      ],
      "execution_count": null,
      "outputs": [
        {
          "output_type": "execute_result",
          "data": {
            "text/plain": [
              "(109, 20)"
            ]
          },
          "metadata": {
            "tags": []
          },
          "execution_count": 44
        }
      ]
    },
    {
      "cell_type": "code",
      "metadata": {
        "colab": {
          "base_uri": "https://localhost:8080/"
        },
        "id": "uxKSegkoCqp0",
        "outputId": "38b68872-8e95-43bd-d916-3b0dfc5949e0"
      },
      "source": [
        "set(train_hdf5_files).intersection(set(test_hdf5_files)) # check dataleakage --> empty set\n"
      ],
      "execution_count": null,
      "outputs": [
        {
          "output_type": "execute_result",
          "data": {
            "text/plain": [
              "set()"
            ]
          },
          "metadata": {
            "tags": []
          },
          "execution_count": 45
        }
      ]
    },
    {
      "cell_type": "code",
      "metadata": {
        "id": "KhFDWzvTjfv4"
      },
      "source": [
        "trainset = {} # {'clip_id': dataset, '':}\n",
        "for clip_id, hdf5_file in zip(train_clip_ids, train_hdf5_files):\n",
        "    trainset[clip_id] = get_dataset(clip_id, hdf5_file)\n",
        "\n",
        "testset = {}\n",
        "for clip_id, hdf5_file in zip(test_clip_ids, test_hdf5_files):\n",
        "    testset[clip_id] = get_dataset(clip_id, hdf5_file)"
      ],
      "execution_count": null,
      "outputs": []
    },
    {
      "cell_type": "code",
      "metadata": {
        "colab": {
          "base_uri": "https://localhost:8080/"
        },
        "id": "3t0eo_fjC7WO",
        "outputId": "03183521-37aa-4e79-caee-2a363d51b3c5"
      },
      "source": [
        "trainset[train_clip_ids[0]][0].shape"
      ],
      "execution_count": null,
      "outputs": [
        {
          "output_type": "execute_result",
          "data": {
            "text/plain": [
              "(2048,)"
            ]
          },
          "metadata": {
            "tags": []
          },
          "execution_count": 47
        }
      ]
    },
    {
      "cell_type": "code",
      "metadata": {
        "id": "U9l4j64YFiqF"
      },
      "source": [
        " dataset_labels = dict(zip(metadata['clip_id'], labels)) # {clip_id: label}"
      ],
      "execution_count": null,
      "outputs": []
    },
    {
      "cell_type": "code",
      "metadata": {
        "id": "YmDL-AyBEjuH"
      },
      "source": [
        "# dataset_labels"
      ],
      "execution_count": null,
      "outputs": []
    },
    {
      "cell_type": "code",
      "metadata": {
        "colab": {
          "base_uri": "https://localhost:8080/"
        },
        "id": "dlu-340bj_28",
        "outputId": "451937ca-8084-4136-8a72-0aaf35d261fc"
      },
      "source": [
        "clip_id = train_clip_ids[0]\n",
        "frame_data = trainset[clip_id]\n",
        "random_idxs = np.random.choice(len(frame_data), size=20)\n",
        "random_idxs.sort()\n",
        "random_frames = frame_data[random_idxs]\n",
        "random_frames\n"
      ],
      "execution_count": null,
      "outputs": [
        {
          "output_type": "execute_result",
          "data": {
            "text/plain": [
              "array([[0.78480613, 0.18085735, 0.55615497, ..., 0.30356652, 0.20505346,\n",
              "        1.206269  ],\n",
              "       [0.43852425, 0.15506268, 0.01746236, ..., 0.        , 0.24620907,\n",
              "        0.14649667],\n",
              "       [1.9493349 , 0.6037125 , 0.16683033, ..., 0.11855523, 0.26602083,\n",
              "        0.16930553],\n",
              "       ...,\n",
              "       [1.9735545 , 0.154144  , 0.00463026, ..., 0.01139247, 1.0278682 ,\n",
              "        0.13544235],\n",
              "       [0.35198265, 0.02602563, 0.        , ..., 0.        , 0.024617  ,\n",
              "        0.14581598],\n",
              "       [0.49227694, 0.8163984 , 0.03303427, ..., 0.01302283, 0.27322417,\n",
              "        0.05570493]], dtype=float32)"
            ]
          },
          "metadata": {
            "tags": []
          },
          "execution_count": 50
        }
      ]
    },
    {
      "cell_type": "code",
      "metadata": {
        "id": "QV5AoTiRkBuF"
      },
      "source": [
        "def get_random_frames(clip_id, n=1):\n",
        "    frame_data = trainset[clip_id] # only trainset\n",
        "    random_idxs = np.random.choice(len(frame_data), size=n)\n",
        "    random_idxs.sort()\n",
        "    return frame_data[random_idxs]\n",
        "\n",
        "def random_batch(clip_list, batch_size=32):\n",
        "    x = np.zeros(shape=(batch_size, 2048))\n",
        "    y = np.zeros(shape=(batch_size,2))\n",
        "    for i in range(batch_size):\n",
        "        clip_id = np.random.choice(clip_list)\n",
        "        frames = get_random_frames(clip_id) # 1 frame if n=1\n",
        "        clip_label = dataset_labels[clip_id]\n",
        "        x[i] = frames\n",
        "        y[i] = clip_label\n",
        "    return x, y\n",
        "\n",
        "def gen_test_batch(test_clip_ids,batch_size=32):\n",
        "    #test_frames = np.sum([testset[clip_id].shape[0] for clip_id in test_clip_ids])\n",
        "    # x = np.zeros(shape=(batch_size, 2048))\n",
        "    x = np.vstack([testset[clip_id] for clip_id in test_clip_ids])\n",
        "    # y = np.vstack([[dataset_labels[clip_id]] * testset[clip_id].shape[0] for clip_id in test_clip_ids]).reshape(-1, 1)\n",
        "    y = np.vstack([[dataset_labels[clip_id]] * testset[clip_id].shape[0] for clip_id in test_clip_ids]).reshape(-1, 2)\n",
        "    return x, y\n"
      ],
      "execution_count": null,
      "outputs": []
    },
    {
      "cell_type": "code",
      "metadata": {
        "colab": {
          "base_uri": "https://localhost:8080/"
        },
        "id": "Ip8hPLdckXek",
        "outputId": "bb367755-4f2a-4d19-c21e-6f2af8494a05"
      },
      "source": [
        "# gen big training batch\n",
        "batch_x, batch_y = random_batch(train_clip_ids, 3000)   \n",
        "print('X shape:', batch_x.shape, 'y shape:', batch_y.shape)"
      ],
      "execution_count": null,
      "outputs": [
        {
          "output_type": "stream",
          "text": [
            "X shape: (3000, 2048) y shape: (3000, 2)\n"
          ],
          "name": "stdout"
        }
      ]
    },
    {
      "cell_type": "markdown",
      "metadata": {
        "id": "7xSumWQOS9UN"
      },
      "source": [
        ""
      ]
    },
    {
      "cell_type": "code",
      "metadata": {
        "colab": {
          "base_uri": "https://localhost:8080/"
        },
        "id": "jztBghO4txNL",
        "outputId": "eda5c003-5287-42f4-8fcf-aa49ade46403"
      },
      "source": [
        "np.unique(batch_y, return_counts=True) # y_train distribution"
      ],
      "execution_count": null,
      "outputs": [
        {
          "output_type": "execute_result",
          "data": {
            "text/plain": [
              "(array([0., 1.]), array([3000, 3000]))"
            ]
          },
          "metadata": {
            "tags": []
          },
          "execution_count": 53
        }
      ]
    },
    {
      "cell_type": "code",
      "metadata": {
        "colab": {
          "base_uri": "https://localhost:8080/"
        },
        "id": "efvdtRA-w8iM",
        "outputId": "815bece0-b784-4379-d8de-795755589775"
      },
      "source": [
        "x_test, y_test = gen_test_batch(test_clip_ids)   \n",
        "print('X shape:', x_test.shape, 'y shape:', y_test.shape)"
      ],
      "execution_count": null,
      "outputs": [
        {
          "output_type": "stream",
          "text": [
            "X shape: (440827, 2048) y shape: (440827, 2)\n"
          ],
          "name": "stdout"
        }
      ]
    },
    {
      "cell_type": "code",
      "metadata": {
        "colab": {
          "base_uri": "https://localhost:8080/"
        },
        "id": "SFcE8i9GzeC0",
        "outputId": "d8a43b34-dd77-4d48-8faf-f8ec7f1db04a"
      },
      "source": [
        "print(y_test.shape)"
      ],
      "execution_count": null,
      "outputs": [
        {
          "output_type": "stream",
          "text": [
            "(440827, 2)\n"
          ],
          "name": "stdout"
        }
      ]
    },
    {
      "cell_type": "code",
      "metadata": {
        "colab": {
          "base_uri": "https://localhost:8080/"
        },
        "id": "iG4xBY1tIV-2",
        "outputId": "5341c345-a556-4d37-e697-62eb977de4f0"
      },
      "source": [
        "np.unique(y_test, return_counts=True) # y_test distribution"
      ],
      "execution_count": null,
      "outputs": [
        {
          "output_type": "execute_result",
          "data": {
            "text/plain": [
              "(array([0., 1.], dtype=float32), array([440827, 440827]))"
            ]
          },
          "metadata": {
            "tags": []
          },
          "execution_count": 56
        }
      ]
    },
    {
      "cell_type": "code",
      "metadata": {
        "id": "HaT4_ln3Iwcj"
      },
      "source": [
        ""
      ],
      "execution_count": null,
      "outputs": []
    },
    {
      "cell_type": "code",
      "metadata": {
        "id": "Zwn_uvYOJBQB"
      },
      "source": [
        "# Model Trainig with Keras "
      ],
      "execution_count": null,
      "outputs": []
    },
    {
      "cell_type": "code",
      "metadata": {
        "id": "ruHRN5suJFZ1"
      },
      "source": [
        "import keras\n",
        "from keras.models import Sequential\n",
        "from keras.layers import Dense\n",
        "from keras.callbacks import EarlyStopping\n"
      ],
      "execution_count": null,
      "outputs": []
    },
    {
      "cell_type": "code",
      "metadata": {
        "colab": {
          "base_uri": "https://localhost:8080/"
        },
        "id": "2uyAvfIpJZKU",
        "outputId": "08014043-5cd7-41cb-ccb2-25f182278c41"
      },
      "source": [
        "feature_dim = 2048\n",
        "model = Sequential()\n",
        "\n",
        "model.add(Dense(50, activation='relu', input_shape=(feature_dim,)))\n",
        "model.add(Dense(2, activation='softmax'))\n",
        "model.summary() \n",
        "\n",
        "# compile\n",
        "model.compile(loss='categorical_crossentropy', \n",
        "              optimizer='adam',\n",
        "              metrics=[keras.metrics.AUC()])\n",
        "#\n",
        "earlystopping = EarlyStopping(patience=5, restore_best_weights=True)\n",
        "# train !\n",
        "history = model.fit(batch_x, \n",
        "                    batch_y,\n",
        "                    epochs=100, # Number of passes over complete dataset\n",
        "                    verbose=True, \n",
        "                    batch_size = 64,\n",
        "                    callbacks=[earlystopping],\n",
        "                    validation_split=0.2)\n",
        "\n"
      ],
      "execution_count": null,
      "outputs": [
        {
          "output_type": "stream",
          "text": [
            "Model: \"sequential_1\"\n",
            "_________________________________________________________________\n",
            "Layer (type)                 Output Shape              Param #   \n",
            "=================================================================\n",
            "dense_2 (Dense)              (None, 50)                102450    \n",
            "_________________________________________________________________\n",
            "dense_3 (Dense)              (None, 2)                 102       \n",
            "=================================================================\n",
            "Total params: 102,552\n",
            "Trainable params: 102,552\n",
            "Non-trainable params: 0\n",
            "_________________________________________________________________\n",
            "Epoch 1/100\n",
            "38/38 [==============================] - 2s 16ms/step - loss: 0.8969 - auc_1: 0.5241 - val_loss: 0.5766 - val_auc_1: 0.7807\n",
            "Epoch 2/100\n",
            "38/38 [==============================] - 0s 7ms/step - loss: 0.5274 - auc_1: 0.8242 - val_loss: 0.4344 - val_auc_1: 0.8882\n",
            "Epoch 3/100\n",
            "38/38 [==============================] - 0s 6ms/step - loss: 0.4365 - auc_1: 0.8819 - val_loss: 0.3924 - val_auc_1: 0.9044\n",
            "Epoch 4/100\n",
            "38/38 [==============================] - 0s 7ms/step - loss: 0.3635 - auc_1: 0.9203 - val_loss: 0.3631 - val_auc_1: 0.9199\n",
            "Epoch 5/100\n",
            "38/38 [==============================] - 0s 6ms/step - loss: 0.3377 - auc_1: 0.9337 - val_loss: 0.3397 - val_auc_1: 0.9299\n",
            "Epoch 6/100\n",
            "38/38 [==============================] - 0s 6ms/step - loss: 0.2878 - auc_1: 0.9545 - val_loss: 0.3443 - val_auc_1: 0.9269\n",
            "Epoch 7/100\n",
            "38/38 [==============================] - 0s 7ms/step - loss: 0.2617 - auc_1: 0.9628 - val_loss: 0.3059 - val_auc_1: 0.9435\n",
            "Epoch 8/100\n",
            "38/38 [==============================] - 0s 6ms/step - loss: 0.2468 - auc_1: 0.9681 - val_loss: 0.3042 - val_auc_1: 0.9430\n",
            "Epoch 9/100\n",
            "38/38 [==============================] - 0s 6ms/step - loss: 0.2204 - auc_1: 0.9736 - val_loss: 0.3092 - val_auc_1: 0.9409\n",
            "Epoch 10/100\n",
            "38/38 [==============================] - 0s 6ms/step - loss: 0.2105 - auc_1: 0.9780 - val_loss: 0.2901 - val_auc_1: 0.9484\n",
            "Epoch 11/100\n",
            "38/38 [==============================] - 0s 7ms/step - loss: 0.1897 - auc_1: 0.9830 - val_loss: 0.2965 - val_auc_1: 0.9464\n",
            "Epoch 12/100\n",
            "38/38 [==============================] - 0s 6ms/step - loss: 0.1735 - auc_1: 0.9851 - val_loss: 0.3050 - val_auc_1: 0.9435\n",
            "Epoch 13/100\n",
            "38/38 [==============================] - 0s 6ms/step - loss: 0.1547 - auc_1: 0.9892 - val_loss: 0.2845 - val_auc_1: 0.9508\n",
            "Epoch 14/100\n",
            "38/38 [==============================] - 0s 6ms/step - loss: 0.1485 - auc_1: 0.9898 - val_loss: 0.2899 - val_auc_1: 0.9496\n",
            "Epoch 15/100\n",
            "38/38 [==============================] - 0s 6ms/step - loss: 0.1406 - auc_1: 0.9906 - val_loss: 0.2810 - val_auc_1: 0.9532\n",
            "Epoch 16/100\n",
            "38/38 [==============================] - 0s 6ms/step - loss: 0.1120 - auc_1: 0.9960 - val_loss: 0.2841 - val_auc_1: 0.9525\n",
            "Epoch 17/100\n",
            "38/38 [==============================] - 0s 6ms/step - loss: 0.1107 - auc_1: 0.9969 - val_loss: 0.3036 - val_auc_1: 0.9475\n",
            "Epoch 18/100\n",
            "38/38 [==============================] - 0s 6ms/step - loss: 0.1262 - auc_1: 0.9933 - val_loss: 0.2969 - val_auc_1: 0.9503\n",
            "Epoch 19/100\n",
            "38/38 [==============================] - 0s 6ms/step - loss: 0.0926 - auc_1: 0.9973 - val_loss: 0.3179 - val_auc_1: 0.9453\n",
            "Epoch 20/100\n",
            "38/38 [==============================] - 0s 7ms/step - loss: 0.0810 - auc_1: 0.9988 - val_loss: 0.3060 - val_auc_1: 0.9497\n"
          ],
          "name": "stdout"
        }
      ]
    },
    {
      "cell_type": "code",
      "metadata": {
        "colab": {
          "base_uri": "https://localhost:8080/"
        },
        "id": "EgO9w1ujKQ5f",
        "outputId": "0e0a91ad-2755-46c2-ce6b-597bd354a2bf"
      },
      "source": [
        "# Evaluate\n",
        "loss, auc = model.evaluate(x_test, \n",
        "                          y_test,\n",
        "                          verbose=True)\n",
        "print(f\"Test loss: {loss:.3}\")\n",
        "print(f\"Test AUC: {auc:.3%}\")"
      ],
      "execution_count": null,
      "outputs": [
        {
          "output_type": "stream",
          "text": [
            "13776/13776 [==============================] - 27s 2ms/step - loss: 0.5558 - auc_1: 0.8426\n",
            "Test loss: 0.556\n",
            "Test AUC: 84.264%\n"
          ],
          "name": "stdout"
        }
      ]
    },
    {
      "cell_type": "code",
      "metadata": {
        "id": "48nJirmdNF_p"
      },
      "source": [
        ""
      ],
      "execution_count": null,
      "outputs": []
    },
    {
      "cell_type": "code",
      "metadata": {
        "id": "ij5oIqbjNZnJ"
      },
      "source": [
        "def predict_video_class(clip_ids):\n",
        "    avg_pred = []\n",
        "    for clip_id in clip_ids:\n",
        "        pred = model.predict(np.array(testset[clip_id]))\n",
        "        avg = np.mean(pred, axis=0)\n",
        "        avg_pred.append(avg)  \n",
        "    return np.array(avg_pred)"
      ],
      "execution_count": null,
      "outputs": []
    },
    {
      "cell_type": "code",
      "metadata": {
        "id": "qIP_FQUBNbiH"
      },
      "source": [
        "cdc_preds = predict_video_class(test_clip_ids)\n"
      ],
      "execution_count": null,
      "outputs": []
    },
    {
      "cell_type": "code",
      "metadata": {
        "colab": {
          "base_uri": "https://localhost:8080/"
        },
        "id": "KTiE8GLjVSsE",
        "outputId": "2cc219cc-3a76-4042-8efc-0c2bbfd490d9"
      },
      "source": [
        "cdc_labels =[dataset_labels[clip_id] for clip_id in test_clip_ids]\n",
        "cdc_labels"
      ],
      "execution_count": null,
      "outputs": [
        {
          "output_type": "execute_result",
          "data": {
            "text/plain": [
              "[array([0., 1.], dtype=float32),\n",
              " array([1., 0.], dtype=float32),\n",
              " array([1., 0.], dtype=float32),\n",
              " array([0., 1.], dtype=float32),\n",
              " array([0., 1.], dtype=float32),\n",
              " array([1., 0.], dtype=float32),\n",
              " array([0., 1.], dtype=float32),\n",
              " array([0., 1.], dtype=float32),\n",
              " array([1., 0.], dtype=float32),\n",
              " array([0., 1.], dtype=float32),\n",
              " array([1., 0.], dtype=float32),\n",
              " array([1., 0.], dtype=float32),\n",
              " array([0., 1.], dtype=float32),\n",
              " array([0., 1.], dtype=float32),\n",
              " array([1., 0.], dtype=float32),\n",
              " array([1., 0.], dtype=float32),\n",
              " array([0., 1.], dtype=float32),\n",
              " array([0., 1.], dtype=float32),\n",
              " array([1., 0.], dtype=float32),\n",
              " array([1., 0.], dtype=float32)]"
            ]
          },
          "metadata": {
            "tags": []
          },
          "execution_count": 63
        }
      ]
    },
    {
      "cell_type": "code",
      "metadata": {
        "id": "V_LOCiXjSI_U"
      },
      "source": [
        "from sklearn.metrics import roc_auc_score, roc_curve, f1_score"
      ],
      "execution_count": null,
      "outputs": []
    },
    {
      "cell_type": "code",
      "metadata": {
        "id": "cGWg41WtSvuC"
      },
      "source": [
        "# test_result = pd.DataFrame(data={'clip_id': test_clip_ids,\n",
        "#                    'labels': cdc_labels,\n",
        "#                    'predict_proba': cdc_preds})\n",
        "# # test_result"
      ],
      "execution_count": null,
      "outputs": []
    },
    {
      "cell_type": "code",
      "metadata": {
        "colab": {
          "base_uri": "https://localhost:8080/"
        },
        "id": "3NAZNfiPeK2K",
        "outputId": "b8705d16-e9f5-4839-df0d-3340d858bd4e"
      },
      "source": [
        "y_score = np.array(cdc_preds).reshape(-1,1)\n",
        "y_score\n"
      ],
      "execution_count": null,
      "outputs": [
        {
          "output_type": "execute_result",
          "data": {
            "text/plain": [
              "array([[0.35217988],\n",
              "       [0.6478236 ],\n",
              "       [0.83675563],\n",
              "       [0.16324967],\n",
              "       [0.845216  ],\n",
              "       [0.15478382],\n",
              "       [0.28559253],\n",
              "       [0.7144089 ],\n",
              "       [0.288456  ],\n",
              "       [0.7115467 ],\n",
              "       [0.7972085 ],\n",
              "       [0.20279072],\n",
              "       [0.27283862],\n",
              "       [0.7271632 ],\n",
              "       [0.24688275],\n",
              "       [0.7531177 ],\n",
              "       [0.7882585 ],\n",
              "       [0.2117432 ],\n",
              "       [0.7457228 ],\n",
              "       [0.25427702],\n",
              "       [0.8665539 ],\n",
              "       [0.13344595],\n",
              "       [0.76391506],\n",
              "       [0.23608421],\n",
              "       [0.26655936],\n",
              "       [0.733445  ],\n",
              "       [0.27184287],\n",
              "       [0.7281621 ],\n",
              "       [0.8528165 ],\n",
              "       [0.14718406],\n",
              "       [0.8062099 ],\n",
              "       [0.19379571],\n",
              "       [0.319133  ],\n",
              "       [0.68086845],\n",
              "       [0.32191914],\n",
              "       [0.6780825 ],\n",
              "       [0.76836777],\n",
              "       [0.23163413],\n",
              "       [0.7953548 ],\n",
              "       [0.20464812]], dtype=float32)"
            ]
          },
          "metadata": {
            "tags": []
          },
          "execution_count": 65
        }
      ]
    },
    {
      "cell_type": "code",
      "metadata": {
        "colab": {
          "base_uri": "https://localhost:8080/"
        },
        "id": "v5iDU4zESwpA",
        "outputId": "dd79b046-f7c1-47d5-b34a-01d15c7ffe6c"
      },
      "source": [
        "# roc_auc_score(cdc_labels, np.array(cdc_preds).reshape(-1,1))\n",
        "roc_auc_score(cdc_labels, cdc_preds)"
      ],
      "execution_count": null,
      "outputs": [
        {
          "output_type": "execute_result",
          "data": {
            "text/plain": [
              "1.0"
            ]
          },
          "metadata": {
            "tags": []
          },
          "execution_count": 68
        }
      ]
    },
    {
      "cell_type": "markdown",
      "metadata": {
        "id": "lRIWQBQrlRKO"
      },
      "source": [
        "HyperParameter Tunning \n",
        "Randomized Search "
      ]
    },
    {
      "cell_type": "code",
      "metadata": {
        "id": "44LYWWy7mvvy"
      },
      "source": [
        "def create_model(learning_rate=3e-3, reg_coeff=0.001,nl=1,nn=256):\n",
        "    model = keras.models.Sequential()\n",
        "    model.add(Dense(50, activation='relu', input_shape=(feature_dim,)))\n",
        "    model.add(Dense(2, activation='softmax'))\n",
        "    # model.add(Dense(units=1, activation='sigmoid', kernel_regularizer=keras.regularizers.l2(reg_coeff)) )\n",
        "    optimizer = keras.optimizers.SGD(lr=learning_rate)\n",
        "    # compile\n",
        "      \n",
        "    model.compile(loss='categorical_crossentropy', \n",
        "            optimizer=optimizer,\n",
        "            metrics=[keras.metrics.AUC()])\n",
        "    return model\n",
        "\n",
        "feature_dim = 2048\n",
        "# model = Sequential()\n",
        "\n"
      ],
      "execution_count": null,
      "outputs": []
    },
    {
      "cell_type": "code",
      "metadata": {
        "colab": {
          "base_uri": "https://localhost:8080/"
        },
        "id": "KR7bI2C9h-bi",
        "outputId": "b24f707e-f963-4fe9-a118-ba6a800fb0d2"
      },
      "source": [
        "from sklearn.model_selection import RandomizedSearchCV\n",
        "# Import sklearn wrapper from keras\n",
        "from keras.wrappers.scikit_learn import KerasClassifier\n",
        "# Create a model as a sklearn \n",
        "estimatormodel = KerasClassifier(create_model)\n",
        "\n",
        "keras_clf = keras.wrappers.scikit_learn.KerasClassifier(create_model, epochs=4, batch_size=64)\n",
        "params = {\n",
        "    \"reg_coeff\": [0.001, 0.01], \n",
        "    \"learning_rate\": [0.001,0.01]\n",
        "    # \"nl\": [1, 2, 9],\n",
        "    # \"nn\":[10,50,100,1000]\n",
        "}\n",
        "\n",
        "rnd_search_cv = RandomizedSearchCV(keras_clf, params, n_iter=1, cv=3, scoring='roc_auc')\n",
        "rnd_search_cv.fit(batch_x, batch_y)"
      ],
      "execution_count": null,
      "outputs": [
        {
          "output_type": "stream",
          "text": [
            "Epoch 1/4\n",
            "313/313 [==============================] - 2s 4ms/step - loss: 0.6505 - auc_67: 0.6777\n",
            "Epoch 2/4\n",
            "313/313 [==============================] - 1s 3ms/step - loss: 0.4961 - auc_67: 0.8432\n",
            "Epoch 3/4\n",
            "313/313 [==============================] - 1s 3ms/step - loss: 0.4493 - auc_67: 0.8751\n",
            "Epoch 4/4\n",
            "313/313 [==============================] - 1s 3ms/step - loss: 0.4201 - auc_67: 0.8927\n"
          ],
          "name": "stdout"
        },
        {
          "output_type": "stream",
          "text": [
            "/usr/local/lib/python3.7/dist-packages/tensorflow/python/keras/engine/sequential.py:425: UserWarning: `model.predict_proba()` is deprecated and will be removed after 2021-01-01. Please use `model.predict()` instead.\n",
            "  warnings.warn('`model.predict_proba()` is deprecated and '\n"
          ],
          "name": "stderr"
        },
        {
          "output_type": "stream",
          "text": [
            "Epoch 1/4\n",
            "313/313 [==============================] - 2s 3ms/step - loss: 0.6443 - auc_68: 0.7150\n",
            "Epoch 2/4\n",
            "313/313 [==============================] - 1s 3ms/step - loss: 0.4759 - auc_68: 0.8563\n",
            "Epoch 3/4\n",
            "313/313 [==============================] - 1s 3ms/step - loss: 0.4370 - auc_68: 0.8818\n",
            "Epoch 4/4\n",
            "313/313 [==============================] - 1s 3ms/step - loss: 0.4009 - auc_68: 0.9025\n"
          ],
          "name": "stdout"
        },
        {
          "output_type": "stream",
          "text": [
            "/usr/local/lib/python3.7/dist-packages/tensorflow/python/keras/engine/sequential.py:425: UserWarning: `model.predict_proba()` is deprecated and will be removed after 2021-01-01. Please use `model.predict()` instead.\n",
            "  warnings.warn('`model.predict_proba()` is deprecated and '\n"
          ],
          "name": "stderr"
        },
        {
          "output_type": "stream",
          "text": [
            "Epoch 1/4\n",
            "313/313 [==============================] - 1s 3ms/step - loss: 0.6227 - auc_69: 0.7170\n",
            "Epoch 2/4\n",
            "313/313 [==============================] - 1s 3ms/step - loss: 0.4908 - auc_69: 0.8470\n",
            "Epoch 3/4\n",
            "313/313 [==============================] - 1s 3ms/step - loss: 0.4429 - auc_69: 0.8791\n",
            "Epoch 4/4\n",
            "313/313 [==============================] - 1s 3ms/step - loss: 0.4135 - auc_69: 0.8964\n"
          ],
          "name": "stdout"
        },
        {
          "output_type": "stream",
          "text": [
            "/usr/local/lib/python3.7/dist-packages/tensorflow/python/keras/engine/sequential.py:425: UserWarning: `model.predict_proba()` is deprecated and will be removed after 2021-01-01. Please use `model.predict()` instead.\n",
            "  warnings.warn('`model.predict_proba()` is deprecated and '\n"
          ],
          "name": "stderr"
        },
        {
          "output_type": "stream",
          "text": [
            "Epoch 1/4\n",
            "469/469 [==============================] - 2s 3ms/step - loss: 0.6153 - auc_70: 0.7217\n",
            "Epoch 2/4\n",
            "469/469 [==============================] - 1s 3ms/step - loss: 0.4671 - auc_70: 0.8634\n",
            "Epoch 3/4\n",
            "469/469 [==============================] - 1s 3ms/step - loss: 0.4203 - auc_70: 0.8926\n",
            "Epoch 4/4\n",
            "469/469 [==============================] - 1s 3ms/step - loss: 0.3923 - auc_70: 0.9068\n"
          ],
          "name": "stdout"
        },
        {
          "output_type": "execute_result",
          "data": {
            "text/plain": [
              "RandomizedSearchCV(cv=3, error_score=nan,\n",
              "                   estimator=<tensorflow.python.keras.wrappers.scikit_learn.KerasClassifier object at 0x7f729f5a7a10>,\n",
              "                   iid='deprecated', n_iter=1, n_jobs=None,\n",
              "                   param_distributions={'learning_rate': [0.001, 0.01],\n",
              "                                        'reg_coeff': [0.001, 0.01]},\n",
              "                   pre_dispatch='2*n_jobs', random_state=None, refit=True,\n",
              "                   return_train_score=False, scoring='roc_auc', verbose=0)"
            ]
          },
          "metadata": {
            "tags": []
          },
          "execution_count": 63
        }
      ]
    },
    {
      "cell_type": "code",
      "metadata": {
        "colab": {
          "base_uri": "https://localhost:8080/"
        },
        "id": "KxrQfOPJpt_q",
        "outputId": "ce96d31a-14a6-46c7-efbd-bfa0e184087f"
      },
      "source": [
        "print(\"Best: {} using {}\".format(rnd_search_cv.best_score_,rnd_search_cv.best_params_))"
      ],
      "execution_count": null,
      "outputs": [
        {
          "output_type": "stream",
          "text": [
            "Best: 0.90288710533033 using {'reg_coeff': 0.001, 'learning_rate': 0.001}\n"
          ],
          "name": "stdout"
        }
      ]
    },
    {
      "cell_type": "markdown",
      "metadata": {
        "id": "Ft4fULElrYIX"
      },
      "source": [
        "Keras Tuner"
      ]
    },
    {
      "cell_type": "code",
      "metadata": {
        "id": "GcIO_0GAzOAB"
      },
      "source": [
        "! mkdir /tmp/test_videos"
      ],
      "execution_count": null,
      "outputs": []
    },
    {
      "cell_type": "code",
      "metadata": {
        "colab": {
          "base_uri": "https://localhost:8080/"
        },
        "id": "UtsBSyEpzHr-",
        "outputId": "d858ee58-d495-4f83-ee55-22090e99cf7d"
      },
      "source": [
        "!gsutil cp gs://virgosvs-ml-train/upper-vs-lower/additional/clips/*.mp4 /tmp/test_videos"
      ],
      "execution_count": null,
      "outputs": [
        {
          "output_type": "stream",
          "text": [
            "Copying gs://virgosvs-ml-train/upper-vs-lower/additional/clips/152003.224378.mp4...\n",
            "Copying gs://virgosvs-ml-train/upper-vs-lower/additional/clips/152034.224418.mp4...\n",
            "Copying gs://virgosvs-ml-train/upper-vs-lower/additional/clips/152039.224426.mp4...\n",
            "Copying gs://virgosvs-ml-train/upper-vs-lower/additional/clips/152040.224427.mp4...\n",
            "/ [4 files][  1.1 GiB/  1.1 GiB]   58.9 MiB/s                                   \n",
            "==> NOTE: You are performing a sequence of gsutil operations that may\n",
            "run significantly faster if you instead use gsutil -m cp ... Please\n",
            "see the -m section under \"gsutil help options\" for further information\n",
            "about when gsutil -m can be advantageous.\n",
            "\n",
            "Copying gs://virgosvs-ml-train/upper-vs-lower/additional/clips/152043.224431.mp4...\n",
            "Copying gs://virgosvs-ml-train/upper-vs-lower/additional/clips/152049.224439.mp4...\n",
            "Copying gs://virgosvs-ml-train/upper-vs-lower/additional/clips/152052.224443.mp4...\n",
            "Copying gs://virgosvs-ml-train/upper-vs-lower/additional/clips/152053.224444.mp4...\n",
            "Copying gs://virgosvs-ml-train/upper-vs-lower/additional/clips/152055.224446.mp4...\n",
            "Copying gs://virgosvs-ml-train/upper-vs-lower/additional/clips/152059.224450.mp4...\n",
            "Copying gs://virgosvs-ml-train/upper-vs-lower/additional/clips/152061.224453.mp4...\n",
            "Copying gs://virgosvs-ml-train/upper-vs-lower/additional/clips/152068.224462.mp4...\n",
            "Copying gs://virgosvs-ml-train/upper-vs-lower/additional/clips/152070.224464.mp4...\n",
            "Copying gs://virgosvs-ml-train/upper-vs-lower/additional/clips/152077.224475.mp4...\n",
            "- [14 files][  4.4 GiB/  4.4 GiB]   50.9 MiB/s                                  \n",
            "Operation completed over 14 objects/4.4 GiB.                                     \n"
          ],
          "name": "stdout"
        }
      ]
    },
    {
      "cell_type": "code",
      "metadata": {
        "id": "krNrhD-arVAW"
      },
      "source": [
        "import cv2\n",
        "from keras.applications.resnet50 import ResNet50\n",
        "model = ResNet50( weights='imagenet', pooling='avg', include_top = False) # avg pooling\n",
        "GREY_THRESH = 5\n",
        "PAD_COLOR = [0, 0, 0]\n",
        "def _nongrey_pixel_mask(frame, grey_threshold=GREY_THRESH):\n",
        "    greyscale = cv2.cvtColor(frame, cv2.COLOR_BGR2GRAY)\n",
        "    color_diff = cv2.absdiff(frame, cv2.cvtColor(greyscale, cv2.COLOR_GRAY2BGR))\n",
        "    color_diff_grey = cv2.cvtColor(color_diff, cv2.COLOR_BGR2GRAY)\n",
        "    _, non_grey_pixels = cv2.threshold(color_diff_grey, grey_threshold, 255, cv2.THRESH_BINARY)\n",
        "    return non_grey_pixels\n",
        "\n",
        "\n",
        "def _get_bounding_box(frame, grey_threshold=GREY_THRESH):\n",
        "    nongrey_pixels = _nongrey_pixel_mask(frame, grey_threshold)\n",
        "    kernel = cv2.getStructuringElement(shape=cv2.MORPH_RECT, ksize=(5, 5))\n",
        "    tmp = cv2.cvtColor(nongrey_pixels, cv2.COLOR_GRAY2BGR)\n",
        "    tmp = cv2.morphologyEx(tmp, cv2.MORPH_OPEN, kernel, iterations=3)\n",
        "    tmp = cv2.cvtColor(tmp, cv2.COLOR_BGR2GRAY)\n",
        "    return cv2.boundingRect(tmp)\n",
        "\n",
        "\n",
        "def get_median_bounding_box(path, n_samples=20, grey_threshold=GREY_THRESH):\n",
        "    video = cv2.VideoCapture(path)\n",
        "    total_frames = int(video.get(cv2.CAP_PROP_FRAME_COUNT))\n",
        "    sample_frames = np.linspace(0, total_frames - 1, num=n_samples).astype(int)\n",
        "\n",
        "    bbs = []\n",
        "    for frame_idx in sample_frames:\n",
        "        video.set(cv2.CAP_PROP_POS_FRAMES, frame_idx)\n",
        "        ret, frame = video.read()\n",
        "        bb = _get_bounding_box(frame, grey_threshold=grey_threshold)\n",
        "        bbs.append(bb)\n",
        "\n",
        "    return np.median(bbs, axis=0)"
      ],
      "execution_count": null,
      "outputs": []
    },
    {
      "cell_type": "code",
      "metadata": {
        "id": "-e0PVVA9jEAD"
      },
      "source": [
        "class FramePreprocessor:\n",
        "    def __init__(self, target_w: int, target_h: int):\n",
        "        self.target_w = target_w\n",
        "        self.target_h = target_h\n",
        "        self.target_ratio = target_w/float(target_h)\n",
        "\n",
        "    def simple_crop(self, frame, bounding_box):\n",
        "        # crop:\n",
        "        left, right = int(bounding_box[0]), int(bounding_box[0] + bounding_box[2])\n",
        "        top, bottom = int(bounding_box[1]), int(bounding_box[1] + bounding_box[3])\n",
        "        cropped_frame = frame[top:bottom, left:right]\n",
        "        # resize:\n",
        "        input_w, input_h = bounding_box[2], bounding_box[3]\n",
        "        input_ratio = input_w / float(input_h)\n",
        "        if input_ratio > self.target_ratio:\n",
        "            resized_w = self.target_w\n",
        "            resized_h = int(self.target_w/input_ratio)\n",
        "        else:\n",
        "            resized_h = self.target_h\n",
        "            resized_w = int(self.target_h*input_ratio)\n",
        "        resized = cv2.resize(cropped_frame, (resized_w, resized_h))\n",
        "        # pad:\n",
        "        delta_w, delta_h = self.target_w - resized_w, self.target_h - resized_h\n",
        "        top_pad, bottom_pad = delta_h // 2, delta_h - (delta_h // 2)\n",
        "        left_pad, right_pad = delta_w // 2, delta_w - (delta_w // 2)\n",
        "        padded = cv2.copyMakeBorder(resized, top_pad, bottom_pad, left_pad, right_pad, cv2.BORDER_CONSTANT,\n",
        "                                    value=PAD_COLOR)\n",
        "        return padded"
      ],
      "execution_count": null,
      "outputs": []
    },
    {
      "cell_type": "code",
      "metadata": {
        "id": "AQUb8_b9EmP3"
      },
      "source": [
        ""
      ],
      "execution_count": null,
      "outputs": []
    },
    {
      "cell_type": "code",
      "metadata": {
        "id": "s6oJlslmmTGx"
      },
      "source": [
        "from keras.utils import Sequence\n",
        "import cv2\n",
        "import numpy as np\n",
        "pretrained_mean = [103.939, 116.779, 123.68]\n",
        "class VideoSequence(Sequence):\n",
        "    def __init__(self, video_path, batch_size, w=224, h=224):\n",
        "        self.video_path = video_path\n",
        "        self.batch_size = batch_size\n",
        "        self.position = 0\n",
        "        self.video = cv2.VideoCapture(video_path)\n",
        "        self.total_frames = int(self.video.get(cv2.CAP_PROP_FRAME_COUNT))\n",
        "        if w is None:\n",
        "            w = int(self.video.get(cv2.CAP_PROP_FRAME_WIDTH))\n",
        "        self.w = w\n",
        "        if h is None:\n",
        "            h = int(self.video.get(cv2.CAP_PROP_FRAME_HEIGHT))\n",
        "        self.h = h\n",
        "        self.bounding_box = get_median_bounding_box(video_path)\n",
        "        self.fpp = FramePreprocessor(self.w, self.h)\n",
        "    def __len__(self):\n",
        "        return int(np.ceil(self.total_frames / float(self.batch_size)))\n",
        "    def __getitem__(self, idx):\n",
        "        batch_start = idx * self.batch_size\n",
        "        batch_stop = (idx + 1) * self.batch_size\n",
        "        #handling for the last batch\n",
        "        batch_size = min(batch_stop, self.total_frames) - batch_start\n",
        "        # if we can't sequentially read, we need to seek.\n",
        "        if batch_start != self.position:\n",
        "            self.video.set(cv2.CAP_PROP_POS_FRAMES, batch_start)\n",
        "            self.position = batch_start\n",
        "         \n",
        "        frame_batch = np.zeros(shape=(batch_size, self.h, self.w, 3), dtype=np.uint8)\n",
        "        for i in range(0, batch_size):\n",
        "            _, frame = self.video.read()\n",
        "            frame = self.fpp.simple_crop(frame, self.bounding_box)\n",
        "            frame = frame.astype('float64')\n",
        "            for k in range(3):\n",
        "                frame[:,:,k] -= pretrained_mean[k]\n",
        "            frame_batch[i] = frame\n",
        "            self.position += 1\n",
        "        return frame_batch"
      ],
      "execution_count": null,
      "outputs": []
    },
    {
      "cell_type": "code",
      "metadata": {
        "colab": {
          "base_uri": "https://localhost:8080/",
          "height": 35
        },
        "id": "24kb17UtxNWm",
        "outputId": "7383a09c-97ab-4d1b-85c6-c7fd85fd7096"
      },
      "source": [
        "import os\n",
        "def filelist(root):\n",
        "    \"\"\"Return a fully-qualified list of filenames under root directory; sort names alphabetically.\"\"\"\n",
        "    allfiles = []\n",
        "    for path, subdirs, files in os.walk(root):\n",
        "        for name in files:\n",
        "          if name.endswith('.mp4'):\n",
        "            allfiles.append(os.path.join(path, name))\n",
        "          else:\n",
        "            continue\n",
        "    return sorted(allfiles)\n",
        "  \n",
        "file_names = filelist('/tmp/test_videos/')\n",
        "\n",
        "file_names[5]"
      ],
      "execution_count": null,
      "outputs": [
        {
          "output_type": "execute_result",
          "data": {
            "application/vnd.google.colaboratory.intrinsic+json": {
              "type": "string"
            },
            "text/plain": [
              "'/tmp/test_videos/152049.224439.mp4'"
            ]
          },
          "metadata": {
            "tags": []
          },
          "execution_count": 88
        }
      ]
    },
    {
      "cell_type": "code",
      "metadata": {
        "id": "5-Kezt4PxSLB"
      },
      "source": [
        "# def predict_raw_video_class(file_names):\n",
        "#     predictions = []\n",
        "#     for file in file_names:\n",
        "#         video = VideoSequence(file, 32)\n",
        "#         feature = model.predict(video, batch_size=32)\n",
        "#         pred = np.mean(model.predict(feature), axis=0)\n",
        "#         predictions.append(pred)  \n",
        "#     return np.array(predictions)\n"
      ],
      "execution_count": null,
      "outputs": []
    },
    {
      "cell_type": "code",
      "metadata": {
        "colab": {
          "base_uri": "https://localhost:8080/"
        },
        "id": "tpL8EHYcYSLt",
        "outputId": "d03264ef-4e60-4c39-b3dc-44e8fd6ee9a8"
      },
      "source": [
        "! mkdir '/tmp/new_features/'"
      ],
      "execution_count": null,
      "outputs": [
        {
          "output_type": "stream",
          "text": [
            "mkdir: cannot create directory ‘/tmp/new_features/’: File exists\n"
          ],
          "name": "stdout"
        }
      ]
    },
    {
      "cell_type": "code",
      "metadata": {
        "id": "n6CitSwdYCU5"
      },
      "source": [
        "import h5py\n",
        "import re"
      ],
      "execution_count": null,
      "outputs": []
    },
    {
      "cell_type": "code",
      "metadata": {
        "id": "ARR1WFtqX_wD"
      },
      "source": [
        "files = file_names[6:8] # list of video path , '/tmp/164316.mp4', '/tmp/164329.mp4'\n",
        "\n",
        "def gen_feature_files(model, files, prefix='/tmp/new_features/', batch_size=32):\n",
        "  '''\n",
        "  save features (.hdf5 format) from ResNet50 into the specified file path\n",
        "  parameters\n",
        "  ---------------\n",
        "  model: Resnet50 model instance\n",
        "  prefix: file path prefix\n",
        "  files: list of video path\n",
        "  Example ->  ['/tmp/110777.mp4', '/tmp/164316.mp4'] \n",
        "\n",
        "\n",
        "  '''\n",
        "  for video_path in files:\n",
        "    clip_id = re.search(\"(\\d+).mp4$\", video_path).group(1)\n",
        "    video = VideoSequence(video_path, batch_size)\n",
        "    feature = model.predict(video, batch_size=batch_size)\n",
        "    file_name = f'{prefix}{clip_id}.mp4.hdf5'\n",
        "    with h5py.File(file_name, 'w') as hf:\n",
        "        hf.create_dataset(file_name,  data=feature)\n",
        "        print(f'Save {clip_id}.mp4 features to {file_name}')"
      ],
      "execution_count": null,
      "outputs": []
    },
    {
      "cell_type": "code",
      "metadata": {
        "id": "eSxmz6ckYfQf"
      },
      "source": [
        "# gen_feature_files(model, files)"
      ],
      "execution_count": null,
      "outputs": []
    },
    {
      "cell_type": "code",
      "metadata": {
        "id": "vLwRUek0yTcg"
      },
      "source": [
        "# predict_raw_video_class(file_names[0:1])\n",
        "\n",
        "\n"
      ],
      "execution_count": null,
      "outputs": []
    },
    {
      "cell_type": "code",
      "metadata": {
        "id": "bzTNZ3l8TL2s"
      },
      "source": [
        "def predict_raw_video_class(file_names, l2_coeff=0.001):\n",
        "    predictions = []\n",
        "    for file in file_names:\n",
        "        print(f\"Inferencing video {file}\")\n",
        "        video = VideoSequence(file, 32)\n",
        "        feature = model.predict(video, batch_size=32)\n",
        "        pred = np.mean(models[l2_coeff].predict(feature))\n",
        "        predictions.append(pred)  \n",
        "    return np.array(predictions)"
      ],
      "execution_count": null,
      "outputs": []
    },
    {
      "cell_type": "code",
      "metadata": {
        "id": "aE6gLnZa0Y6w"
      },
      "source": [
        "def predict_video_class(clip_ids):\n",
        "    avg_pred = []\n",
        "    for clip_id in clip_ids:\n",
        "        pred = model.predict(np.array(testset[clip_id]))\n",
        "        avg = np.mean(pred, axis=0)\n",
        "        avg_pred.append(avg)  \n",
        "    return np.array(avg_pred)\n",
        "cdc_preds = predict_video_class(test_clip_ids)\n"
      ],
      "execution_count": null,
      "outputs": []
    },
    {
      "cell_type": "code",
      "metadata": {
        "colab": {
          "base_uri": "https://localhost:8080/",
          "height": 1000
        },
        "id": "QGjnyLsBxvYs",
        "outputId": "df61ae78-1572-44c6-acc8-d573863db6ec"
      },
      "source": [
        "import argparse\n",
        "from tensorflow.keras.datasets import mnist\n",
        "\n",
        "from ray.tune.integration.keras import TuneReportCallback\n",
        "\n",
        "parser = argparse.ArgumentParser()\n",
        "parser.add_argument(\n",
        "    \"--smoke-test\", action=\"store_true\", help=\"Finish quickly for testing\")\n",
        "args, _ = parser.parse_known_args()\n",
        "\n",
        "\n",
        "def train_mnist(config):\n",
        "    # https://github.com/tensorflow/tensorflow/issues/32159\n",
        "    import tensorflow as tf\n",
        "    batch_size = 128\n",
        "    num_classes = 10\n",
        "    epochs = 12\n",
        "\n",
        "    (x_train, y_train), (x_test, y_test) = mnist.load_data()\n",
        "    x_train, x_test = x_train / 255.0, x_test / 255.0\n",
        "    model = tf.keras.models.Sequential([\n",
        "        tf.keras.layers.Flatten(input_shape=(28, 28)),\n",
        "        tf.keras.layers.Dense(config[\"hidden\"], activation=\"relu\"),\n",
        "        tf.keras.layers.Dropout(0.2),\n",
        "        tf.keras.layers.Dense(num_classes, activation=\"softmax\")\n",
        "    ])\n",
        "\n",
        "    model.compile(\n",
        "        loss=\"sparse_categorical_crossentropy\",\n",
        "        optimizer=tf.keras.optimizers.SGD(\n",
        "            lr=config[\"lr\"], momentum=config[\"momentum\"]),\n",
        "        metrics=[\"accuracy\"])\n",
        "\n",
        "    model.fit(\n",
        "        x_train,\n",
        "        y_train,\n",
        "        batch_size=batch_size,\n",
        "        epochs=epochs,\n",
        "        verbose=0,\n",
        "        validation_data=(x_test, y_test),\n",
        "        callbacks=[TuneReportCallback({\n",
        "            \"mean_accuracy\": \"accuracy\"\n",
        "        })])\n",
        "\n",
        "\n",
        "\n",
        "    import ray\n",
        "    from ray import tune\n",
        "    from ray.tune.schedulers import AsyncHyperBandScheduler\n",
        "    mnist.load_data()  # we do this on the driver because it's not threadsafe\n",
        "    ray.shutdown()\n",
        "    ray.init(num_cpus=4 if args.smoke_test else None)\n",
        "    sched = AsyncHyperBandScheduler(\n",
        "        time_attr=\"training_iteration\", max_t=400, grace_period=20)\n",
        "\n",
        "    analysis = tune.run(\n",
        "        train_mnist,\n",
        "        name=\"exp\",\n",
        "        scheduler=sched,\n",
        "        metric=\"mean_accuracy\",\n",
        "        mode=\"max\",\n",
        "        stop={\n",
        "            \"mean_accuracy\": 0.99,\n",
        "            \"training_iteration\": 5 if args.smoke_test else 300\n",
        "        },\n",
        "        num_samples=10,\n",
        "        resources_per_trial={\n",
        "            \"cpu\": 2,\n",
        "            \"gpu\": 0\n",
        "        },\n",
        "        config={\n",
        "            \"threads\": 2,\n",
        "            \"lr\": tune.uniform(0.001, 0.1),\n",
        "            \"momentum\": tune.uniform(0.1, 0.9),\n",
        "            \"hidden\": tune.randint(32, 512),\n",
        "        })\n",
        "    print(\"Best hyperparameters found were: \", analysis.best_config)\n"
      ],
      "execution_count": null,
      "outputs": [
        {
          "output_type": "stream",
          "text": [
            "2021-03-29 20:58:18,254\tINFO services.py:1174 -- View the Ray dashboard at \u001b[1m\u001b[32mhttp://127.0.0.1:8265\u001b[39m\u001b[22m\n"
          ],
          "name": "stderr"
        },
        {
          "output_type": "display_data",
          "data": {
            "text/html": [
              "== Status ==<br>Memory usage on this node: 1.3/12.7 GiB<br>Using AsyncHyperBand: num_stopped=0\n",
              "Bracket: Iter 320.000: None | Iter 80.000: None | Iter 20.000: None<br>Resources requested: 2/2 CPUs, 0/0 GPUs, 0.0/7.52 GiB heap, 0.0/2.59 GiB objects<br>Result logdir: /root/ray_results/exp<br>Number of trials: 1/10 (1 RUNNING)<br><table>\n",
              "<thead>\n",
              "<tr><th>Trial name             </th><th>status  </th><th>loc  </th><th style=\"text-align: right;\">  hidden</th><th style=\"text-align: right;\">       lr</th><th style=\"text-align: right;\">  momentum</th></tr>\n",
              "</thead>\n",
              "<tbody>\n",
              "<tr><td>train_mnist_7f14d_00000</td><td>RUNNING </td><td>     </td><td style=\"text-align: right;\">     214</td><td style=\"text-align: right;\">0.0352817</td><td style=\"text-align: right;\">  0.787862</td></tr>\n",
              "</tbody>\n",
              "</table><br><br>"
            ],
            "text/plain": [
              "<IPython.core.display.HTML object>"
            ]
          },
          "metadata": {
            "tags": []
          }
        },
        {
          "output_type": "stream",
          "text": [
            "\u001b[2m\u001b[36m(pid=4761)\u001b[0m 2021-03-29 20:58:22.577894: I tensorflow/stream_executor/platform/default/dso_loader.cc:49] Successfully opened dynamic library libcudart.so.11.0\n",
            "\u001b[2m\u001b[36m(pid=4761)\u001b[0m 2021-03-29 20:58:22.577894: I tensorflow/stream_executor/platform/default/dso_loader.cc:49] Successfully opened dynamic library libcudart.so.11.0\n",
            "\u001b[2m\u001b[36m(pid=4761)\u001b[0m 2021-03-29 20:58:25.462310: I tensorflow/compiler/jit/xla_cpu_device.cc:41] Not creating XLA devices, tf_xla_enable_xla_devices not set\n",
            "\u001b[2m\u001b[36m(pid=4761)\u001b[0m 2021-03-29 20:58:25.462310: I tensorflow/compiler/jit/xla_cpu_device.cc:41] Not creating XLA devices, tf_xla_enable_xla_devices not set\n",
            "\u001b[2m\u001b[36m(pid=4761)\u001b[0m 2021-03-29 20:58:25.496393: I tensorflow/stream_executor/platform/default/dso_loader.cc:49] Successfully opened dynamic library libcuda.so.1\n",
            "\u001b[2m\u001b[36m(pid=4761)\u001b[0m 2021-03-29 20:58:25.496393: I tensorflow/stream_executor/platform/default/dso_loader.cc:49] Successfully opened dynamic library libcuda.so.1\n",
            "\u001b[2m\u001b[36m(pid=4761)\u001b[0m 2021-03-29 20:58:25.564782: E tensorflow/stream_executor/cuda/cuda_driver.cc:328] failed call to cuInit: CUDA_ERROR_NO_DEVICE: no CUDA-capable device is detected\n",
            "\u001b[2m\u001b[36m(pid=4761)\u001b[0m 2021-03-29 20:58:25.564849: I tensorflow/stream_executor/cuda/cuda_diagnostics.cc:156] kernel driver does not appear to be running on this host (82eedec80e15): /proc/driver/nvidia/version does not exist\n",
            "\u001b[2m\u001b[36m(pid=4761)\u001b[0m 2021-03-29 20:58:25.565518: I tensorflow/compiler/jit/xla_gpu_device.cc:99] Not creating XLA devices, tf_xla_enable_xla_devices not set\n",
            "\u001b[2m\u001b[36m(pid=4761)\u001b[0m 2021-03-29 20:58:25.564782: E tensorflow/stream_executor/cuda/cuda_driver.cc:328] failed call to cuInit: CUDA_ERROR_NO_DEVICE: no CUDA-capable device is detected\n",
            "\u001b[2m\u001b[36m(pid=4761)\u001b[0m 2021-03-29 20:58:25.564849: I tensorflow/stream_executor/cuda/cuda_diagnostics.cc:156] kernel driver does not appear to be running on this host (82eedec80e15): /proc/driver/nvidia/version does not exist\n",
            "\u001b[2m\u001b[36m(pid=4761)\u001b[0m 2021-03-29 20:58:25.565518: I tensorflow/compiler/jit/xla_gpu_device.cc:99] Not creating XLA devices, tf_xla_enable_xla_devices not set\n",
            "\u001b[2m\u001b[36m(pid=4761)\u001b[0m 2021-03-29 20:58:26.223646: I tensorflow/compiler/mlir/mlir_graph_optimization_pass.cc:116] None of the MLIR optimization passes are enabled (registered 2)\n",
            "\u001b[2m\u001b[36m(pid=4761)\u001b[0m 2021-03-29 20:58:26.242125: I tensorflow/core/platform/profile_utils/cpu_utils.cc:112] CPU Frequency: 2200150000 Hz\n",
            "\u001b[2m\u001b[36m(pid=4761)\u001b[0m 2021-03-29 20:58:26.223646: I tensorflow/compiler/mlir/mlir_graph_optimization_pass.cc:116] None of the MLIR optimization passes are enabled (registered 2)\n",
            "\u001b[2m\u001b[36m(pid=4761)\u001b[0m 2021-03-29 20:58:26.242125: I tensorflow/core/platform/profile_utils/cpu_utils.cc:112] CPU Frequency: 2200150000 Hz\n"
          ],
          "name": "stderr"
        },
        {
          "output_type": "stream",
          "text": [
            "Result for train_mnist_7f14d_00000:\n",
            "  date: 2021-03-29_20-58-29\n",
            "  done: false\n",
            "  experiment_id: 4320c1ba1ac84ae598b5cb4d273b32cb\n",
            "  hostname: 82eedec80e15\n",
            "  iterations_since_restore: 1\n",
            "  mean_accuracy: 0.8762166500091553\n",
            "  node_ip: 172.28.0.2\n",
            "  pid: 4761\n",
            "  time_since_restore: 5.341347694396973\n",
            "  time_this_iter_s: 5.341347694396973\n",
            "  time_total_s: 5.341347694396973\n",
            "  timestamp: 1617051509\n",
            "  timesteps_since_restore: 0\n",
            "  training_iteration: 1\n",
            "  trial_id: 7f14d_00000\n",
            "  \n"
          ],
          "name": "stdout"
        },
        {
          "output_type": "display_data",
          "data": {
            "text/html": [
              "== Status ==<br>Memory usage on this node: 2.0/12.7 GiB<br>Using AsyncHyperBand: num_stopped=0\n",
              "Bracket: Iter 320.000: None | Iter 80.000: None | Iter 20.000: None<br>Resources requested: 2/2 CPUs, 0/0 GPUs, 0.0/7.52 GiB heap, 0.0/2.59 GiB objects<br>Current best trial: 7f14d_00000 with mean_accuracy=0.8762166500091553 and parameters={'threads': 2, 'lr': 0.035281725241970645, 'momentum': 0.7878616667997146, 'hidden': 214}<br>Result logdir: /root/ray_results/exp<br>Number of trials: 2/10 (1 PENDING, 1 RUNNING)<br><table>\n",
              "<thead>\n",
              "<tr><th>Trial name             </th><th>status  </th><th>loc            </th><th style=\"text-align: right;\">  hidden</th><th style=\"text-align: right;\">       lr</th><th style=\"text-align: right;\">  momentum</th><th style=\"text-align: right;\">     acc</th><th style=\"text-align: right;\">  iter</th><th style=\"text-align: right;\">  total time (s)</th></tr>\n",
              "</thead>\n",
              "<tbody>\n",
              "<tr><td>train_mnist_7f14d_00000</td><td>RUNNING </td><td>172.28.0.2:4761</td><td style=\"text-align: right;\">     214</td><td style=\"text-align: right;\">0.0352817</td><td style=\"text-align: right;\">  0.787862</td><td style=\"text-align: right;\">0.876217</td><td style=\"text-align: right;\">     1</td><td style=\"text-align: right;\">         5.34135</td></tr>\n",
              "<tr><td>train_mnist_7f14d_00001</td><td>PENDING </td><td>               </td><td style=\"text-align: right;\">     122</td><td style=\"text-align: right;\">0.0865463</td><td style=\"text-align: right;\">  0.686742</td><td style=\"text-align: right;\">        </td><td style=\"text-align: right;\">      </td><td style=\"text-align: right;\">                </td></tr>\n",
              "</tbody>\n",
              "</table><br><br>"
            ],
            "text/plain": [
              "<IPython.core.display.HTML object>"
            ]
          },
          "metadata": {
            "tags": []
          }
        },
        {
          "output_type": "stream",
          "text": [
            "Result for train_mnist_7f14d_00000:\n",
            "  date: 2021-03-29_20-58-36\n",
            "  done: false\n",
            "  experiment_id: 4320c1ba1ac84ae598b5cb4d273b32cb\n",
            "  hostname: 82eedec80e15\n",
            "  iterations_since_restore: 4\n",
            "  mean_accuracy: 0.958466649055481\n",
            "  node_ip: 172.28.0.2\n",
            "  pid: 4761\n",
            "  time_since_restore: 12.127709150314331\n",
            "  time_this_iter_s: 2.2698049545288086\n",
            "  time_total_s: 12.127709150314331\n",
            "  timestamp: 1617051516\n",
            "  timesteps_since_restore: 0\n",
            "  training_iteration: 4\n",
            "  trial_id: 7f14d_00000\n",
            "  \n"
          ],
          "name": "stdout"
        },
        {
          "output_type": "display_data",
          "data": {
            "text/html": [
              "== Status ==<br>Memory usage on this node: 2.0/12.7 GiB<br>Using AsyncHyperBand: num_stopped=0\n",
              "Bracket: Iter 320.000: None | Iter 80.000: None | Iter 20.000: None<br>Resources requested: 2/2 CPUs, 0/0 GPUs, 0.0/7.52 GiB heap, 0.0/2.59 GiB objects<br>Current best trial: 7f14d_00000 with mean_accuracy=0.958466649055481 and parameters={'threads': 2, 'lr': 0.035281725241970645, 'momentum': 0.7878616667997146, 'hidden': 214}<br>Result logdir: /root/ray_results/exp<br>Number of trials: 2/10 (1 PENDING, 1 RUNNING)<br><table>\n",
              "<thead>\n",
              "<tr><th>Trial name             </th><th>status  </th><th>loc            </th><th style=\"text-align: right;\">  hidden</th><th style=\"text-align: right;\">       lr</th><th style=\"text-align: right;\">  momentum</th><th style=\"text-align: right;\">     acc</th><th style=\"text-align: right;\">  iter</th><th style=\"text-align: right;\">  total time (s)</th></tr>\n",
              "</thead>\n",
              "<tbody>\n",
              "<tr><td>train_mnist_7f14d_00000</td><td>RUNNING </td><td>172.28.0.2:4761</td><td style=\"text-align: right;\">     214</td><td style=\"text-align: right;\">0.0352817</td><td style=\"text-align: right;\">  0.787862</td><td style=\"text-align: right;\">0.958467</td><td style=\"text-align: right;\">     4</td><td style=\"text-align: right;\">         12.1277</td></tr>\n",
              "<tr><td>train_mnist_7f14d_00001</td><td>PENDING </td><td>               </td><td style=\"text-align: right;\">     122</td><td style=\"text-align: right;\">0.0865463</td><td style=\"text-align: right;\">  0.686742</td><td style=\"text-align: right;\">        </td><td style=\"text-align: right;\">      </td><td style=\"text-align: right;\">                </td></tr>\n",
              "</tbody>\n",
              "</table><br><br>"
            ],
            "text/plain": [
              "<IPython.core.display.HTML object>"
            ]
          },
          "metadata": {
            "tags": []
          }
        },
        {
          "output_type": "stream",
          "text": [
            "Result for train_mnist_7f14d_00000:\n",
            "  date: 2021-03-29_20-58-43\n",
            "  done: false\n",
            "  experiment_id: 4320c1ba1ac84ae598b5cb4d273b32cb\n",
            "  hostname: 82eedec80e15\n",
            "  iterations_since_restore: 7\n",
            "  mean_accuracy: 0.9708666801452637\n",
            "  node_ip: 172.28.0.2\n",
            "  pid: 4761\n",
            "  time_since_restore: 18.94995379447937\n",
            "  time_this_iter_s: 2.253875494003296\n",
            "  time_total_s: 18.94995379447937\n",
            "  timestamp: 1617051523\n",
            "  timesteps_since_restore: 0\n",
            "  training_iteration: 7\n",
            "  trial_id: 7f14d_00000\n",
            "  \n"
          ],
          "name": "stdout"
        },
        {
          "output_type": "display_data",
          "data": {
            "text/html": [
              "== Status ==<br>Memory usage on this node: 2.0/12.7 GiB<br>Using AsyncHyperBand: num_stopped=0\n",
              "Bracket: Iter 320.000: None | Iter 80.000: None | Iter 20.000: None<br>Resources requested: 2/2 CPUs, 0/0 GPUs, 0.0/7.52 GiB heap, 0.0/2.59 GiB objects<br>Current best trial: 7f14d_00000 with mean_accuracy=0.9708666801452637 and parameters={'threads': 2, 'lr': 0.035281725241970645, 'momentum': 0.7878616667997146, 'hidden': 214}<br>Result logdir: /root/ray_results/exp<br>Number of trials: 2/10 (1 PENDING, 1 RUNNING)<br><table>\n",
              "<thead>\n",
              "<tr><th>Trial name             </th><th>status  </th><th>loc            </th><th style=\"text-align: right;\">  hidden</th><th style=\"text-align: right;\">       lr</th><th style=\"text-align: right;\">  momentum</th><th style=\"text-align: right;\">     acc</th><th style=\"text-align: right;\">  iter</th><th style=\"text-align: right;\">  total time (s)</th></tr>\n",
              "</thead>\n",
              "<tbody>\n",
              "<tr><td>train_mnist_7f14d_00000</td><td>RUNNING </td><td>172.28.0.2:4761</td><td style=\"text-align: right;\">     214</td><td style=\"text-align: right;\">0.0352817</td><td style=\"text-align: right;\">  0.787862</td><td style=\"text-align: right;\">0.970867</td><td style=\"text-align: right;\">     7</td><td style=\"text-align: right;\">           18.95</td></tr>\n",
              "<tr><td>train_mnist_7f14d_00001</td><td>PENDING </td><td>               </td><td style=\"text-align: right;\">     122</td><td style=\"text-align: right;\">0.0865463</td><td style=\"text-align: right;\">  0.686742</td><td style=\"text-align: right;\">        </td><td style=\"text-align: right;\">      </td><td style=\"text-align: right;\">                </td></tr>\n",
              "</tbody>\n",
              "</table><br><br>"
            ],
            "text/plain": [
              "<IPython.core.display.HTML object>"
            ]
          },
          "metadata": {
            "tags": []
          }
        },
        {
          "output_type": "stream",
          "text": [
            "Result for train_mnist_7f14d_00000:\n",
            "  date: 2021-03-29_20-58-50\n",
            "  done: false\n",
            "  experiment_id: 4320c1ba1ac84ae598b5cb4d273b32cb\n",
            "  hostname: 82eedec80e15\n",
            "  iterations_since_restore: 10\n",
            "  mean_accuracy: 0.9773666858673096\n",
            "  node_ip: 172.28.0.2\n",
            "  pid: 4761\n",
            "  time_since_restore: 25.94502019882202\n",
            "  time_this_iter_s: 2.3115971088409424\n",
            "  time_total_s: 25.94502019882202\n",
            "  timestamp: 1617051530\n",
            "  timesteps_since_restore: 0\n",
            "  training_iteration: 10\n",
            "  trial_id: 7f14d_00000\n",
            "  \n"
          ],
          "name": "stdout"
        },
        {
          "output_type": "display_data",
          "data": {
            "text/html": [
              "== Status ==<br>Memory usage on this node: 2.0/12.7 GiB<br>Using AsyncHyperBand: num_stopped=0\n",
              "Bracket: Iter 320.000: None | Iter 80.000: None | Iter 20.000: None<br>Resources requested: 2/2 CPUs, 0/0 GPUs, 0.0/7.52 GiB heap, 0.0/2.59 GiB objects<br>Current best trial: 7f14d_00000 with mean_accuracy=0.9773666858673096 and parameters={'threads': 2, 'lr': 0.035281725241970645, 'momentum': 0.7878616667997146, 'hidden': 214}<br>Result logdir: /root/ray_results/exp<br>Number of trials: 2/10 (1 PENDING, 1 RUNNING)<br><table>\n",
              "<thead>\n",
              "<tr><th>Trial name             </th><th>status  </th><th>loc            </th><th style=\"text-align: right;\">  hidden</th><th style=\"text-align: right;\">       lr</th><th style=\"text-align: right;\">  momentum</th><th style=\"text-align: right;\">     acc</th><th style=\"text-align: right;\">  iter</th><th style=\"text-align: right;\">  total time (s)</th></tr>\n",
              "</thead>\n",
              "<tbody>\n",
              "<tr><td>train_mnist_7f14d_00000</td><td>RUNNING </td><td>172.28.0.2:4761</td><td style=\"text-align: right;\">     214</td><td style=\"text-align: right;\">0.0352817</td><td style=\"text-align: right;\">  0.787862</td><td style=\"text-align: right;\">0.977367</td><td style=\"text-align: right;\">    10</td><td style=\"text-align: right;\">          25.945</td></tr>\n",
              "<tr><td>train_mnist_7f14d_00001</td><td>PENDING </td><td>               </td><td style=\"text-align: right;\">     122</td><td style=\"text-align: right;\">0.0865463</td><td style=\"text-align: right;\">  0.686742</td><td style=\"text-align: right;\">        </td><td style=\"text-align: right;\">      </td><td style=\"text-align: right;\">                </td></tr>\n",
              "</tbody>\n",
              "</table><br><br>"
            ],
            "text/plain": [
              "<IPython.core.display.HTML object>"
            ]
          },
          "metadata": {
            "tags": []
          }
        },
        {
          "output_type": "stream",
          "text": [
            "2021-03-29 20:58:54,886\tWARNING worker.py:1107 -- A worker died or was killed while executing task ffffffffffffffffaa64d94c3d0cf856684b3eb501000000.\n"
          ],
          "name": "stderr"
        },
        {
          "output_type": "stream",
          "text": [
            "Result for train_mnist_7f14d_00000:\n",
            "  date: 2021-03-29_20-58-54\n",
            "  done: true\n",
            "  experiment_id: 4320c1ba1ac84ae598b5cb4d273b32cb\n",
            "  experiment_tag: 0_hidden=214,lr=0.035282,momentum=0.78786\n",
            "  hostname: 82eedec80e15\n",
            "  iterations_since_restore: 12\n",
            "  mean_accuracy: 0.98048335313797\n",
            "  node_ip: 172.28.0.2\n",
            "  pid: 4761\n",
            "  time_since_restore: 30.58034110069275\n",
            "  time_this_iter_s: 2.281782627105713\n",
            "  time_total_s: 30.58034110069275\n",
            "  timestamp: 1617051534\n",
            "  timesteps_since_restore: 0\n",
            "  training_iteration: 12\n",
            "  trial_id: 7f14d_00000\n",
            "  \n"
          ],
          "name": "stdout"
        },
        {
          "output_type": "stream",
          "text": [
            "\u001b[2m\u001b[36m(pid=4760)\u001b[0m 2021-03-29 20:58:55.411447: I tensorflow/stream_executor/platform/default/dso_loader.cc:49] Successfully opened dynamic library libcudart.so.11.0\n",
            "\u001b[2m\u001b[36m(pid=4760)\u001b[0m 2021-03-29 20:58:55.411447: I tensorflow/stream_executor/platform/default/dso_loader.cc:49] Successfully opened dynamic library libcudart.so.11.0\n",
            "\u001b[2m\u001b[36m(pid=4760)\u001b[0m 2021-03-29 20:58:57.805085: I tensorflow/compiler/jit/xla_cpu_device.cc:41] Not creating XLA devices, tf_xla_enable_xla_devices not set\n",
            "\u001b[2m\u001b[36m(pid=4760)\u001b[0m 2021-03-29 20:58:57.805085: I tensorflow/compiler/jit/xla_cpu_device.cc:41] Not creating XLA devices, tf_xla_enable_xla_devices not set\n",
            "\u001b[2m\u001b[36m(pid=4760)\u001b[0m 2021-03-29 20:58:57.807316: I tensorflow/stream_executor/platform/default/dso_loader.cc:49] Successfully opened dynamic library libcuda.so.1\n",
            "\u001b[2m\u001b[36m(pid=4760)\u001b[0m 2021-03-29 20:58:57.807316: I tensorflow/stream_executor/platform/default/dso_loader.cc:49] Successfully opened dynamic library libcuda.so.1\n",
            "\u001b[2m\u001b[36m(pid=4760)\u001b[0m 2021-03-29 20:58:57.823087: E tensorflow/stream_executor/cuda/cuda_driver.cc:328] failed call to cuInit: CUDA_ERROR_NO_DEVICE: no CUDA-capable device is detected\n",
            "\u001b[2m\u001b[36m(pid=4760)\u001b[0m 2021-03-29 20:58:57.823152: I tensorflow/stream_executor/cuda/cuda_diagnostics.cc:156] kernel driver does not appear to be running on this host (82eedec80e15): /proc/driver/nvidia/version does not exist\n",
            "\u001b[2m\u001b[36m(pid=4760)\u001b[0m 2021-03-29 20:58:57.823992: I tensorflow/compiler/jit/xla_gpu_device.cc:99] Not creating XLA devices, tf_xla_enable_xla_devices not set\n",
            "\u001b[2m\u001b[36m(pid=4760)\u001b[0m 2021-03-29 20:58:57.823087: E tensorflow/stream_executor/cuda/cuda_driver.cc:328] failed call to cuInit: CUDA_ERROR_NO_DEVICE: no CUDA-capable device is detected\n",
            "\u001b[2m\u001b[36m(pid=4760)\u001b[0m 2021-03-29 20:58:57.823152: I tensorflow/stream_executor/cuda/cuda_diagnostics.cc:156] kernel driver does not appear to be running on this host (82eedec80e15): /proc/driver/nvidia/version does not exist\n",
            "\u001b[2m\u001b[36m(pid=4760)\u001b[0m 2021-03-29 20:58:57.823992: I tensorflow/compiler/jit/xla_gpu_device.cc:99] Not creating XLA devices, tf_xla_enable_xla_devices not set\n",
            "\u001b[2m\u001b[36m(pid=4760)\u001b[0m 2021-03-29 20:58:58.169504: I tensorflow/compiler/mlir/mlir_graph_optimization_pass.cc:116] None of the MLIR optimization passes are enabled (registered 2)\n",
            "\u001b[2m\u001b[36m(pid=4760)\u001b[0m 2021-03-29 20:58:58.170129: I tensorflow/core/platform/profile_utils/cpu_utils.cc:112] CPU Frequency: 2200150000 Hz\n",
            "\u001b[2m\u001b[36m(pid=4760)\u001b[0m 2021-03-29 20:58:58.169504: I tensorflow/compiler/mlir/mlir_graph_optimization_pass.cc:116] None of the MLIR optimization passes are enabled (registered 2)\n",
            "\u001b[2m\u001b[36m(pid=4760)\u001b[0m 2021-03-29 20:58:58.170129: I tensorflow/core/platform/profile_utils/cpu_utils.cc:112] CPU Frequency: 2200150000 Hz\n"
          ],
          "name": "stderr"
        },
        {
          "output_type": "stream",
          "text": [
            "Result for train_mnist_7f14d_00001:\n",
            "  date: 2021-03-29_20-59-00\n",
            "  done: false\n",
            "  experiment_id: 322532629425490597e4d56ec33c3d6c\n",
            "  hostname: 82eedec80e15\n",
            "  iterations_since_restore: 1\n",
            "  mean_accuracy: 0.8932333588600159\n",
            "  node_ip: 172.28.0.2\n",
            "  pid: 4760\n",
            "  time_since_restore: 3.6395304203033447\n",
            "  time_this_iter_s: 3.6395304203033447\n",
            "  time_total_s: 3.6395304203033447\n",
            "  timestamp: 1617051540\n",
            "  timesteps_since_restore: 0\n",
            "  training_iteration: 1\n",
            "  trial_id: 7f14d_00001\n",
            "  \n"
          ],
          "name": "stdout"
        },
        {
          "output_type": "display_data",
          "data": {
            "text/html": [
              "== Status ==<br>Memory usage on this node: 2.0/12.7 GiB<br>Using AsyncHyperBand: num_stopped=0\n",
              "Bracket: Iter 320.000: None | Iter 80.000: None | Iter 20.000: None<br>Resources requested: 2/2 CPUs, 0/0 GPUs, 0.0/7.52 GiB heap, 0.0/2.59 GiB objects<br>Current best trial: 7f14d_00000 with mean_accuracy=0.98048335313797 and parameters={'threads': 2, 'lr': 0.035281725241970645, 'momentum': 0.7878616667997146, 'hidden': 214}<br>Result logdir: /root/ray_results/exp<br>Number of trials: 3/10 (1 PENDING, 1 RUNNING, 1 TERMINATED)<br><table>\n",
              "<thead>\n",
              "<tr><th>Trial name             </th><th>status    </th><th>loc            </th><th style=\"text-align: right;\">  hidden</th><th style=\"text-align: right;\">       lr</th><th style=\"text-align: right;\">  momentum</th><th style=\"text-align: right;\">     acc</th><th style=\"text-align: right;\">  iter</th><th style=\"text-align: right;\">  total time (s)</th></tr>\n",
              "</thead>\n",
              "<tbody>\n",
              "<tr><td>train_mnist_7f14d_00001</td><td>RUNNING   </td><td>172.28.0.2:4760</td><td style=\"text-align: right;\">     122</td><td style=\"text-align: right;\">0.0865463</td><td style=\"text-align: right;\">  0.686742</td><td style=\"text-align: right;\">0.893233</td><td style=\"text-align: right;\">     1</td><td style=\"text-align: right;\">         3.63953</td></tr>\n",
              "<tr><td>train_mnist_7f14d_00002</td><td>PENDING   </td><td>               </td><td style=\"text-align: right;\">     481</td><td style=\"text-align: right;\">0.012584 </td><td style=\"text-align: right;\">  0.278352</td><td style=\"text-align: right;\">        </td><td style=\"text-align: right;\">      </td><td style=\"text-align: right;\">                </td></tr>\n",
              "<tr><td>train_mnist_7f14d_00000</td><td>TERMINATED</td><td>               </td><td style=\"text-align: right;\">     214</td><td style=\"text-align: right;\">0.0352817</td><td style=\"text-align: right;\">  0.787862</td><td style=\"text-align: right;\">0.980483</td><td style=\"text-align: right;\">    12</td><td style=\"text-align: right;\">        30.5803 </td></tr>\n",
              "</tbody>\n",
              "</table><br><br>"
            ],
            "text/plain": [
              "<IPython.core.display.HTML object>"
            ]
          },
          "metadata": {
            "tags": []
          }
        },
        {
          "output_type": "stream",
          "text": [
            "Result for train_mnist_7f14d_00001:\n",
            "  date: 2021-03-29_20-59-06\n",
            "  done: false\n",
            "  experiment_id: 322532629425490597e4d56ec33c3d6c\n",
            "  hostname: 82eedec80e15\n",
            "  iterations_since_restore: 4\n",
            "  mean_accuracy: 0.9633833169937134\n",
            "  node_ip: 172.28.0.2\n",
            "  pid: 4760\n",
            "  time_since_restore: 8.91721248626709\n",
            "  time_this_iter_s: 1.7482624053955078\n",
            "  time_total_s: 8.91721248626709\n",
            "  timestamp: 1617051546\n",
            "  timesteps_since_restore: 0\n",
            "  training_iteration: 4\n",
            "  trial_id: 7f14d_00001\n",
            "  \n"
          ],
          "name": "stdout"
        },
        {
          "output_type": "display_data",
          "data": {
            "text/html": [
              "== Status ==<br>Memory usage on this node: 2.0/12.7 GiB<br>Using AsyncHyperBand: num_stopped=0\n",
              "Bracket: Iter 320.000: None | Iter 80.000: None | Iter 20.000: None<br>Resources requested: 2/2 CPUs, 0/0 GPUs, 0.0/7.52 GiB heap, 0.0/2.59 GiB objects<br>Current best trial: 7f14d_00000 with mean_accuracy=0.98048335313797 and parameters={'threads': 2, 'lr': 0.035281725241970645, 'momentum': 0.7878616667997146, 'hidden': 214}<br>Result logdir: /root/ray_results/exp<br>Number of trials: 3/10 (1 PENDING, 1 RUNNING, 1 TERMINATED)<br><table>\n",
              "<thead>\n",
              "<tr><th>Trial name             </th><th>status    </th><th>loc            </th><th style=\"text-align: right;\">  hidden</th><th style=\"text-align: right;\">       lr</th><th style=\"text-align: right;\">  momentum</th><th style=\"text-align: right;\">     acc</th><th style=\"text-align: right;\">  iter</th><th style=\"text-align: right;\">  total time (s)</th></tr>\n",
              "</thead>\n",
              "<tbody>\n",
              "<tr><td>train_mnist_7f14d_00001</td><td>RUNNING   </td><td>172.28.0.2:4760</td><td style=\"text-align: right;\">     122</td><td style=\"text-align: right;\">0.0865463</td><td style=\"text-align: right;\">  0.686742</td><td style=\"text-align: right;\">0.963383</td><td style=\"text-align: right;\">     4</td><td style=\"text-align: right;\">         8.91721</td></tr>\n",
              "<tr><td>train_mnist_7f14d_00002</td><td>PENDING   </td><td>               </td><td style=\"text-align: right;\">     481</td><td style=\"text-align: right;\">0.012584 </td><td style=\"text-align: right;\">  0.278352</td><td style=\"text-align: right;\">        </td><td style=\"text-align: right;\">      </td><td style=\"text-align: right;\">                </td></tr>\n",
              "<tr><td>train_mnist_7f14d_00000</td><td>TERMINATED</td><td>               </td><td style=\"text-align: right;\">     214</td><td style=\"text-align: right;\">0.0352817</td><td style=\"text-align: right;\">  0.787862</td><td style=\"text-align: right;\">0.980483</td><td style=\"text-align: right;\">    12</td><td style=\"text-align: right;\">        30.5803 </td></tr>\n",
              "</tbody>\n",
              "</table><br><br>"
            ],
            "text/plain": [
              "<IPython.core.display.HTML object>"
            ]
          },
          "metadata": {
            "tags": []
          }
        },
        {
          "output_type": "stream",
          "text": [
            "Result for train_mnist_7f14d_00001:\n",
            "  date: 2021-03-29_20-59-11\n",
            "  done: false\n",
            "  experiment_id: 322532629425490597e4d56ec33c3d6c\n",
            "  hostname: 82eedec80e15\n",
            "  iterations_since_restore: 7\n",
            "  mean_accuracy: 0.9726999998092651\n",
            "  node_ip: 172.28.0.2\n",
            "  pid: 4760\n",
            "  time_since_restore: 14.182279586791992\n",
            "  time_this_iter_s: 1.756983995437622\n",
            "  time_total_s: 14.182279586791992\n",
            "  timestamp: 1617051551\n",
            "  timesteps_since_restore: 0\n",
            "  training_iteration: 7\n",
            "  trial_id: 7f14d_00001\n",
            "  \n"
          ],
          "name": "stdout"
        },
        {
          "output_type": "display_data",
          "data": {
            "text/html": [
              "== Status ==<br>Memory usage on this node: 2.0/12.7 GiB<br>Using AsyncHyperBand: num_stopped=0\n",
              "Bracket: Iter 320.000: None | Iter 80.000: None | Iter 20.000: None<br>Resources requested: 2/2 CPUs, 0/0 GPUs, 0.0/7.52 GiB heap, 0.0/2.59 GiB objects<br>Current best trial: 7f14d_00000 with mean_accuracy=0.98048335313797 and parameters={'threads': 2, 'lr': 0.035281725241970645, 'momentum': 0.7878616667997146, 'hidden': 214}<br>Result logdir: /root/ray_results/exp<br>Number of trials: 3/10 (1 PENDING, 1 RUNNING, 1 TERMINATED)<br><table>\n",
              "<thead>\n",
              "<tr><th>Trial name             </th><th>status    </th><th>loc            </th><th style=\"text-align: right;\">  hidden</th><th style=\"text-align: right;\">       lr</th><th style=\"text-align: right;\">  momentum</th><th style=\"text-align: right;\">     acc</th><th style=\"text-align: right;\">  iter</th><th style=\"text-align: right;\">  total time (s)</th></tr>\n",
              "</thead>\n",
              "<tbody>\n",
              "<tr><td>train_mnist_7f14d_00001</td><td>RUNNING   </td><td>172.28.0.2:4760</td><td style=\"text-align: right;\">     122</td><td style=\"text-align: right;\">0.0865463</td><td style=\"text-align: right;\">  0.686742</td><td style=\"text-align: right;\">0.9727  </td><td style=\"text-align: right;\">     7</td><td style=\"text-align: right;\">         14.1823</td></tr>\n",
              "<tr><td>train_mnist_7f14d_00002</td><td>PENDING   </td><td>               </td><td style=\"text-align: right;\">     481</td><td style=\"text-align: right;\">0.012584 </td><td style=\"text-align: right;\">  0.278352</td><td style=\"text-align: right;\">        </td><td style=\"text-align: right;\">      </td><td style=\"text-align: right;\">                </td></tr>\n",
              "<tr><td>train_mnist_7f14d_00000</td><td>TERMINATED</td><td>               </td><td style=\"text-align: right;\">     214</td><td style=\"text-align: right;\">0.0352817</td><td style=\"text-align: right;\">  0.787862</td><td style=\"text-align: right;\">0.980483</td><td style=\"text-align: right;\">    12</td><td style=\"text-align: right;\">         30.5803</td></tr>\n",
              "</tbody>\n",
              "</table><br><br>"
            ],
            "text/plain": [
              "<IPython.core.display.HTML object>"
            ]
          },
          "metadata": {
            "tags": []
          }
        },
        {
          "output_type": "stream",
          "text": [
            "Result for train_mnist_7f14d_00001:\n",
            "  date: 2021-03-29_20-59-16\n",
            "  done: false\n",
            "  experiment_id: 322532629425490597e4d56ec33c3d6c\n",
            "  hostname: 82eedec80e15\n",
            "  iterations_since_restore: 10\n",
            "  mean_accuracy: 0.9777666926383972\n",
            "  node_ip: 172.28.0.2\n",
            "  pid: 4760\n",
            "  time_since_restore: 19.448837518692017\n",
            "  time_this_iter_s: 1.6929869651794434\n",
            "  time_total_s: 19.448837518692017\n",
            "  timestamp: 1617051556\n",
            "  timesteps_since_restore: 0\n",
            "  training_iteration: 10\n",
            "  trial_id: 7f14d_00001\n",
            "  \n"
          ],
          "name": "stdout"
        },
        {
          "output_type": "display_data",
          "data": {
            "text/html": [
              "== Status ==<br>Memory usage on this node: 2.0/12.7 GiB<br>Using AsyncHyperBand: num_stopped=0\n",
              "Bracket: Iter 320.000: None | Iter 80.000: None | Iter 20.000: None<br>Resources requested: 2/2 CPUs, 0/0 GPUs, 0.0/7.52 GiB heap, 0.0/2.59 GiB objects<br>Current best trial: 7f14d_00000 with mean_accuracy=0.98048335313797 and parameters={'threads': 2, 'lr': 0.035281725241970645, 'momentum': 0.7878616667997146, 'hidden': 214}<br>Result logdir: /root/ray_results/exp<br>Number of trials: 3/10 (1 PENDING, 1 RUNNING, 1 TERMINATED)<br><table>\n",
              "<thead>\n",
              "<tr><th>Trial name             </th><th>status    </th><th>loc            </th><th style=\"text-align: right;\">  hidden</th><th style=\"text-align: right;\">       lr</th><th style=\"text-align: right;\">  momentum</th><th style=\"text-align: right;\">     acc</th><th style=\"text-align: right;\">  iter</th><th style=\"text-align: right;\">  total time (s)</th></tr>\n",
              "</thead>\n",
              "<tbody>\n",
              "<tr><td>train_mnist_7f14d_00001</td><td>RUNNING   </td><td>172.28.0.2:4760</td><td style=\"text-align: right;\">     122</td><td style=\"text-align: right;\">0.0865463</td><td style=\"text-align: right;\">  0.686742</td><td style=\"text-align: right;\">0.977767</td><td style=\"text-align: right;\">    10</td><td style=\"text-align: right;\">         19.4488</td></tr>\n",
              "<tr><td>train_mnist_7f14d_00002</td><td>PENDING   </td><td>               </td><td style=\"text-align: right;\">     481</td><td style=\"text-align: right;\">0.012584 </td><td style=\"text-align: right;\">  0.278352</td><td style=\"text-align: right;\">        </td><td style=\"text-align: right;\">      </td><td style=\"text-align: right;\">                </td></tr>\n",
              "<tr><td>train_mnist_7f14d_00000</td><td>TERMINATED</td><td>               </td><td style=\"text-align: right;\">     214</td><td style=\"text-align: right;\">0.0352817</td><td style=\"text-align: right;\">  0.787862</td><td style=\"text-align: right;\">0.980483</td><td style=\"text-align: right;\">    12</td><td style=\"text-align: right;\">         30.5803</td></tr>\n",
              "</tbody>\n",
              "</table><br><br>"
            ],
            "text/plain": [
              "<IPython.core.display.HTML object>"
            ]
          },
          "metadata": {
            "tags": []
          }
        },
        {
          "output_type": "stream",
          "text": [
            "Result for train_mnist_7f14d_00001:\n",
            "  date: 2021-03-29_20-59-19\n",
            "  done: true\n",
            "  experiment_id: 322532629425490597e4d56ec33c3d6c\n",
            "  experiment_tag: 1_hidden=122,lr=0.086546,momentum=0.68674\n",
            "  hostname: 82eedec80e15\n",
            "  iterations_since_restore: 12\n",
            "  mean_accuracy: 0.9794833064079285\n",
            "  node_ip: 172.28.0.2\n",
            "  pid: 4760\n",
            "  time_since_restore: 22.84401297569275\n",
            "  time_this_iter_s: 1.6052837371826172\n",
            "  time_total_s: 22.84401297569275\n",
            "  timestamp: 1617051559\n",
            "  timesteps_since_restore: 0\n",
            "  training_iteration: 12\n",
            "  trial_id: 7f14d_00001\n",
            "  \n"
          ],
          "name": "stdout"
        },
        {
          "output_type": "stream",
          "text": [
            "\u001b[2m\u001b[36m(pid=4926)\u001b[0m 2021-03-29 20:59:21.104278: I tensorflow/stream_executor/platform/default/dso_loader.cc:49] Successfully opened dynamic library libcudart.so.11.0\n",
            "\u001b[2m\u001b[36m(pid=4926)\u001b[0m 2021-03-29 20:59:21.104278: I tensorflow/stream_executor/platform/default/dso_loader.cc:49] Successfully opened dynamic library libcudart.so.11.0\n",
            "\u001b[2m\u001b[36m(pid=4926)\u001b[0m 2021-03-29 20:59:23.274567: I tensorflow/compiler/jit/xla_cpu_device.cc:41] Not creating XLA devices, tf_xla_enable_xla_devices not set\n",
            "\u001b[2m\u001b[36m(pid=4926)\u001b[0m 2021-03-29 20:59:23.275685: I tensorflow/stream_executor/platform/default/dso_loader.cc:49] Successfully opened dynamic library libcuda.so.1\n",
            "\u001b[2m\u001b[36m(pid=4926)\u001b[0m 2021-03-29 20:59:23.287194: E tensorflow/stream_executor/cuda/cuda_driver.cc:328] failed call to cuInit: CUDA_ERROR_NO_DEVICE: no CUDA-capable device is detected\n",
            "\u001b[2m\u001b[36m(pid=4926)\u001b[0m 2021-03-29 20:59:23.287256: I tensorflow/stream_executor/cuda/cuda_diagnostics.cc:156] kernel driver does not appear to be running on this host (82eedec80e15): /proc/driver/nvidia/version does not exist\n",
            "\u001b[2m\u001b[36m(pid=4926)\u001b[0m 2021-03-29 20:59:23.288120: I tensorflow/compiler/jit/xla_gpu_device.cc:99] Not creating XLA devices, tf_xla_enable_xla_devices not set\n",
            "\u001b[2m\u001b[36m(pid=4926)\u001b[0m 2021-03-29 20:59:23.274567: I tensorflow/compiler/jit/xla_cpu_device.cc:41] Not creating XLA devices, tf_xla_enable_xla_devices not set\n",
            "\u001b[2m\u001b[36m(pid=4926)\u001b[0m 2021-03-29 20:59:23.275685: I tensorflow/stream_executor/platform/default/dso_loader.cc:49] Successfully opened dynamic library libcuda.so.1\n",
            "\u001b[2m\u001b[36m(pid=4926)\u001b[0m 2021-03-29 20:59:23.287194: E tensorflow/stream_executor/cuda/cuda_driver.cc:328] failed call to cuInit: CUDA_ERROR_NO_DEVICE: no CUDA-capable device is detected\n",
            "\u001b[2m\u001b[36m(pid=4926)\u001b[0m 2021-03-29 20:59:23.287256: I tensorflow/stream_executor/cuda/cuda_diagnostics.cc:156] kernel driver does not appear to be running on this host (82eedec80e15): /proc/driver/nvidia/version does not exist\n",
            "\u001b[2m\u001b[36m(pid=4926)\u001b[0m 2021-03-29 20:59:23.288120: I tensorflow/compiler/jit/xla_gpu_device.cc:99] Not creating XLA devices, tf_xla_enable_xla_devices not set\n",
            "\u001b[2m\u001b[36m(pid=4926)\u001b[0m 2021-03-29 20:59:23.612935: I tensorflow/compiler/mlir/mlir_graph_optimization_pass.cc:116] None of the MLIR optimization passes are enabled (registered 2)\n",
            "\u001b[2m\u001b[36m(pid=4926)\u001b[0m 2021-03-29 20:59:23.613405: I tensorflow/core/platform/profile_utils/cpu_utils.cc:112] CPU Frequency: 2200150000 Hz\n",
            "\u001b[2m\u001b[36m(pid=4926)\u001b[0m 2021-03-29 20:59:23.612935: I tensorflow/compiler/mlir/mlir_graph_optimization_pass.cc:116] None of the MLIR optimization passes are enabled (registered 2)\n",
            "\u001b[2m\u001b[36m(pid=4926)\u001b[0m 2021-03-29 20:59:23.613405: I tensorflow/core/platform/profile_utils/cpu_utils.cc:112] CPU Frequency: 2200150000 Hz\n"
          ],
          "name": "stderr"
        },
        {
          "output_type": "stream",
          "text": [
            "Result for train_mnist_7f14d_00002:\n",
            "  date: 2021-03-29_20-59-28\n",
            "  done: false\n",
            "  experiment_id: a95f3d0e9bf14a22b822b24b2a96f6a0\n",
            "  hostname: 82eedec80e15\n",
            "  iterations_since_restore: 1\n",
            "  mean_accuracy: 0.7793999910354614\n",
            "  node_ip: 172.28.0.2\n",
            "  pid: 4926\n",
            "  time_since_restore: 5.635667324066162\n",
            "  time_this_iter_s: 5.635667324066162\n",
            "  time_total_s: 5.635667324066162\n",
            "  timestamp: 1617051568\n",
            "  timesteps_since_restore: 0\n",
            "  training_iteration: 1\n",
            "  trial_id: 7f14d_00002\n",
            "  \n"
          ],
          "name": "stdout"
        },
        {
          "output_type": "display_data",
          "data": {
            "text/html": [
              "== Status ==<br>Memory usage on this node: 2.0/12.7 GiB<br>Using AsyncHyperBand: num_stopped=0\n",
              "Bracket: Iter 320.000: None | Iter 80.000: None | Iter 20.000: None<br>Resources requested: 2/2 CPUs, 0/0 GPUs, 0.0/7.52 GiB heap, 0.0/2.59 GiB objects<br>Current best trial: 7f14d_00000 with mean_accuracy=0.98048335313797 and parameters={'threads': 2, 'lr': 0.035281725241970645, 'momentum': 0.7878616667997146, 'hidden': 214}<br>Result logdir: /root/ray_results/exp<br>Number of trials: 4/10 (1 PENDING, 1 RUNNING, 2 TERMINATED)<br><table>\n",
              "<thead>\n",
              "<tr><th>Trial name             </th><th>status    </th><th>loc            </th><th style=\"text-align: right;\">  hidden</th><th style=\"text-align: right;\">       lr</th><th style=\"text-align: right;\">  momentum</th><th style=\"text-align: right;\">     acc</th><th style=\"text-align: right;\">  iter</th><th style=\"text-align: right;\">  total time (s)</th></tr>\n",
              "</thead>\n",
              "<tbody>\n",
              "<tr><td>train_mnist_7f14d_00002</td><td>RUNNING   </td><td>172.28.0.2:4926</td><td style=\"text-align: right;\">     481</td><td style=\"text-align: right;\">0.012584 </td><td style=\"text-align: right;\">  0.278352</td><td style=\"text-align: right;\">0.7794  </td><td style=\"text-align: right;\">     1</td><td style=\"text-align: right;\">         5.63567</td></tr>\n",
              "<tr><td>train_mnist_7f14d_00003</td><td>PENDING   </td><td>               </td><td style=\"text-align: right;\">     349</td><td style=\"text-align: right;\">0.0969487</td><td style=\"text-align: right;\">  0.880783</td><td style=\"text-align: right;\">        </td><td style=\"text-align: right;\">      </td><td style=\"text-align: right;\">                </td></tr>\n",
              "<tr><td>train_mnist_7f14d_00000</td><td>TERMINATED</td><td>               </td><td style=\"text-align: right;\">     214</td><td style=\"text-align: right;\">0.0352817</td><td style=\"text-align: right;\">  0.787862</td><td style=\"text-align: right;\">0.980483</td><td style=\"text-align: right;\">    12</td><td style=\"text-align: right;\">        30.5803 </td></tr>\n",
              "<tr><td>train_mnist_7f14d_00001</td><td>TERMINATED</td><td>               </td><td style=\"text-align: right;\">     122</td><td style=\"text-align: right;\">0.0865463</td><td style=\"text-align: right;\">  0.686742</td><td style=\"text-align: right;\">0.979483</td><td style=\"text-align: right;\">    12</td><td style=\"text-align: right;\">        22.844  </td></tr>\n",
              "</tbody>\n",
              "</table><br><br>"
            ],
            "text/plain": [
              "<IPython.core.display.HTML object>"
            ]
          },
          "metadata": {
            "tags": []
          }
        },
        {
          "output_type": "stream",
          "text": [
            "Result for train_mnist_7f14d_00002:\n",
            "  date: 2021-03-29_20-59-35\n",
            "  done: false\n",
            "  experiment_id: a95f3d0e9bf14a22b822b24b2a96f6a0\n",
            "  hostname: 82eedec80e15\n",
            "  iterations_since_restore: 3\n",
            "  mean_accuracy: 0.8941666483879089\n",
            "  node_ip: 172.28.0.2\n",
            "  pid: 4926\n",
            "  time_since_restore: 13.174731731414795\n",
            "  time_this_iter_s: 3.7638022899627686\n",
            "  time_total_s: 13.174731731414795\n",
            "  timestamp: 1617051575\n",
            "  timesteps_since_restore: 0\n",
            "  training_iteration: 3\n",
            "  trial_id: 7f14d_00002\n",
            "  \n"
          ],
          "name": "stdout"
        },
        {
          "output_type": "display_data",
          "data": {
            "text/html": [
              "== Status ==<br>Memory usage on this node: 2.0/12.7 GiB<br>Using AsyncHyperBand: num_stopped=0\n",
              "Bracket: Iter 320.000: None | Iter 80.000: None | Iter 20.000: None<br>Resources requested: 2/2 CPUs, 0/0 GPUs, 0.0/7.52 GiB heap, 0.0/2.59 GiB objects<br>Current best trial: 7f14d_00000 with mean_accuracy=0.98048335313797 and parameters={'threads': 2, 'lr': 0.035281725241970645, 'momentum': 0.7878616667997146, 'hidden': 214}<br>Result logdir: /root/ray_results/exp<br>Number of trials: 4/10 (1 PENDING, 1 RUNNING, 2 TERMINATED)<br><table>\n",
              "<thead>\n",
              "<tr><th>Trial name             </th><th>status    </th><th>loc            </th><th style=\"text-align: right;\">  hidden</th><th style=\"text-align: right;\">       lr</th><th style=\"text-align: right;\">  momentum</th><th style=\"text-align: right;\">     acc</th><th style=\"text-align: right;\">  iter</th><th style=\"text-align: right;\">  total time (s)</th></tr>\n",
              "</thead>\n",
              "<tbody>\n",
              "<tr><td>train_mnist_7f14d_00002</td><td>RUNNING   </td><td>172.28.0.2:4926</td><td style=\"text-align: right;\">     481</td><td style=\"text-align: right;\">0.012584 </td><td style=\"text-align: right;\">  0.278352</td><td style=\"text-align: right;\">0.894167</td><td style=\"text-align: right;\">     3</td><td style=\"text-align: right;\">         13.1747</td></tr>\n",
              "<tr><td>train_mnist_7f14d_00003</td><td>PENDING   </td><td>               </td><td style=\"text-align: right;\">     349</td><td style=\"text-align: right;\">0.0969487</td><td style=\"text-align: right;\">  0.880783</td><td style=\"text-align: right;\">        </td><td style=\"text-align: right;\">      </td><td style=\"text-align: right;\">                </td></tr>\n",
              "<tr><td>train_mnist_7f14d_00000</td><td>TERMINATED</td><td>               </td><td style=\"text-align: right;\">     214</td><td style=\"text-align: right;\">0.0352817</td><td style=\"text-align: right;\">  0.787862</td><td style=\"text-align: right;\">0.980483</td><td style=\"text-align: right;\">    12</td><td style=\"text-align: right;\">         30.5803</td></tr>\n",
              "<tr><td>train_mnist_7f14d_00001</td><td>TERMINATED</td><td>               </td><td style=\"text-align: right;\">     122</td><td style=\"text-align: right;\">0.0865463</td><td style=\"text-align: right;\">  0.686742</td><td style=\"text-align: right;\">0.979483</td><td style=\"text-align: right;\">    12</td><td style=\"text-align: right;\">         22.844 </td></tr>\n",
              "</tbody>\n",
              "</table><br><br>"
            ],
            "text/plain": [
              "<IPython.core.display.HTML object>"
            ]
          },
          "metadata": {
            "tags": []
          }
        },
        {
          "output_type": "stream",
          "text": [
            "Result for train_mnist_7f14d_00002:\n",
            "  date: 2021-03-29_20-59-43\n",
            "  done: false\n",
            "  experiment_id: a95f3d0e9bf14a22b822b24b2a96f6a0\n",
            "  hostname: 82eedec80e15\n",
            "  iterations_since_restore: 5\n",
            "  mean_accuracy: 0.910099983215332\n",
            "  node_ip: 172.28.0.2\n",
            "  pid: 4926\n",
            "  time_since_restore: 20.733929872512817\n",
            "  time_this_iter_s: 3.705052137374878\n",
            "  time_total_s: 20.733929872512817\n",
            "  timestamp: 1617051583\n",
            "  timesteps_since_restore: 0\n",
            "  training_iteration: 5\n",
            "  trial_id: 7f14d_00002\n",
            "  \n"
          ],
          "name": "stdout"
        },
        {
          "output_type": "display_data",
          "data": {
            "text/html": [
              "== Status ==<br>Memory usage on this node: 2.0/12.7 GiB<br>Using AsyncHyperBand: num_stopped=0\n",
              "Bracket: Iter 320.000: None | Iter 80.000: None | Iter 20.000: None<br>Resources requested: 2/2 CPUs, 0/0 GPUs, 0.0/7.52 GiB heap, 0.0/2.59 GiB objects<br>Current best trial: 7f14d_00000 with mean_accuracy=0.98048335313797 and parameters={'threads': 2, 'lr': 0.035281725241970645, 'momentum': 0.7878616667997146, 'hidden': 214}<br>Result logdir: /root/ray_results/exp<br>Number of trials: 4/10 (1 PENDING, 1 RUNNING, 2 TERMINATED)<br><table>\n",
              "<thead>\n",
              "<tr><th>Trial name             </th><th>status    </th><th>loc            </th><th style=\"text-align: right;\">  hidden</th><th style=\"text-align: right;\">       lr</th><th style=\"text-align: right;\">  momentum</th><th style=\"text-align: right;\">     acc</th><th style=\"text-align: right;\">  iter</th><th style=\"text-align: right;\">  total time (s)</th></tr>\n",
              "</thead>\n",
              "<tbody>\n",
              "<tr><td>train_mnist_7f14d_00002</td><td>RUNNING   </td><td>172.28.0.2:4926</td><td style=\"text-align: right;\">     481</td><td style=\"text-align: right;\">0.012584 </td><td style=\"text-align: right;\">  0.278352</td><td style=\"text-align: right;\">0.9101  </td><td style=\"text-align: right;\">     5</td><td style=\"text-align: right;\">         20.7339</td></tr>\n",
              "<tr><td>train_mnist_7f14d_00003</td><td>PENDING   </td><td>               </td><td style=\"text-align: right;\">     349</td><td style=\"text-align: right;\">0.0969487</td><td style=\"text-align: right;\">  0.880783</td><td style=\"text-align: right;\">        </td><td style=\"text-align: right;\">      </td><td style=\"text-align: right;\">                </td></tr>\n",
              "<tr><td>train_mnist_7f14d_00000</td><td>TERMINATED</td><td>               </td><td style=\"text-align: right;\">     214</td><td style=\"text-align: right;\">0.0352817</td><td style=\"text-align: right;\">  0.787862</td><td style=\"text-align: right;\">0.980483</td><td style=\"text-align: right;\">    12</td><td style=\"text-align: right;\">         30.5803</td></tr>\n",
              "<tr><td>train_mnist_7f14d_00001</td><td>TERMINATED</td><td>               </td><td style=\"text-align: right;\">     122</td><td style=\"text-align: right;\">0.0865463</td><td style=\"text-align: right;\">  0.686742</td><td style=\"text-align: right;\">0.979483</td><td style=\"text-align: right;\">    12</td><td style=\"text-align: right;\">         22.844 </td></tr>\n",
              "</tbody>\n",
              "</table><br><br>"
            ],
            "text/plain": [
              "<IPython.core.display.HTML object>"
            ]
          },
          "metadata": {
            "tags": []
          }
        },
        {
          "output_type": "stream",
          "text": [
            "Result for train_mnist_7f14d_00002:\n",
            "  date: 2021-03-29_20-59-50\n",
            "  done: false\n",
            "  experiment_id: a95f3d0e9bf14a22b822b24b2a96f6a0\n",
            "  hostname: 82eedec80e15\n",
            "  iterations_since_restore: 7\n",
            "  mean_accuracy: 0.9214333295822144\n",
            "  node_ip: 172.28.0.2\n",
            "  pid: 4926\n",
            "  time_since_restore: 28.11618709564209\n",
            "  time_this_iter_s: 3.7101175785064697\n",
            "  time_total_s: 28.11618709564209\n",
            "  timestamp: 1617051590\n",
            "  timesteps_since_restore: 0\n",
            "  training_iteration: 7\n",
            "  trial_id: 7f14d_00002\n",
            "  \n"
          ],
          "name": "stdout"
        },
        {
          "output_type": "display_data",
          "data": {
            "text/html": [
              "== Status ==<br>Memory usage on this node: 2.0/12.7 GiB<br>Using AsyncHyperBand: num_stopped=0\n",
              "Bracket: Iter 320.000: None | Iter 80.000: None | Iter 20.000: None<br>Resources requested: 2/2 CPUs, 0/0 GPUs, 0.0/7.52 GiB heap, 0.0/2.59 GiB objects<br>Current best trial: 7f14d_00000 with mean_accuracy=0.98048335313797 and parameters={'threads': 2, 'lr': 0.035281725241970645, 'momentum': 0.7878616667997146, 'hidden': 214}<br>Result logdir: /root/ray_results/exp<br>Number of trials: 4/10 (1 PENDING, 1 RUNNING, 2 TERMINATED)<br><table>\n",
              "<thead>\n",
              "<tr><th>Trial name             </th><th>status    </th><th>loc            </th><th style=\"text-align: right;\">  hidden</th><th style=\"text-align: right;\">       lr</th><th style=\"text-align: right;\">  momentum</th><th style=\"text-align: right;\">     acc</th><th style=\"text-align: right;\">  iter</th><th style=\"text-align: right;\">  total time (s)</th></tr>\n",
              "</thead>\n",
              "<tbody>\n",
              "<tr><td>train_mnist_7f14d_00002</td><td>RUNNING   </td><td>172.28.0.2:4926</td><td style=\"text-align: right;\">     481</td><td style=\"text-align: right;\">0.012584 </td><td style=\"text-align: right;\">  0.278352</td><td style=\"text-align: right;\">0.921433</td><td style=\"text-align: right;\">     7</td><td style=\"text-align: right;\">         28.1162</td></tr>\n",
              "<tr><td>train_mnist_7f14d_00003</td><td>PENDING   </td><td>               </td><td style=\"text-align: right;\">     349</td><td style=\"text-align: right;\">0.0969487</td><td style=\"text-align: right;\">  0.880783</td><td style=\"text-align: right;\">        </td><td style=\"text-align: right;\">      </td><td style=\"text-align: right;\">                </td></tr>\n",
              "<tr><td>train_mnist_7f14d_00000</td><td>TERMINATED</td><td>               </td><td style=\"text-align: right;\">     214</td><td style=\"text-align: right;\">0.0352817</td><td style=\"text-align: right;\">  0.787862</td><td style=\"text-align: right;\">0.980483</td><td style=\"text-align: right;\">    12</td><td style=\"text-align: right;\">         30.5803</td></tr>\n",
              "<tr><td>train_mnist_7f14d_00001</td><td>TERMINATED</td><td>               </td><td style=\"text-align: right;\">     122</td><td style=\"text-align: right;\">0.0865463</td><td style=\"text-align: right;\">  0.686742</td><td style=\"text-align: right;\">0.979483</td><td style=\"text-align: right;\">    12</td><td style=\"text-align: right;\">         22.844 </td></tr>\n",
              "</tbody>\n",
              "</table><br><br>"
            ],
            "text/plain": [
              "<IPython.core.display.HTML object>"
            ]
          },
          "metadata": {
            "tags": []
          }
        },
        {
          "output_type": "stream",
          "text": [
            "Result for train_mnist_7f14d_00002:\n",
            "  date: 2021-03-29_20-59-58\n",
            "  done: false\n",
            "  experiment_id: a95f3d0e9bf14a22b822b24b2a96f6a0\n",
            "  hostname: 82eedec80e15\n",
            "  iterations_since_restore: 9\n",
            "  mean_accuracy: 0.9292166829109192\n",
            "  node_ip: 172.28.0.2\n",
            "  pid: 4926\n",
            "  time_since_restore: 35.61882305145264\n",
            "  time_this_iter_s: 3.6997320652008057\n",
            "  time_total_s: 35.61882305145264\n",
            "  timestamp: 1617051598\n",
            "  timesteps_since_restore: 0\n",
            "  training_iteration: 9\n",
            "  trial_id: 7f14d_00002\n",
            "  \n"
          ],
          "name": "stdout"
        },
        {
          "output_type": "display_data",
          "data": {
            "text/html": [
              "== Status ==<br>Memory usage on this node: 2.0/12.7 GiB<br>Using AsyncHyperBand: num_stopped=0\n",
              "Bracket: Iter 320.000: None | Iter 80.000: None | Iter 20.000: None<br>Resources requested: 2/2 CPUs, 0/0 GPUs, 0.0/7.52 GiB heap, 0.0/2.59 GiB objects<br>Current best trial: 7f14d_00000 with mean_accuracy=0.98048335313797 and parameters={'threads': 2, 'lr': 0.035281725241970645, 'momentum': 0.7878616667997146, 'hidden': 214}<br>Result logdir: /root/ray_results/exp<br>Number of trials: 4/10 (1 PENDING, 1 RUNNING, 2 TERMINATED)<br><table>\n",
              "<thead>\n",
              "<tr><th>Trial name             </th><th>status    </th><th>loc            </th><th style=\"text-align: right;\">  hidden</th><th style=\"text-align: right;\">       lr</th><th style=\"text-align: right;\">  momentum</th><th style=\"text-align: right;\">     acc</th><th style=\"text-align: right;\">  iter</th><th style=\"text-align: right;\">  total time (s)</th></tr>\n",
              "</thead>\n",
              "<tbody>\n",
              "<tr><td>train_mnist_7f14d_00002</td><td>RUNNING   </td><td>172.28.0.2:4926</td><td style=\"text-align: right;\">     481</td><td style=\"text-align: right;\">0.012584 </td><td style=\"text-align: right;\">  0.278352</td><td style=\"text-align: right;\">0.929217</td><td style=\"text-align: right;\">     9</td><td style=\"text-align: right;\">         35.6188</td></tr>\n",
              "<tr><td>train_mnist_7f14d_00003</td><td>PENDING   </td><td>               </td><td style=\"text-align: right;\">     349</td><td style=\"text-align: right;\">0.0969487</td><td style=\"text-align: right;\">  0.880783</td><td style=\"text-align: right;\">        </td><td style=\"text-align: right;\">      </td><td style=\"text-align: right;\">                </td></tr>\n",
              "<tr><td>train_mnist_7f14d_00000</td><td>TERMINATED</td><td>               </td><td style=\"text-align: right;\">     214</td><td style=\"text-align: right;\">0.0352817</td><td style=\"text-align: right;\">  0.787862</td><td style=\"text-align: right;\">0.980483</td><td style=\"text-align: right;\">    12</td><td style=\"text-align: right;\">         30.5803</td></tr>\n",
              "<tr><td>train_mnist_7f14d_00001</td><td>TERMINATED</td><td>               </td><td style=\"text-align: right;\">     122</td><td style=\"text-align: right;\">0.0865463</td><td style=\"text-align: right;\">  0.686742</td><td style=\"text-align: right;\">0.979483</td><td style=\"text-align: right;\">    12</td><td style=\"text-align: right;\">         22.844 </td></tr>\n",
              "</tbody>\n",
              "</table><br><br>"
            ],
            "text/plain": [
              "<IPython.core.display.HTML object>"
            ]
          },
          "metadata": {
            "tags": []
          }
        },
        {
          "output_type": "stream",
          "text": [
            "Result for train_mnist_7f14d_00002:\n",
            "  date: 2021-03-29_21-00-05\n",
            "  done: false\n",
            "  experiment_id: a95f3d0e9bf14a22b822b24b2a96f6a0\n",
            "  hostname: 82eedec80e15\n",
            "  iterations_since_restore: 11\n",
            "  mean_accuracy: 0.9358500242233276\n",
            "  node_ip: 172.28.0.2\n",
            "  pid: 4926\n",
            "  time_since_restore: 43.31030464172363\n",
            "  time_this_iter_s: 3.857245445251465\n",
            "  time_total_s: 43.31030464172363\n",
            "  timestamp: 1617051605\n",
            "  timesteps_since_restore: 0\n",
            "  training_iteration: 11\n",
            "  trial_id: 7f14d_00002\n",
            "  \n"
          ],
          "name": "stdout"
        },
        {
          "output_type": "display_data",
          "data": {
            "text/html": [
              "== Status ==<br>Memory usage on this node: 2.0/12.7 GiB<br>Using AsyncHyperBand: num_stopped=0\n",
              "Bracket: Iter 320.000: None | Iter 80.000: None | Iter 20.000: None<br>Resources requested: 2/2 CPUs, 0/0 GPUs, 0.0/7.52 GiB heap, 0.0/2.59 GiB objects<br>Current best trial: 7f14d_00000 with mean_accuracy=0.98048335313797 and parameters={'threads': 2, 'lr': 0.035281725241970645, 'momentum': 0.7878616667997146, 'hidden': 214}<br>Result logdir: /root/ray_results/exp<br>Number of trials: 4/10 (1 PENDING, 1 RUNNING, 2 TERMINATED)<br><table>\n",
              "<thead>\n",
              "<tr><th>Trial name             </th><th>status    </th><th>loc            </th><th style=\"text-align: right;\">  hidden</th><th style=\"text-align: right;\">       lr</th><th style=\"text-align: right;\">  momentum</th><th style=\"text-align: right;\">     acc</th><th style=\"text-align: right;\">  iter</th><th style=\"text-align: right;\">  total time (s)</th></tr>\n",
              "</thead>\n",
              "<tbody>\n",
              "<tr><td>train_mnist_7f14d_00002</td><td>RUNNING   </td><td>172.28.0.2:4926</td><td style=\"text-align: right;\">     481</td><td style=\"text-align: right;\">0.012584 </td><td style=\"text-align: right;\">  0.278352</td><td style=\"text-align: right;\">0.93585 </td><td style=\"text-align: right;\">    11</td><td style=\"text-align: right;\">         43.3103</td></tr>\n",
              "<tr><td>train_mnist_7f14d_00003</td><td>PENDING   </td><td>               </td><td style=\"text-align: right;\">     349</td><td style=\"text-align: right;\">0.0969487</td><td style=\"text-align: right;\">  0.880783</td><td style=\"text-align: right;\">        </td><td style=\"text-align: right;\">      </td><td style=\"text-align: right;\">                </td></tr>\n",
              "<tr><td>train_mnist_7f14d_00000</td><td>TERMINATED</td><td>               </td><td style=\"text-align: right;\">     214</td><td style=\"text-align: right;\">0.0352817</td><td style=\"text-align: right;\">  0.787862</td><td style=\"text-align: right;\">0.980483</td><td style=\"text-align: right;\">    12</td><td style=\"text-align: right;\">         30.5803</td></tr>\n",
              "<tr><td>train_mnist_7f14d_00001</td><td>TERMINATED</td><td>               </td><td style=\"text-align: right;\">     122</td><td style=\"text-align: right;\">0.0865463</td><td style=\"text-align: right;\">  0.686742</td><td style=\"text-align: right;\">0.979483</td><td style=\"text-align: right;\">    12</td><td style=\"text-align: right;\">         22.844 </td></tr>\n",
              "</tbody>\n",
              "</table><br><br>"
            ],
            "text/plain": [
              "<IPython.core.display.HTML object>"
            ]
          },
          "metadata": {
            "tags": []
          }
        },
        {
          "output_type": "stream",
          "text": [
            "Result for train_mnist_7f14d_00002:\n",
            "  date: 2021-03-29_21-00-09\n",
            "  done: true\n",
            "  experiment_id: a95f3d0e9bf14a22b822b24b2a96f6a0\n",
            "  experiment_tag: 2_hidden=481,lr=0.012584,momentum=0.27835\n",
            "  hostname: 82eedec80e15\n",
            "  iterations_since_restore: 12\n",
            "  mean_accuracy: 0.9379166960716248\n",
            "  node_ip: 172.28.0.2\n",
            "  pid: 4926\n",
            "  time_since_restore: 47.27689599990845\n",
            "  time_this_iter_s: 3.9665913581848145\n",
            "  time_total_s: 47.27689599990845\n",
            "  timestamp: 1617051609\n",
            "  timesteps_since_restore: 0\n",
            "  training_iteration: 12\n",
            "  trial_id: 7f14d_00002\n",
            "  \n"
          ],
          "name": "stdout"
        },
        {
          "output_type": "stream",
          "text": [
            "\u001b[2m\u001b[36m(pid=5004)\u001b[0m 2021-03-29 21:00:11.309038: I tensorflow/stream_executor/platform/default/dso_loader.cc:49] Successfully opened dynamic library libcudart.so.11.0\n",
            "\u001b[2m\u001b[36m(pid=5004)\u001b[0m 2021-03-29 21:00:11.309038: I tensorflow/stream_executor/platform/default/dso_loader.cc:49] Successfully opened dynamic library libcudart.so.11.0\n",
            "\u001b[2m\u001b[36m(pid=5004)\u001b[0m 2021-03-29 21:00:13.587047: I tensorflow/compiler/jit/xla_cpu_device.cc:41] Not creating XLA devices, tf_xla_enable_xla_devices not set\n",
            "\u001b[2m\u001b[36m(pid=5004)\u001b[0m 2021-03-29 21:00:13.588145: I tensorflow/stream_executor/platform/default/dso_loader.cc:49] Successfully opened dynamic library libcuda.so.1\n",
            "\u001b[2m\u001b[36m(pid=5004)\u001b[0m 2021-03-29 21:00:13.599768: E tensorflow/stream_executor/cuda/cuda_driver.cc:328] failed call to cuInit: CUDA_ERROR_NO_DEVICE: no CUDA-capable device is detected\n",
            "\u001b[2m\u001b[36m(pid=5004)\u001b[0m 2021-03-29 21:00:13.599842: I tensorflow/stream_executor/cuda/cuda_diagnostics.cc:156] kernel driver does not appear to be running on this host (82eedec80e15): /proc/driver/nvidia/version does not exist\n",
            "\u001b[2m\u001b[36m(pid=5004)\u001b[0m 2021-03-29 21:00:13.600525: I tensorflow/compiler/jit/xla_gpu_device.cc:99] Not creating XLA devices, tf_xla_enable_xla_devices not set\n",
            "\u001b[2m\u001b[36m(pid=5004)\u001b[0m 2021-03-29 21:00:13.587047: I tensorflow/compiler/jit/xla_cpu_device.cc:41] Not creating XLA devices, tf_xla_enable_xla_devices not set\n",
            "\u001b[2m\u001b[36m(pid=5004)\u001b[0m 2021-03-29 21:00:13.588145: I tensorflow/stream_executor/platform/default/dso_loader.cc:49] Successfully opened dynamic library libcuda.so.1\n",
            "\u001b[2m\u001b[36m(pid=5004)\u001b[0m 2021-03-29 21:00:13.599768: E tensorflow/stream_executor/cuda/cuda_driver.cc:328] failed call to cuInit: CUDA_ERROR_NO_DEVICE: no CUDA-capable device is detected\n",
            "\u001b[2m\u001b[36m(pid=5004)\u001b[0m 2021-03-29 21:00:13.599842: I tensorflow/stream_executor/cuda/cuda_diagnostics.cc:156] kernel driver does not appear to be running on this host (82eedec80e15): /proc/driver/nvidia/version does not exist\n",
            "\u001b[2m\u001b[36m(pid=5004)\u001b[0m 2021-03-29 21:00:13.600525: I tensorflow/compiler/jit/xla_gpu_device.cc:99] Not creating XLA devices, tf_xla_enable_xla_devices not set\n",
            "\u001b[2m\u001b[36m(pid=5004)\u001b[0m 2021-03-29 21:00:13.945815: I tensorflow/compiler/mlir/mlir_graph_optimization_pass.cc:116] None of the MLIR optimization passes are enabled (registered 2)\n",
            "\u001b[2m\u001b[36m(pid=5004)\u001b[0m 2021-03-29 21:00:13.946319: I tensorflow/core/platform/profile_utils/cpu_utils.cc:112] CPU Frequency: 2200150000 Hz\n",
            "\u001b[2m\u001b[36m(pid=5004)\u001b[0m 2021-03-29 21:00:13.945815: I tensorflow/compiler/mlir/mlir_graph_optimization_pass.cc:116] None of the MLIR optimization passes are enabled (registered 2)\n",
            "\u001b[2m\u001b[36m(pid=5004)\u001b[0m 2021-03-29 21:00:13.946319: I tensorflow/core/platform/profile_utils/cpu_utils.cc:112] CPU Frequency: 2200150000 Hz\n"
          ],
          "name": "stderr"
        },
        {
          "output_type": "stream",
          "text": [
            "Result for train_mnist_7f14d_00003:\n",
            "  date: 2021-03-29_21-00-17\n",
            "  done: false\n",
            "  experiment_id: cf3d4ab9fb104f1da3aec991a6cbbf46\n",
            "  hostname: 82eedec80e15\n",
            "  iterations_since_restore: 1\n",
            "  mean_accuracy: 0.918150007724762\n",
            "  node_ip: 172.28.0.2\n",
            "  pid: 5004\n",
            "  time_since_restore: 4.959395408630371\n",
            "  time_this_iter_s: 4.959395408630371\n",
            "  time_total_s: 4.959395408630371\n",
            "  timestamp: 1617051617\n",
            "  timesteps_since_restore: 0\n",
            "  training_iteration: 1\n",
            "  trial_id: 7f14d_00003\n",
            "  \n"
          ],
          "name": "stdout"
        },
        {
          "output_type": "display_data",
          "data": {
            "text/html": [
              "== Status ==<br>Memory usage on this node: 2.0/12.7 GiB<br>Using AsyncHyperBand: num_stopped=0\n",
              "Bracket: Iter 320.000: None | Iter 80.000: None | Iter 20.000: None<br>Resources requested: 2/2 CPUs, 0/0 GPUs, 0.0/7.52 GiB heap, 0.0/2.59 GiB objects<br>Current best trial: 7f14d_00000 with mean_accuracy=0.98048335313797 and parameters={'threads': 2, 'lr': 0.035281725241970645, 'momentum': 0.7878616667997146, 'hidden': 214}<br>Result logdir: /root/ray_results/exp<br>Number of trials: 5/10 (1 PENDING, 1 RUNNING, 3 TERMINATED)<br><table>\n",
              "<thead>\n",
              "<tr><th>Trial name             </th><th>status    </th><th>loc            </th><th style=\"text-align: right;\">  hidden</th><th style=\"text-align: right;\">       lr</th><th style=\"text-align: right;\">  momentum</th><th style=\"text-align: right;\">     acc</th><th style=\"text-align: right;\">  iter</th><th style=\"text-align: right;\">  total time (s)</th></tr>\n",
              "</thead>\n",
              "<tbody>\n",
              "<tr><td>train_mnist_7f14d_00003</td><td>RUNNING   </td><td>172.28.0.2:5004</td><td style=\"text-align: right;\">     349</td><td style=\"text-align: right;\">0.0969487</td><td style=\"text-align: right;\">  0.880783</td><td style=\"text-align: right;\">0.91815 </td><td style=\"text-align: right;\">     1</td><td style=\"text-align: right;\">          4.9594</td></tr>\n",
              "<tr><td>train_mnist_7f14d_00004</td><td>PENDING   </td><td>               </td><td style=\"text-align: right;\">     490</td><td style=\"text-align: right;\">0.0562747</td><td style=\"text-align: right;\">  0.18449 </td><td style=\"text-align: right;\">        </td><td style=\"text-align: right;\">      </td><td style=\"text-align: right;\">                </td></tr>\n",
              "<tr><td>train_mnist_7f14d_00000</td><td>TERMINATED</td><td>               </td><td style=\"text-align: right;\">     214</td><td style=\"text-align: right;\">0.0352817</td><td style=\"text-align: right;\">  0.787862</td><td style=\"text-align: right;\">0.980483</td><td style=\"text-align: right;\">    12</td><td style=\"text-align: right;\">         30.5803</td></tr>\n",
              "<tr><td>train_mnist_7f14d_00001</td><td>TERMINATED</td><td>               </td><td style=\"text-align: right;\">     122</td><td style=\"text-align: right;\">0.0865463</td><td style=\"text-align: right;\">  0.686742</td><td style=\"text-align: right;\">0.979483</td><td style=\"text-align: right;\">    12</td><td style=\"text-align: right;\">         22.844 </td></tr>\n",
              "<tr><td>train_mnist_7f14d_00002</td><td>TERMINATED</td><td>               </td><td style=\"text-align: right;\">     481</td><td style=\"text-align: right;\">0.012584 </td><td style=\"text-align: right;\">  0.278352</td><td style=\"text-align: right;\">0.937917</td><td style=\"text-align: right;\">    12</td><td style=\"text-align: right;\">         47.2769</td></tr>\n",
              "</tbody>\n",
              "</table><br><br>"
            ],
            "text/plain": [
              "<IPython.core.display.HTML object>"
            ]
          },
          "metadata": {
            "tags": []
          }
        },
        {
          "output_type": "stream",
          "text": [
            "Result for train_mnist_7f14d_00003:\n",
            "  date: 2021-03-29_21-00-24\n",
            "  done: false\n",
            "  experiment_id: cf3d4ab9fb104f1da3aec991a6cbbf46\n",
            "  hostname: 82eedec80e15\n",
            "  iterations_since_restore: 3\n",
            "  mean_accuracy: 0.9742833375930786\n",
            "  node_ip: 172.28.0.2\n",
            "  pid: 5004\n",
            "  time_since_restore: 11.322012186050415\n",
            "  time_this_iter_s: 3.142350673675537\n",
            "  time_total_s: 11.322012186050415\n",
            "  timestamp: 1617051624\n",
            "  timesteps_since_restore: 0\n",
            "  training_iteration: 3\n",
            "  trial_id: 7f14d_00003\n",
            "  \n"
          ],
          "name": "stdout"
        },
        {
          "output_type": "display_data",
          "data": {
            "text/html": [
              "== Status ==<br>Memory usage on this node: 2.0/12.7 GiB<br>Using AsyncHyperBand: num_stopped=0\n",
              "Bracket: Iter 320.000: None | Iter 80.000: None | Iter 20.000: None<br>Resources requested: 2/2 CPUs, 0/0 GPUs, 0.0/7.52 GiB heap, 0.0/2.59 GiB objects<br>Current best trial: 7f14d_00000 with mean_accuracy=0.98048335313797 and parameters={'threads': 2, 'lr': 0.035281725241970645, 'momentum': 0.7878616667997146, 'hidden': 214}<br>Result logdir: /root/ray_results/exp<br>Number of trials: 5/10 (1 PENDING, 1 RUNNING, 3 TERMINATED)<br><table>\n",
              "<thead>\n",
              "<tr><th>Trial name             </th><th>status    </th><th>loc            </th><th style=\"text-align: right;\">  hidden</th><th style=\"text-align: right;\">       lr</th><th style=\"text-align: right;\">  momentum</th><th style=\"text-align: right;\">     acc</th><th style=\"text-align: right;\">  iter</th><th style=\"text-align: right;\">  total time (s)</th></tr>\n",
              "</thead>\n",
              "<tbody>\n",
              "<tr><td>train_mnist_7f14d_00003</td><td>RUNNING   </td><td>172.28.0.2:5004</td><td style=\"text-align: right;\">     349</td><td style=\"text-align: right;\">0.0969487</td><td style=\"text-align: right;\">  0.880783</td><td style=\"text-align: right;\">0.974283</td><td style=\"text-align: right;\">     3</td><td style=\"text-align: right;\">         11.322 </td></tr>\n",
              "<tr><td>train_mnist_7f14d_00004</td><td>PENDING   </td><td>               </td><td style=\"text-align: right;\">     490</td><td style=\"text-align: right;\">0.0562747</td><td style=\"text-align: right;\">  0.18449 </td><td style=\"text-align: right;\">        </td><td style=\"text-align: right;\">      </td><td style=\"text-align: right;\">                </td></tr>\n",
              "<tr><td>train_mnist_7f14d_00000</td><td>TERMINATED</td><td>               </td><td style=\"text-align: right;\">     214</td><td style=\"text-align: right;\">0.0352817</td><td style=\"text-align: right;\">  0.787862</td><td style=\"text-align: right;\">0.980483</td><td style=\"text-align: right;\">    12</td><td style=\"text-align: right;\">         30.5803</td></tr>\n",
              "<tr><td>train_mnist_7f14d_00001</td><td>TERMINATED</td><td>               </td><td style=\"text-align: right;\">     122</td><td style=\"text-align: right;\">0.0865463</td><td style=\"text-align: right;\">  0.686742</td><td style=\"text-align: right;\">0.979483</td><td style=\"text-align: right;\">    12</td><td style=\"text-align: right;\">         22.844 </td></tr>\n",
              "<tr><td>train_mnist_7f14d_00002</td><td>TERMINATED</td><td>               </td><td style=\"text-align: right;\">     481</td><td style=\"text-align: right;\">0.012584 </td><td style=\"text-align: right;\">  0.278352</td><td style=\"text-align: right;\">0.937917</td><td style=\"text-align: right;\">    12</td><td style=\"text-align: right;\">         47.2769</td></tr>\n",
              "</tbody>\n",
              "</table><br><br>"
            ],
            "text/plain": [
              "<IPython.core.display.HTML object>"
            ]
          },
          "metadata": {
            "tags": []
          }
        },
        {
          "output_type": "stream",
          "text": [
            "Result for train_mnist_7f14d_00003:\n",
            "  date: 2021-03-29_21-00-30\n",
            "  done: false\n",
            "  experiment_id: cf3d4ab9fb104f1da3aec991a6cbbf46\n",
            "  hostname: 82eedec80e15\n",
            "  iterations_since_restore: 5\n",
            "  mean_accuracy: 0.982283353805542\n",
            "  node_ip: 172.28.0.2\n",
            "  pid: 5004\n",
            "  time_since_restore: 17.334530353546143\n",
            "  time_this_iter_s: 3.0036895275115967\n",
            "  time_total_s: 17.334530353546143\n",
            "  timestamp: 1617051630\n",
            "  timesteps_since_restore: 0\n",
            "  training_iteration: 5\n",
            "  trial_id: 7f14d_00003\n",
            "  \n"
          ],
          "name": "stdout"
        },
        {
          "output_type": "display_data",
          "data": {
            "text/html": [
              "== Status ==<br>Memory usage on this node: 2.0/12.7 GiB<br>Using AsyncHyperBand: num_stopped=0\n",
              "Bracket: Iter 320.000: None | Iter 80.000: None | Iter 20.000: None<br>Resources requested: 2/2 CPUs, 0/0 GPUs, 0.0/7.52 GiB heap, 0.0/2.59 GiB objects<br>Current best trial: 7f14d_00003 with mean_accuracy=0.982283353805542 and parameters={'threads': 2, 'lr': 0.09694874184722062, 'momentum': 0.8807830251886724, 'hidden': 349}<br>Result logdir: /root/ray_results/exp<br>Number of trials: 5/10 (1 PENDING, 1 RUNNING, 3 TERMINATED)<br><table>\n",
              "<thead>\n",
              "<tr><th>Trial name             </th><th>status    </th><th>loc            </th><th style=\"text-align: right;\">  hidden</th><th style=\"text-align: right;\">       lr</th><th style=\"text-align: right;\">  momentum</th><th style=\"text-align: right;\">     acc</th><th style=\"text-align: right;\">  iter</th><th style=\"text-align: right;\">  total time (s)</th></tr>\n",
              "</thead>\n",
              "<tbody>\n",
              "<tr><td>train_mnist_7f14d_00003</td><td>RUNNING   </td><td>172.28.0.2:5004</td><td style=\"text-align: right;\">     349</td><td style=\"text-align: right;\">0.0969487</td><td style=\"text-align: right;\">  0.880783</td><td style=\"text-align: right;\">0.982283</td><td style=\"text-align: right;\">     5</td><td style=\"text-align: right;\">         17.3345</td></tr>\n",
              "<tr><td>train_mnist_7f14d_00004</td><td>PENDING   </td><td>               </td><td style=\"text-align: right;\">     490</td><td style=\"text-align: right;\">0.0562747</td><td style=\"text-align: right;\">  0.18449 </td><td style=\"text-align: right;\">        </td><td style=\"text-align: right;\">      </td><td style=\"text-align: right;\">                </td></tr>\n",
              "<tr><td>train_mnist_7f14d_00000</td><td>TERMINATED</td><td>               </td><td style=\"text-align: right;\">     214</td><td style=\"text-align: right;\">0.0352817</td><td style=\"text-align: right;\">  0.787862</td><td style=\"text-align: right;\">0.980483</td><td style=\"text-align: right;\">    12</td><td style=\"text-align: right;\">         30.5803</td></tr>\n",
              "<tr><td>train_mnist_7f14d_00001</td><td>TERMINATED</td><td>               </td><td style=\"text-align: right;\">     122</td><td style=\"text-align: right;\">0.0865463</td><td style=\"text-align: right;\">  0.686742</td><td style=\"text-align: right;\">0.979483</td><td style=\"text-align: right;\">    12</td><td style=\"text-align: right;\">         22.844 </td></tr>\n",
              "<tr><td>train_mnist_7f14d_00002</td><td>TERMINATED</td><td>               </td><td style=\"text-align: right;\">     481</td><td style=\"text-align: right;\">0.012584 </td><td style=\"text-align: right;\">  0.278352</td><td style=\"text-align: right;\">0.937917</td><td style=\"text-align: right;\">    12</td><td style=\"text-align: right;\">         47.2769</td></tr>\n",
              "</tbody>\n",
              "</table><br><br>"
            ],
            "text/plain": [
              "<IPython.core.display.HTML object>"
            ]
          },
          "metadata": {
            "tags": []
          }
        },
        {
          "output_type": "stream",
          "text": [
            "Result for train_mnist_7f14d_00003:\n",
            "  date: 2021-03-29_21-00-36\n",
            "  done: false\n",
            "  experiment_id: cf3d4ab9fb104f1da3aec991a6cbbf46\n",
            "  hostname: 82eedec80e15\n",
            "  iterations_since_restore: 7\n",
            "  mean_accuracy: 0.9872666597366333\n",
            "  node_ip: 172.28.0.2\n",
            "  pid: 5004\n",
            "  time_since_restore: 23.4082932472229\n",
            "  time_this_iter_s: 2.9664721488952637\n",
            "  time_total_s: 23.4082932472229\n",
            "  timestamp: 1617051636\n",
            "  timesteps_since_restore: 0\n",
            "  training_iteration: 7\n",
            "  trial_id: 7f14d_00003\n",
            "  \n"
          ],
          "name": "stdout"
        },
        {
          "output_type": "display_data",
          "data": {
            "text/html": [
              "== Status ==<br>Memory usage on this node: 2.0/12.7 GiB<br>Using AsyncHyperBand: num_stopped=0\n",
              "Bracket: Iter 320.000: None | Iter 80.000: None | Iter 20.000: None<br>Resources requested: 2/2 CPUs, 0/0 GPUs, 0.0/7.52 GiB heap, 0.0/2.59 GiB objects<br>Current best trial: 7f14d_00003 with mean_accuracy=0.9872666597366333 and parameters={'threads': 2, 'lr': 0.09694874184722062, 'momentum': 0.8807830251886724, 'hidden': 349}<br>Result logdir: /root/ray_results/exp<br>Number of trials: 5/10 (1 PENDING, 1 RUNNING, 3 TERMINATED)<br><table>\n",
              "<thead>\n",
              "<tr><th>Trial name             </th><th>status    </th><th>loc            </th><th style=\"text-align: right;\">  hidden</th><th style=\"text-align: right;\">       lr</th><th style=\"text-align: right;\">  momentum</th><th style=\"text-align: right;\">     acc</th><th style=\"text-align: right;\">  iter</th><th style=\"text-align: right;\">  total time (s)</th></tr>\n",
              "</thead>\n",
              "<tbody>\n",
              "<tr><td>train_mnist_7f14d_00003</td><td>RUNNING   </td><td>172.28.0.2:5004</td><td style=\"text-align: right;\">     349</td><td style=\"text-align: right;\">0.0969487</td><td style=\"text-align: right;\">  0.880783</td><td style=\"text-align: right;\">0.987267</td><td style=\"text-align: right;\">     7</td><td style=\"text-align: right;\">         23.4083</td></tr>\n",
              "<tr><td>train_mnist_7f14d_00004</td><td>PENDING   </td><td>               </td><td style=\"text-align: right;\">     490</td><td style=\"text-align: right;\">0.0562747</td><td style=\"text-align: right;\">  0.18449 </td><td style=\"text-align: right;\">        </td><td style=\"text-align: right;\">      </td><td style=\"text-align: right;\">                </td></tr>\n",
              "<tr><td>train_mnist_7f14d_00000</td><td>TERMINATED</td><td>               </td><td style=\"text-align: right;\">     214</td><td style=\"text-align: right;\">0.0352817</td><td style=\"text-align: right;\">  0.787862</td><td style=\"text-align: right;\">0.980483</td><td style=\"text-align: right;\">    12</td><td style=\"text-align: right;\">         30.5803</td></tr>\n",
              "<tr><td>train_mnist_7f14d_00001</td><td>TERMINATED</td><td>               </td><td style=\"text-align: right;\">     122</td><td style=\"text-align: right;\">0.0865463</td><td style=\"text-align: right;\">  0.686742</td><td style=\"text-align: right;\">0.979483</td><td style=\"text-align: right;\">    12</td><td style=\"text-align: right;\">         22.844 </td></tr>\n",
              "<tr><td>train_mnist_7f14d_00002</td><td>TERMINATED</td><td>               </td><td style=\"text-align: right;\">     481</td><td style=\"text-align: right;\">0.012584 </td><td style=\"text-align: right;\">  0.278352</td><td style=\"text-align: right;\">0.937917</td><td style=\"text-align: right;\">    12</td><td style=\"text-align: right;\">         47.2769</td></tr>\n",
              "</tbody>\n",
              "</table><br><br>"
            ],
            "text/plain": [
              "<IPython.core.display.HTML object>"
            ]
          },
          "metadata": {
            "tags": []
          }
        },
        {
          "output_type": "stream",
          "text": [
            "Result for train_mnist_7f14d_00003:\n",
            "  date: 2021-03-29_21-00-42\n",
            "  done: true\n",
            "  experiment_id: cf3d4ab9fb104f1da3aec991a6cbbf46\n",
            "  hostname: 82eedec80e15\n",
            "  iterations_since_restore: 9\n",
            "  mean_accuracy: 0.9900166392326355\n",
            "  node_ip: 172.28.0.2\n",
            "  pid: 5004\n",
            "  time_since_restore: 29.69099187850952\n",
            "  time_this_iter_s: 3.1826865673065186\n",
            "  time_total_s: 29.69099187850952\n",
            "  timestamp: 1617051642\n",
            "  timesteps_since_restore: 0\n",
            "  training_iteration: 9\n",
            "  trial_id: 7f14d_00003\n",
            "  \n"
          ],
          "name": "stdout"
        },
        {
          "output_type": "display_data",
          "data": {
            "text/html": [
              "== Status ==<br>Memory usage on this node: 2.0/12.7 GiB<br>Using AsyncHyperBand: num_stopped=0\n",
              "Bracket: Iter 320.000: None | Iter 80.000: None | Iter 20.000: None<br>Resources requested: 0/2 CPUs, 0/0 GPUs, 0.0/7.52 GiB heap, 0.0/2.59 GiB objects<br>Current best trial: 7f14d_00003 with mean_accuracy=0.9900166392326355 and parameters={'threads': 2, 'lr': 0.09694874184722062, 'momentum': 0.8807830251886724, 'hidden': 349}<br>Result logdir: /root/ray_results/exp<br>Number of trials: 5/10 (1 PENDING, 4 TERMINATED)<br><table>\n",
              "<thead>\n",
              "<tr><th>Trial name             </th><th>status    </th><th>loc  </th><th style=\"text-align: right;\">  hidden</th><th style=\"text-align: right;\">       lr</th><th style=\"text-align: right;\">  momentum</th><th style=\"text-align: right;\">     acc</th><th style=\"text-align: right;\">  iter</th><th style=\"text-align: right;\">  total time (s)</th></tr>\n",
              "</thead>\n",
              "<tbody>\n",
              "<tr><td>train_mnist_7f14d_00004</td><td>PENDING   </td><td>     </td><td style=\"text-align: right;\">     490</td><td style=\"text-align: right;\">0.0562747</td><td style=\"text-align: right;\">  0.18449 </td><td style=\"text-align: right;\">        </td><td style=\"text-align: right;\">      </td><td style=\"text-align: right;\">                </td></tr>\n",
              "<tr><td>train_mnist_7f14d_00000</td><td>TERMINATED</td><td>     </td><td style=\"text-align: right;\">     214</td><td style=\"text-align: right;\">0.0352817</td><td style=\"text-align: right;\">  0.787862</td><td style=\"text-align: right;\">0.980483</td><td style=\"text-align: right;\">    12</td><td style=\"text-align: right;\">         30.5803</td></tr>\n",
              "<tr><td>train_mnist_7f14d_00001</td><td>TERMINATED</td><td>     </td><td style=\"text-align: right;\">     122</td><td style=\"text-align: right;\">0.0865463</td><td style=\"text-align: right;\">  0.686742</td><td style=\"text-align: right;\">0.979483</td><td style=\"text-align: right;\">    12</td><td style=\"text-align: right;\">         22.844 </td></tr>\n",
              "<tr><td>train_mnist_7f14d_00002</td><td>TERMINATED</td><td>     </td><td style=\"text-align: right;\">     481</td><td style=\"text-align: right;\">0.012584 </td><td style=\"text-align: right;\">  0.278352</td><td style=\"text-align: right;\">0.937917</td><td style=\"text-align: right;\">    12</td><td style=\"text-align: right;\">         47.2769</td></tr>\n",
              "<tr><td>train_mnist_7f14d_00003</td><td>TERMINATED</td><td>     </td><td style=\"text-align: right;\">     349</td><td style=\"text-align: right;\">0.0969487</td><td style=\"text-align: right;\">  0.880783</td><td style=\"text-align: right;\">0.990017</td><td style=\"text-align: right;\">     9</td><td style=\"text-align: right;\">         29.691 </td></tr>\n",
              "</tbody>\n",
              "</table><br><br>"
            ],
            "text/plain": [
              "<IPython.core.display.HTML object>"
            ]
          },
          "metadata": {
            "tags": []
          }
        },
        {
          "output_type": "stream",
          "text": [
            "\u001b[2m\u001b[36m(pid=5068)\u001b[0m 2021-03-29 21:00:44.010262: I tensorflow/stream_executor/platform/default/dso_loader.cc:49] Successfully opened dynamic library libcudart.so.11.0\n",
            "\u001b[2m\u001b[36m(pid=5068)\u001b[0m 2021-03-29 21:00:44.010262: I tensorflow/stream_executor/platform/default/dso_loader.cc:49] Successfully opened dynamic library libcudart.so.11.0\n",
            "\u001b[2m\u001b[36m(pid=5068)\u001b[0m 2021-03-29 21:00:46.153764: I tensorflow/compiler/jit/xla_cpu_device.cc:41] Not creating XLA devices, tf_xla_enable_xla_devices not set\n",
            "\u001b[2m\u001b[36m(pid=5068)\u001b[0m 2021-03-29 21:00:46.154789: I tensorflow/stream_executor/platform/default/dso_loader.cc:49] Successfully opened dynamic library libcuda.so.1\n",
            "\u001b[2m\u001b[36m(pid=5068)\u001b[0m 2021-03-29 21:00:46.167294: E tensorflow/stream_executor/cuda/cuda_driver.cc:328] failed call to cuInit: CUDA_ERROR_NO_DEVICE: no CUDA-capable device is detected\n",
            "\u001b[2m\u001b[36m(pid=5068)\u001b[0m 2021-03-29 21:00:46.167362: I tensorflow/stream_executor/cuda/cuda_diagnostics.cc:156] kernel driver does not appear to be running on this host (82eedec80e15): /proc/driver/nvidia/version does not exist\n",
            "\u001b[2m\u001b[36m(pid=5068)\u001b[0m 2021-03-29 21:00:46.168072: I tensorflow/compiler/jit/xla_gpu_device.cc:99] Not creating XLA devices, tf_xla_enable_xla_devices not set\n",
            "\u001b[2m\u001b[36m(pid=5068)\u001b[0m 2021-03-29 21:00:46.153764: I tensorflow/compiler/jit/xla_cpu_device.cc:41] Not creating XLA devices, tf_xla_enable_xla_devices not set\n",
            "\u001b[2m\u001b[36m(pid=5068)\u001b[0m 2021-03-29 21:00:46.154789: I tensorflow/stream_executor/platform/default/dso_loader.cc:49] Successfully opened dynamic library libcuda.so.1\n",
            "\u001b[2m\u001b[36m(pid=5068)\u001b[0m 2021-03-29 21:00:46.167294: E tensorflow/stream_executor/cuda/cuda_driver.cc:328] failed call to cuInit: CUDA_ERROR_NO_DEVICE: no CUDA-capable device is detected\n",
            "\u001b[2m\u001b[36m(pid=5068)\u001b[0m 2021-03-29 21:00:46.167362: I tensorflow/stream_executor/cuda/cuda_diagnostics.cc:156] kernel driver does not appear to be running on this host (82eedec80e15): /proc/driver/nvidia/version does not exist\n",
            "\u001b[2m\u001b[36m(pid=5068)\u001b[0m 2021-03-29 21:00:46.168072: I tensorflow/compiler/jit/xla_gpu_device.cc:99] Not creating XLA devices, tf_xla_enable_xla_devices not set\n",
            "\u001b[2m\u001b[36m(pid=5068)\u001b[0m 2021-03-29 21:00:46.502916: I tensorflow/compiler/mlir/mlir_graph_optimization_pass.cc:116] None of the MLIR optimization passes are enabled (registered 2)\n",
            "\u001b[2m\u001b[36m(pid=5068)\u001b[0m 2021-03-29 21:00:46.503413: I tensorflow/core/platform/profile_utils/cpu_utils.cc:112] CPU Frequency: 2200150000 Hz\n",
            "\u001b[2m\u001b[36m(pid=5068)\u001b[0m 2021-03-29 21:00:46.502916: I tensorflow/compiler/mlir/mlir_graph_optimization_pass.cc:116] None of the MLIR optimization passes are enabled (registered 2)\n",
            "\u001b[2m\u001b[36m(pid=5068)\u001b[0m 2021-03-29 21:00:46.503413: I tensorflow/core/platform/profile_utils/cpu_utils.cc:112] CPU Frequency: 2200150000 Hz\n"
          ],
          "name": "stderr"
        },
        {
          "output_type": "stream",
          "text": [
            "Result for train_mnist_7f14d_00004:\n",
            "  date: 2021-03-29_21-00-51\n",
            "  done: false\n",
            "  experiment_id: 0fbabb49111d4145ad750777b45d7009\n",
            "  hostname: 82eedec80e15\n",
            "  iterations_since_restore: 1\n",
            "  mean_accuracy: 0.8609499931335449\n",
            "  node_ip: 172.28.0.2\n",
            "  pid: 5068\n",
            "  time_since_restore: 5.684145212173462\n",
            "  time_this_iter_s: 5.684145212173462\n",
            "  time_total_s: 5.684145212173462\n",
            "  timestamp: 1617051651\n",
            "  timesteps_since_restore: 0\n",
            "  training_iteration: 1\n",
            "  trial_id: 7f14d_00004\n",
            "  \n"
          ],
          "name": "stdout"
        },
        {
          "output_type": "display_data",
          "data": {
            "text/html": [
              "== Status ==<br>Memory usage on this node: 2.0/12.7 GiB<br>Using AsyncHyperBand: num_stopped=0\n",
              "Bracket: Iter 320.000: None | Iter 80.000: None | Iter 20.000: None<br>Resources requested: 2/2 CPUs, 0/0 GPUs, 0.0/7.52 GiB heap, 0.0/2.59 GiB objects<br>Current best trial: 7f14d_00003 with mean_accuracy=0.9900166392326355 and parameters={'threads': 2, 'lr': 0.09694874184722062, 'momentum': 0.8807830251886724, 'hidden': 349}<br>Result logdir: /root/ray_results/exp<br>Number of trials: 6/10 (1 PENDING, 1 RUNNING, 4 TERMINATED)<br><table>\n",
              "<thead>\n",
              "<tr><th>Trial name             </th><th>status    </th><th>loc            </th><th style=\"text-align: right;\">  hidden</th><th style=\"text-align: right;\">       lr</th><th style=\"text-align: right;\">  momentum</th><th style=\"text-align: right;\">     acc</th><th style=\"text-align: right;\">  iter</th><th style=\"text-align: right;\">  total time (s)</th></tr>\n",
              "</thead>\n",
              "<tbody>\n",
              "<tr><td>train_mnist_7f14d_00004</td><td>RUNNING   </td><td>172.28.0.2:5068</td><td style=\"text-align: right;\">     490</td><td style=\"text-align: right;\">0.0562747</td><td style=\"text-align: right;\">  0.18449 </td><td style=\"text-align: right;\">0.86095 </td><td style=\"text-align: right;\">     1</td><td style=\"text-align: right;\">         5.68415</td></tr>\n",
              "<tr><td>train_mnist_7f14d_00005</td><td>PENDING   </td><td>               </td><td style=\"text-align: right;\">     370</td><td style=\"text-align: right;\">0.0641523</td><td style=\"text-align: right;\">  0.336615</td><td style=\"text-align: right;\">        </td><td style=\"text-align: right;\">      </td><td style=\"text-align: right;\">                </td></tr>\n",
              "<tr><td>train_mnist_7f14d_00000</td><td>TERMINATED</td><td>               </td><td style=\"text-align: right;\">     214</td><td style=\"text-align: right;\">0.0352817</td><td style=\"text-align: right;\">  0.787862</td><td style=\"text-align: right;\">0.980483</td><td style=\"text-align: right;\">    12</td><td style=\"text-align: right;\">        30.5803 </td></tr>\n",
              "<tr><td>train_mnist_7f14d_00001</td><td>TERMINATED</td><td>               </td><td style=\"text-align: right;\">     122</td><td style=\"text-align: right;\">0.0865463</td><td style=\"text-align: right;\">  0.686742</td><td style=\"text-align: right;\">0.979483</td><td style=\"text-align: right;\">    12</td><td style=\"text-align: right;\">        22.844  </td></tr>\n",
              "<tr><td>train_mnist_7f14d_00002</td><td>TERMINATED</td><td>               </td><td style=\"text-align: right;\">     481</td><td style=\"text-align: right;\">0.012584 </td><td style=\"text-align: right;\">  0.278352</td><td style=\"text-align: right;\">0.937917</td><td style=\"text-align: right;\">    12</td><td style=\"text-align: right;\">        47.2769 </td></tr>\n",
              "<tr><td>train_mnist_7f14d_00003</td><td>TERMINATED</td><td>               </td><td style=\"text-align: right;\">     349</td><td style=\"text-align: right;\">0.0969487</td><td style=\"text-align: right;\">  0.880783</td><td style=\"text-align: right;\">0.990017</td><td style=\"text-align: right;\">     9</td><td style=\"text-align: right;\">        29.691  </td></tr>\n",
              "</tbody>\n",
              "</table><br><br>"
            ],
            "text/plain": [
              "<IPython.core.display.HTML object>"
            ]
          },
          "metadata": {
            "tags": []
          }
        },
        {
          "output_type": "stream",
          "text": [
            "Result for train_mnist_7f14d_00004:\n",
            "  date: 2021-03-29_21-00-58\n",
            "  done: false\n",
            "  experiment_id: 0fbabb49111d4145ad750777b45d7009\n",
            "  hostname: 82eedec80e15\n",
            "  iterations_since_restore: 3\n",
            "  mean_accuracy: 0.9329833388328552\n",
            "  node_ip: 172.28.0.2\n",
            "  pid: 5068\n",
            "  time_since_restore: 13.18647837638855\n",
            "  time_this_iter_s: 3.7031924724578857\n",
            "  time_total_s: 13.18647837638855\n",
            "  timestamp: 1617051658\n",
            "  timesteps_since_restore: 0\n",
            "  training_iteration: 3\n",
            "  trial_id: 7f14d_00004\n",
            "  \n"
          ],
          "name": "stdout"
        },
        {
          "output_type": "display_data",
          "data": {
            "text/html": [
              "== Status ==<br>Memory usage on this node: 2.0/12.7 GiB<br>Using AsyncHyperBand: num_stopped=0\n",
              "Bracket: Iter 320.000: None | Iter 80.000: None | Iter 20.000: None<br>Resources requested: 2/2 CPUs, 0/0 GPUs, 0.0/7.52 GiB heap, 0.0/2.59 GiB objects<br>Current best trial: 7f14d_00003 with mean_accuracy=0.9900166392326355 and parameters={'threads': 2, 'lr': 0.09694874184722062, 'momentum': 0.8807830251886724, 'hidden': 349}<br>Result logdir: /root/ray_results/exp<br>Number of trials: 6/10 (1 PENDING, 1 RUNNING, 4 TERMINATED)<br><table>\n",
              "<thead>\n",
              "<tr><th>Trial name             </th><th>status    </th><th>loc            </th><th style=\"text-align: right;\">  hidden</th><th style=\"text-align: right;\">       lr</th><th style=\"text-align: right;\">  momentum</th><th style=\"text-align: right;\">     acc</th><th style=\"text-align: right;\">  iter</th><th style=\"text-align: right;\">  total time (s)</th></tr>\n",
              "</thead>\n",
              "<tbody>\n",
              "<tr><td>train_mnist_7f14d_00004</td><td>RUNNING   </td><td>172.28.0.2:5068</td><td style=\"text-align: right;\">     490</td><td style=\"text-align: right;\">0.0562747</td><td style=\"text-align: right;\">  0.18449 </td><td style=\"text-align: right;\">0.932983</td><td style=\"text-align: right;\">     3</td><td style=\"text-align: right;\">         13.1865</td></tr>\n",
              "<tr><td>train_mnist_7f14d_00005</td><td>PENDING   </td><td>               </td><td style=\"text-align: right;\">     370</td><td style=\"text-align: right;\">0.0641523</td><td style=\"text-align: right;\">  0.336615</td><td style=\"text-align: right;\">        </td><td style=\"text-align: right;\">      </td><td style=\"text-align: right;\">                </td></tr>\n",
              "<tr><td>train_mnist_7f14d_00000</td><td>TERMINATED</td><td>               </td><td style=\"text-align: right;\">     214</td><td style=\"text-align: right;\">0.0352817</td><td style=\"text-align: right;\">  0.787862</td><td style=\"text-align: right;\">0.980483</td><td style=\"text-align: right;\">    12</td><td style=\"text-align: right;\">         30.5803</td></tr>\n",
              "<tr><td>train_mnist_7f14d_00001</td><td>TERMINATED</td><td>               </td><td style=\"text-align: right;\">     122</td><td style=\"text-align: right;\">0.0865463</td><td style=\"text-align: right;\">  0.686742</td><td style=\"text-align: right;\">0.979483</td><td style=\"text-align: right;\">    12</td><td style=\"text-align: right;\">         22.844 </td></tr>\n",
              "<tr><td>train_mnist_7f14d_00002</td><td>TERMINATED</td><td>               </td><td style=\"text-align: right;\">     481</td><td style=\"text-align: right;\">0.012584 </td><td style=\"text-align: right;\">  0.278352</td><td style=\"text-align: right;\">0.937917</td><td style=\"text-align: right;\">    12</td><td style=\"text-align: right;\">         47.2769</td></tr>\n",
              "<tr><td>train_mnist_7f14d_00003</td><td>TERMINATED</td><td>               </td><td style=\"text-align: right;\">     349</td><td style=\"text-align: right;\">0.0969487</td><td style=\"text-align: right;\">  0.880783</td><td style=\"text-align: right;\">0.990017</td><td style=\"text-align: right;\">     9</td><td style=\"text-align: right;\">         29.691 </td></tr>\n",
              "</tbody>\n",
              "</table><br><br>"
            ],
            "text/plain": [
              "<IPython.core.display.HTML object>"
            ]
          },
          "metadata": {
            "tags": []
          }
        },
        {
          "output_type": "stream",
          "text": [
            "Result for train_mnist_7f14d_00004:\n",
            "  date: 2021-03-29_21-01-06\n",
            "  done: false\n",
            "  experiment_id: 0fbabb49111d4145ad750777b45d7009\n",
            "  hostname: 82eedec80e15\n",
            "  iterations_since_restore: 5\n",
            "  mean_accuracy: 0.9499666690826416\n",
            "  node_ip: 172.28.0.2\n",
            "  pid: 5068\n",
            "  time_since_restore: 20.893582344055176\n",
            "  time_this_iter_s: 3.874096632003784\n",
            "  time_total_s: 20.893582344055176\n",
            "  timestamp: 1617051666\n",
            "  timesteps_since_restore: 0\n",
            "  training_iteration: 5\n",
            "  trial_id: 7f14d_00004\n",
            "  \n"
          ],
          "name": "stdout"
        },
        {
          "output_type": "display_data",
          "data": {
            "text/html": [
              "== Status ==<br>Memory usage on this node: 2.0/12.7 GiB<br>Using AsyncHyperBand: num_stopped=0\n",
              "Bracket: Iter 320.000: None | Iter 80.000: None | Iter 20.000: None<br>Resources requested: 2/2 CPUs, 0/0 GPUs, 0.0/7.52 GiB heap, 0.0/2.59 GiB objects<br>Current best trial: 7f14d_00003 with mean_accuracy=0.9900166392326355 and parameters={'threads': 2, 'lr': 0.09694874184722062, 'momentum': 0.8807830251886724, 'hidden': 349}<br>Result logdir: /root/ray_results/exp<br>Number of trials: 6/10 (1 PENDING, 1 RUNNING, 4 TERMINATED)<br><table>\n",
              "<thead>\n",
              "<tr><th>Trial name             </th><th>status    </th><th>loc            </th><th style=\"text-align: right;\">  hidden</th><th style=\"text-align: right;\">       lr</th><th style=\"text-align: right;\">  momentum</th><th style=\"text-align: right;\">     acc</th><th style=\"text-align: right;\">  iter</th><th style=\"text-align: right;\">  total time (s)</th></tr>\n",
              "</thead>\n",
              "<tbody>\n",
              "<tr><td>train_mnist_7f14d_00004</td><td>RUNNING   </td><td>172.28.0.2:5068</td><td style=\"text-align: right;\">     490</td><td style=\"text-align: right;\">0.0562747</td><td style=\"text-align: right;\">  0.18449 </td><td style=\"text-align: right;\">0.949967</td><td style=\"text-align: right;\">     5</td><td style=\"text-align: right;\">         20.8936</td></tr>\n",
              "<tr><td>train_mnist_7f14d_00005</td><td>PENDING   </td><td>               </td><td style=\"text-align: right;\">     370</td><td style=\"text-align: right;\">0.0641523</td><td style=\"text-align: right;\">  0.336615</td><td style=\"text-align: right;\">        </td><td style=\"text-align: right;\">      </td><td style=\"text-align: right;\">                </td></tr>\n",
              "<tr><td>train_mnist_7f14d_00000</td><td>TERMINATED</td><td>               </td><td style=\"text-align: right;\">     214</td><td style=\"text-align: right;\">0.0352817</td><td style=\"text-align: right;\">  0.787862</td><td style=\"text-align: right;\">0.980483</td><td style=\"text-align: right;\">    12</td><td style=\"text-align: right;\">         30.5803</td></tr>\n",
              "<tr><td>train_mnist_7f14d_00001</td><td>TERMINATED</td><td>               </td><td style=\"text-align: right;\">     122</td><td style=\"text-align: right;\">0.0865463</td><td style=\"text-align: right;\">  0.686742</td><td style=\"text-align: right;\">0.979483</td><td style=\"text-align: right;\">    12</td><td style=\"text-align: right;\">         22.844 </td></tr>\n",
              "<tr><td>train_mnist_7f14d_00002</td><td>TERMINATED</td><td>               </td><td style=\"text-align: right;\">     481</td><td style=\"text-align: right;\">0.012584 </td><td style=\"text-align: right;\">  0.278352</td><td style=\"text-align: right;\">0.937917</td><td style=\"text-align: right;\">    12</td><td style=\"text-align: right;\">         47.2769</td></tr>\n",
              "<tr><td>train_mnist_7f14d_00003</td><td>TERMINATED</td><td>               </td><td style=\"text-align: right;\">     349</td><td style=\"text-align: right;\">0.0969487</td><td style=\"text-align: right;\">  0.880783</td><td style=\"text-align: right;\">0.990017</td><td style=\"text-align: right;\">     9</td><td style=\"text-align: right;\">         29.691 </td></tr>\n",
              "</tbody>\n",
              "</table><br><br>"
            ],
            "text/plain": [
              "<IPython.core.display.HTML object>"
            ]
          },
          "metadata": {
            "tags": []
          }
        },
        {
          "output_type": "stream",
          "text": [
            "Result for train_mnist_7f14d_00004:\n",
            "  date: 2021-03-29_21-01-14\n",
            "  done: false\n",
            "  experiment_id: 0fbabb49111d4145ad750777b45d7009\n",
            "  hostname: 82eedec80e15\n",
            "  iterations_since_restore: 7\n",
            "  mean_accuracy: 0.9594500064849854\n",
            "  node_ip: 172.28.0.2\n",
            "  pid: 5068\n",
            "  time_since_restore: 28.62931203842163\n",
            "  time_this_iter_s: 3.8295278549194336\n",
            "  time_total_s: 28.62931203842163\n",
            "  timestamp: 1617051674\n",
            "  timesteps_since_restore: 0\n",
            "  training_iteration: 7\n",
            "  trial_id: 7f14d_00004\n",
            "  \n"
          ],
          "name": "stdout"
        },
        {
          "output_type": "display_data",
          "data": {
            "text/html": [
              "== Status ==<br>Memory usage on this node: 2.0/12.7 GiB<br>Using AsyncHyperBand: num_stopped=0\n",
              "Bracket: Iter 320.000: None | Iter 80.000: None | Iter 20.000: None<br>Resources requested: 2/2 CPUs, 0/0 GPUs, 0.0/7.52 GiB heap, 0.0/2.59 GiB objects<br>Current best trial: 7f14d_00003 with mean_accuracy=0.9900166392326355 and parameters={'threads': 2, 'lr': 0.09694874184722062, 'momentum': 0.8807830251886724, 'hidden': 349}<br>Result logdir: /root/ray_results/exp<br>Number of trials: 6/10 (1 PENDING, 1 RUNNING, 4 TERMINATED)<br><table>\n",
              "<thead>\n",
              "<tr><th>Trial name             </th><th>status    </th><th>loc            </th><th style=\"text-align: right;\">  hidden</th><th style=\"text-align: right;\">       lr</th><th style=\"text-align: right;\">  momentum</th><th style=\"text-align: right;\">     acc</th><th style=\"text-align: right;\">  iter</th><th style=\"text-align: right;\">  total time (s)</th></tr>\n",
              "</thead>\n",
              "<tbody>\n",
              "<tr><td>train_mnist_7f14d_00004</td><td>RUNNING   </td><td>172.28.0.2:5068</td><td style=\"text-align: right;\">     490</td><td style=\"text-align: right;\">0.0562747</td><td style=\"text-align: right;\">  0.18449 </td><td style=\"text-align: right;\">0.95945 </td><td style=\"text-align: right;\">     7</td><td style=\"text-align: right;\">         28.6293</td></tr>\n",
              "<tr><td>train_mnist_7f14d_00005</td><td>PENDING   </td><td>               </td><td style=\"text-align: right;\">     370</td><td style=\"text-align: right;\">0.0641523</td><td style=\"text-align: right;\">  0.336615</td><td style=\"text-align: right;\">        </td><td style=\"text-align: right;\">      </td><td style=\"text-align: right;\">                </td></tr>\n",
              "<tr><td>train_mnist_7f14d_00000</td><td>TERMINATED</td><td>               </td><td style=\"text-align: right;\">     214</td><td style=\"text-align: right;\">0.0352817</td><td style=\"text-align: right;\">  0.787862</td><td style=\"text-align: right;\">0.980483</td><td style=\"text-align: right;\">    12</td><td style=\"text-align: right;\">         30.5803</td></tr>\n",
              "<tr><td>train_mnist_7f14d_00001</td><td>TERMINATED</td><td>               </td><td style=\"text-align: right;\">     122</td><td style=\"text-align: right;\">0.0865463</td><td style=\"text-align: right;\">  0.686742</td><td style=\"text-align: right;\">0.979483</td><td style=\"text-align: right;\">    12</td><td style=\"text-align: right;\">         22.844 </td></tr>\n",
              "<tr><td>train_mnist_7f14d_00002</td><td>TERMINATED</td><td>               </td><td style=\"text-align: right;\">     481</td><td style=\"text-align: right;\">0.012584 </td><td style=\"text-align: right;\">  0.278352</td><td style=\"text-align: right;\">0.937917</td><td style=\"text-align: right;\">    12</td><td style=\"text-align: right;\">         47.2769</td></tr>\n",
              "<tr><td>train_mnist_7f14d_00003</td><td>TERMINATED</td><td>               </td><td style=\"text-align: right;\">     349</td><td style=\"text-align: right;\">0.0969487</td><td style=\"text-align: right;\">  0.880783</td><td style=\"text-align: right;\">0.990017</td><td style=\"text-align: right;\">     9</td><td style=\"text-align: right;\">         29.691 </td></tr>\n",
              "</tbody>\n",
              "</table><br><br>"
            ],
            "text/plain": [
              "<IPython.core.display.HTML object>"
            ]
          },
          "metadata": {
            "tags": []
          }
        },
        {
          "output_type": "stream",
          "text": [
            "Result for train_mnist_7f14d_00004:\n",
            "  date: 2021-03-29_21-01-21\n",
            "  done: false\n",
            "  experiment_id: 0fbabb49111d4145ad750777b45d7009\n",
            "  hostname: 82eedec80e15\n",
            "  iterations_since_restore: 9\n",
            "  mean_accuracy: 0.9653333425521851\n",
            "  node_ip: 172.28.0.2\n",
            "  pid: 5068\n",
            "  time_since_restore: 36.34586191177368\n",
            "  time_this_iter_s: 3.914193630218506\n",
            "  time_total_s: 36.34586191177368\n",
            "  timestamp: 1617051681\n",
            "  timesteps_since_restore: 0\n",
            "  training_iteration: 9\n",
            "  trial_id: 7f14d_00004\n",
            "  \n"
          ],
          "name": "stdout"
        },
        {
          "output_type": "display_data",
          "data": {
            "text/html": [
              "== Status ==<br>Memory usage on this node: 2.0/12.7 GiB<br>Using AsyncHyperBand: num_stopped=0\n",
              "Bracket: Iter 320.000: None | Iter 80.000: None | Iter 20.000: None<br>Resources requested: 2/2 CPUs, 0/0 GPUs, 0.0/7.52 GiB heap, 0.0/2.59 GiB objects<br>Current best trial: 7f14d_00003 with mean_accuracy=0.9900166392326355 and parameters={'threads': 2, 'lr': 0.09694874184722062, 'momentum': 0.8807830251886724, 'hidden': 349}<br>Result logdir: /root/ray_results/exp<br>Number of trials: 6/10 (1 PENDING, 1 RUNNING, 4 TERMINATED)<br><table>\n",
              "<thead>\n",
              "<tr><th>Trial name             </th><th>status    </th><th>loc            </th><th style=\"text-align: right;\">  hidden</th><th style=\"text-align: right;\">       lr</th><th style=\"text-align: right;\">  momentum</th><th style=\"text-align: right;\">     acc</th><th style=\"text-align: right;\">  iter</th><th style=\"text-align: right;\">  total time (s)</th></tr>\n",
              "</thead>\n",
              "<tbody>\n",
              "<tr><td>train_mnist_7f14d_00004</td><td>RUNNING   </td><td>172.28.0.2:5068</td><td style=\"text-align: right;\">     490</td><td style=\"text-align: right;\">0.0562747</td><td style=\"text-align: right;\">  0.18449 </td><td style=\"text-align: right;\">0.965333</td><td style=\"text-align: right;\">     9</td><td style=\"text-align: right;\">         36.3459</td></tr>\n",
              "<tr><td>train_mnist_7f14d_00005</td><td>PENDING   </td><td>               </td><td style=\"text-align: right;\">     370</td><td style=\"text-align: right;\">0.0641523</td><td style=\"text-align: right;\">  0.336615</td><td style=\"text-align: right;\">        </td><td style=\"text-align: right;\">      </td><td style=\"text-align: right;\">                </td></tr>\n",
              "<tr><td>train_mnist_7f14d_00000</td><td>TERMINATED</td><td>               </td><td style=\"text-align: right;\">     214</td><td style=\"text-align: right;\">0.0352817</td><td style=\"text-align: right;\">  0.787862</td><td style=\"text-align: right;\">0.980483</td><td style=\"text-align: right;\">    12</td><td style=\"text-align: right;\">         30.5803</td></tr>\n",
              "<tr><td>train_mnist_7f14d_00001</td><td>TERMINATED</td><td>               </td><td style=\"text-align: right;\">     122</td><td style=\"text-align: right;\">0.0865463</td><td style=\"text-align: right;\">  0.686742</td><td style=\"text-align: right;\">0.979483</td><td style=\"text-align: right;\">    12</td><td style=\"text-align: right;\">         22.844 </td></tr>\n",
              "<tr><td>train_mnist_7f14d_00002</td><td>TERMINATED</td><td>               </td><td style=\"text-align: right;\">     481</td><td style=\"text-align: right;\">0.012584 </td><td style=\"text-align: right;\">  0.278352</td><td style=\"text-align: right;\">0.937917</td><td style=\"text-align: right;\">    12</td><td style=\"text-align: right;\">         47.2769</td></tr>\n",
              "<tr><td>train_mnist_7f14d_00003</td><td>TERMINATED</td><td>               </td><td style=\"text-align: right;\">     349</td><td style=\"text-align: right;\">0.0969487</td><td style=\"text-align: right;\">  0.880783</td><td style=\"text-align: right;\">0.990017</td><td style=\"text-align: right;\">     9</td><td style=\"text-align: right;\">         29.691 </td></tr>\n",
              "</tbody>\n",
              "</table><br><br>"
            ],
            "text/plain": [
              "<IPython.core.display.HTML object>"
            ]
          },
          "metadata": {
            "tags": []
          }
        },
        {
          "output_type": "stream",
          "text": [
            "Result for train_mnist_7f14d_00004:\n",
            "  date: 2021-03-29_21-01-29\n",
            "  done: false\n",
            "  experiment_id: 0fbabb49111d4145ad750777b45d7009\n",
            "  hostname: 82eedec80e15\n",
            "  iterations_since_restore: 11\n",
            "  mean_accuracy: 0.9700000286102295\n",
            "  node_ip: 172.28.0.2\n",
            "  pid: 5068\n",
            "  time_since_restore: 43.882116079330444\n",
            "  time_this_iter_s: 3.736780881881714\n",
            "  time_total_s: 43.882116079330444\n",
            "  timestamp: 1617051689\n",
            "  timesteps_since_restore: 0\n",
            "  training_iteration: 11\n",
            "  trial_id: 7f14d_00004\n",
            "  \n"
          ],
          "name": "stdout"
        },
        {
          "output_type": "display_data",
          "data": {
            "text/html": [
              "== Status ==<br>Memory usage on this node: 2.0/12.7 GiB<br>Using AsyncHyperBand: num_stopped=0\n",
              "Bracket: Iter 320.000: None | Iter 80.000: None | Iter 20.000: None<br>Resources requested: 2/2 CPUs, 0/0 GPUs, 0.0/7.52 GiB heap, 0.0/2.59 GiB objects<br>Current best trial: 7f14d_00003 with mean_accuracy=0.9900166392326355 and parameters={'threads': 2, 'lr': 0.09694874184722062, 'momentum': 0.8807830251886724, 'hidden': 349}<br>Result logdir: /root/ray_results/exp<br>Number of trials: 6/10 (1 PENDING, 1 RUNNING, 4 TERMINATED)<br><table>\n",
              "<thead>\n",
              "<tr><th>Trial name             </th><th>status    </th><th>loc            </th><th style=\"text-align: right;\">  hidden</th><th style=\"text-align: right;\">       lr</th><th style=\"text-align: right;\">  momentum</th><th style=\"text-align: right;\">     acc</th><th style=\"text-align: right;\">  iter</th><th style=\"text-align: right;\">  total time (s)</th></tr>\n",
              "</thead>\n",
              "<tbody>\n",
              "<tr><td>train_mnist_7f14d_00004</td><td>RUNNING   </td><td>172.28.0.2:5068</td><td style=\"text-align: right;\">     490</td><td style=\"text-align: right;\">0.0562747</td><td style=\"text-align: right;\">  0.18449 </td><td style=\"text-align: right;\">0.97    </td><td style=\"text-align: right;\">    11</td><td style=\"text-align: right;\">         43.8821</td></tr>\n",
              "<tr><td>train_mnist_7f14d_00005</td><td>PENDING   </td><td>               </td><td style=\"text-align: right;\">     370</td><td style=\"text-align: right;\">0.0641523</td><td style=\"text-align: right;\">  0.336615</td><td style=\"text-align: right;\">        </td><td style=\"text-align: right;\">      </td><td style=\"text-align: right;\">                </td></tr>\n",
              "<tr><td>train_mnist_7f14d_00000</td><td>TERMINATED</td><td>               </td><td style=\"text-align: right;\">     214</td><td style=\"text-align: right;\">0.0352817</td><td style=\"text-align: right;\">  0.787862</td><td style=\"text-align: right;\">0.980483</td><td style=\"text-align: right;\">    12</td><td style=\"text-align: right;\">         30.5803</td></tr>\n",
              "<tr><td>train_mnist_7f14d_00001</td><td>TERMINATED</td><td>               </td><td style=\"text-align: right;\">     122</td><td style=\"text-align: right;\">0.0865463</td><td style=\"text-align: right;\">  0.686742</td><td style=\"text-align: right;\">0.979483</td><td style=\"text-align: right;\">    12</td><td style=\"text-align: right;\">         22.844 </td></tr>\n",
              "<tr><td>train_mnist_7f14d_00002</td><td>TERMINATED</td><td>               </td><td style=\"text-align: right;\">     481</td><td style=\"text-align: right;\">0.012584 </td><td style=\"text-align: right;\">  0.278352</td><td style=\"text-align: right;\">0.937917</td><td style=\"text-align: right;\">    12</td><td style=\"text-align: right;\">         47.2769</td></tr>\n",
              "<tr><td>train_mnist_7f14d_00003</td><td>TERMINATED</td><td>               </td><td style=\"text-align: right;\">     349</td><td style=\"text-align: right;\">0.0969487</td><td style=\"text-align: right;\">  0.880783</td><td style=\"text-align: right;\">0.990017</td><td style=\"text-align: right;\">     9</td><td style=\"text-align: right;\">         29.691 </td></tr>\n",
              "</tbody>\n",
              "</table><br><br>"
            ],
            "text/plain": [
              "<IPython.core.display.HTML object>"
            ]
          },
          "metadata": {
            "tags": []
          }
        },
        {
          "output_type": "stream",
          "text": [
            "Result for train_mnist_7f14d_00004:\n",
            "  date: 2021-03-29_21-01-33\n",
            "  done: true\n",
            "  experiment_id: 0fbabb49111d4145ad750777b45d7009\n",
            "  experiment_tag: 4_hidden=490,lr=0.056275,momentum=0.18449\n",
            "  hostname: 82eedec80e15\n",
            "  iterations_since_restore: 12\n",
            "  mean_accuracy: 0.971916675567627\n",
            "  node_ip: 172.28.0.2\n",
            "  pid: 5068\n",
            "  time_since_restore: 47.79582738876343\n",
            "  time_this_iter_s: 3.9137113094329834\n",
            "  time_total_s: 47.79582738876343\n",
            "  timestamp: 1617051693\n",
            "  timesteps_since_restore: 0\n",
            "  training_iteration: 12\n",
            "  trial_id: 7f14d_00004\n",
            "  \n"
          ],
          "name": "stdout"
        },
        {
          "output_type": "stream",
          "text": [
            "\u001b[2m\u001b[36m(pid=5147)\u001b[0m 2021-03-29 21:01:34.694775: I tensorflow/stream_executor/platform/default/dso_loader.cc:49] Successfully opened dynamic library libcudart.so.11.0\n",
            "\u001b[2m\u001b[36m(pid=5147)\u001b[0m 2021-03-29 21:01:34.694775: I tensorflow/stream_executor/platform/default/dso_loader.cc:49] Successfully opened dynamic library libcudart.so.11.0\n",
            "\u001b[2m\u001b[36m(pid=5147)\u001b[0m 2021-03-29 21:01:36.839225: I tensorflow/compiler/jit/xla_cpu_device.cc:41] Not creating XLA devices, tf_xla_enable_xla_devices not set\n",
            "\u001b[2m\u001b[36m(pid=5147)\u001b[0m 2021-03-29 21:01:36.840303: I tensorflow/stream_executor/platform/default/dso_loader.cc:49] Successfully opened dynamic library libcuda.so.1\n",
            "\u001b[2m\u001b[36m(pid=5147)\u001b[0m 2021-03-29 21:01:36.851327: E tensorflow/stream_executor/cuda/cuda_driver.cc:328] failed call to cuInit: CUDA_ERROR_NO_DEVICE: no CUDA-capable device is detected\n",
            "\u001b[2m\u001b[36m(pid=5147)\u001b[0m 2021-03-29 21:01:36.851397: I tensorflow/stream_executor/cuda/cuda_diagnostics.cc:156] kernel driver does not appear to be running on this host (82eedec80e15): /proc/driver/nvidia/version does not exist\n",
            "\u001b[2m\u001b[36m(pid=5147)\u001b[0m 2021-03-29 21:01:36.852049: I tensorflow/compiler/jit/xla_gpu_device.cc:99] Not creating XLA devices, tf_xla_enable_xla_devices not set\n",
            "\u001b[2m\u001b[36m(pid=5147)\u001b[0m 2021-03-29 21:01:36.839225: I tensorflow/compiler/jit/xla_cpu_device.cc:41] Not creating XLA devices, tf_xla_enable_xla_devices not set\n",
            "\u001b[2m\u001b[36m(pid=5147)\u001b[0m 2021-03-29 21:01:36.840303: I tensorflow/stream_executor/platform/default/dso_loader.cc:49] Successfully opened dynamic library libcuda.so.1\n",
            "\u001b[2m\u001b[36m(pid=5147)\u001b[0m 2021-03-29 21:01:36.851327: E tensorflow/stream_executor/cuda/cuda_driver.cc:328] failed call to cuInit: CUDA_ERROR_NO_DEVICE: no CUDA-capable device is detected\n",
            "\u001b[2m\u001b[36m(pid=5147)\u001b[0m 2021-03-29 21:01:36.851397: I tensorflow/stream_executor/cuda/cuda_diagnostics.cc:156] kernel driver does not appear to be running on this host (82eedec80e15): /proc/driver/nvidia/version does not exist\n",
            "\u001b[2m\u001b[36m(pid=5147)\u001b[0m 2021-03-29 21:01:36.852049: I tensorflow/compiler/jit/xla_gpu_device.cc:99] Not creating XLA devices, tf_xla_enable_xla_devices not set\n",
            "\u001b[2m\u001b[36m(pid=5147)\u001b[0m 2021-03-29 21:01:37.194016: I tensorflow/compiler/mlir/mlir_graph_optimization_pass.cc:116] None of the MLIR optimization passes are enabled (registered 2)\n",
            "\u001b[2m\u001b[36m(pid=5147)\u001b[0m 2021-03-29 21:01:37.194478: I tensorflow/core/platform/profile_utils/cpu_utils.cc:112] CPU Frequency: 2200150000 Hz\n",
            "\u001b[2m\u001b[36m(pid=5147)\u001b[0m 2021-03-29 21:01:37.194016: I tensorflow/compiler/mlir/mlir_graph_optimization_pass.cc:116] None of the MLIR optimization passes are enabled (registered 2)\n",
            "\u001b[2m\u001b[36m(pid=5147)\u001b[0m 2021-03-29 21:01:37.194478: I tensorflow/core/platform/profile_utils/cpu_utils.cc:112] CPU Frequency: 2200150000 Hz\n"
          ],
          "name": "stderr"
        },
        {
          "output_type": "stream",
          "text": [
            "Result for train_mnist_7f14d_00005:\n",
            "  date: 2021-03-29_21-01-41\n",
            "  done: false\n",
            "  experiment_id: ac1370add5f44757be28761c9cbaa8ce\n",
            "  hostname: 82eedec80e15\n",
            "  iterations_since_restore: 1\n",
            "  mean_accuracy: 0.8685166835784912\n",
            "  node_ip: 172.28.0.2\n",
            "  pid: 5147\n",
            "  time_since_restore: 4.979170560836792\n",
            "  time_this_iter_s: 4.979170560836792\n",
            "  time_total_s: 4.979170560836792\n",
            "  timestamp: 1617051701\n",
            "  timesteps_since_restore: 0\n",
            "  training_iteration: 1\n",
            "  trial_id: 7f14d_00005\n",
            "  \n"
          ],
          "name": "stdout"
        },
        {
          "output_type": "display_data",
          "data": {
            "text/html": [
              "== Status ==<br>Memory usage on this node: 2.0/12.7 GiB<br>Using AsyncHyperBand: num_stopped=0\n",
              "Bracket: Iter 320.000: None | Iter 80.000: None | Iter 20.000: None<br>Resources requested: 2/2 CPUs, 0/0 GPUs, 0.0/7.52 GiB heap, 0.0/2.59 GiB objects<br>Current best trial: 7f14d_00003 with mean_accuracy=0.9900166392326355 and parameters={'threads': 2, 'lr': 0.09694874184722062, 'momentum': 0.8807830251886724, 'hidden': 349}<br>Result logdir: /root/ray_results/exp<br>Number of trials: 7/10 (1 PENDING, 1 RUNNING, 5 TERMINATED)<br><table>\n",
              "<thead>\n",
              "<tr><th>Trial name             </th><th>status    </th><th>loc            </th><th style=\"text-align: right;\">  hidden</th><th style=\"text-align: right;\">       lr</th><th style=\"text-align: right;\">  momentum</th><th style=\"text-align: right;\">     acc</th><th style=\"text-align: right;\">  iter</th><th style=\"text-align: right;\">  total time (s)</th></tr>\n",
              "</thead>\n",
              "<tbody>\n",
              "<tr><td>train_mnist_7f14d_00005</td><td>RUNNING   </td><td>172.28.0.2:5147</td><td style=\"text-align: right;\">     370</td><td style=\"text-align: right;\">0.0641523</td><td style=\"text-align: right;\">  0.336615</td><td style=\"text-align: right;\">0.868517</td><td style=\"text-align: right;\">     1</td><td style=\"text-align: right;\">         4.97917</td></tr>\n",
              "<tr><td>train_mnist_7f14d_00006</td><td>PENDING   </td><td>               </td><td style=\"text-align: right;\">     490</td><td style=\"text-align: right;\">0.0740172</td><td style=\"text-align: right;\">  0.266777</td><td style=\"text-align: right;\">        </td><td style=\"text-align: right;\">      </td><td style=\"text-align: right;\">                </td></tr>\n",
              "<tr><td>train_mnist_7f14d_00000</td><td>TERMINATED</td><td>               </td><td style=\"text-align: right;\">     214</td><td style=\"text-align: right;\">0.0352817</td><td style=\"text-align: right;\">  0.787862</td><td style=\"text-align: right;\">0.980483</td><td style=\"text-align: right;\">    12</td><td style=\"text-align: right;\">        30.5803 </td></tr>\n",
              "<tr><td>train_mnist_7f14d_00001</td><td>TERMINATED</td><td>               </td><td style=\"text-align: right;\">     122</td><td style=\"text-align: right;\">0.0865463</td><td style=\"text-align: right;\">  0.686742</td><td style=\"text-align: right;\">0.979483</td><td style=\"text-align: right;\">    12</td><td style=\"text-align: right;\">        22.844  </td></tr>\n",
              "<tr><td>train_mnist_7f14d_00002</td><td>TERMINATED</td><td>               </td><td style=\"text-align: right;\">     481</td><td style=\"text-align: right;\">0.012584 </td><td style=\"text-align: right;\">  0.278352</td><td style=\"text-align: right;\">0.937917</td><td style=\"text-align: right;\">    12</td><td style=\"text-align: right;\">        47.2769 </td></tr>\n",
              "<tr><td>train_mnist_7f14d_00003</td><td>TERMINATED</td><td>               </td><td style=\"text-align: right;\">     349</td><td style=\"text-align: right;\">0.0969487</td><td style=\"text-align: right;\">  0.880783</td><td style=\"text-align: right;\">0.990017</td><td style=\"text-align: right;\">     9</td><td style=\"text-align: right;\">        29.691  </td></tr>\n",
              "<tr><td>train_mnist_7f14d_00004</td><td>TERMINATED</td><td>               </td><td style=\"text-align: right;\">     490</td><td style=\"text-align: right;\">0.0562747</td><td style=\"text-align: right;\">  0.18449 </td><td style=\"text-align: right;\">0.971917</td><td style=\"text-align: right;\">    12</td><td style=\"text-align: right;\">        47.7958 </td></tr>\n",
              "</tbody>\n",
              "</table><br><br>"
            ],
            "text/plain": [
              "<IPython.core.display.HTML object>"
            ]
          },
          "metadata": {
            "tags": []
          }
        },
        {
          "output_type": "stream",
          "text": [
            "Result for train_mnist_7f14d_00005:\n",
            "  date: 2021-03-29_21-01-47\n",
            "  done: false\n",
            "  experiment_id: ac1370add5f44757be28761c9cbaa8ce\n",
            "  hostname: 82eedec80e15\n",
            "  iterations_since_restore: 3\n",
            "  mean_accuracy: 0.9406833052635193\n",
            "  node_ip: 172.28.0.2\n",
            "  pid: 5147\n",
            "  time_since_restore: 11.404475927352905\n",
            "  time_this_iter_s: 3.149414300918579\n",
            "  time_total_s: 11.404475927352905\n",
            "  timestamp: 1617051707\n",
            "  timesteps_since_restore: 0\n",
            "  training_iteration: 3\n",
            "  trial_id: 7f14d_00005\n",
            "  \n"
          ],
          "name": "stdout"
        },
        {
          "output_type": "display_data",
          "data": {
            "text/html": [
              "== Status ==<br>Memory usage on this node: 2.0/12.7 GiB<br>Using AsyncHyperBand: num_stopped=0\n",
              "Bracket: Iter 320.000: None | Iter 80.000: None | Iter 20.000: None<br>Resources requested: 2/2 CPUs, 0/0 GPUs, 0.0/7.52 GiB heap, 0.0/2.59 GiB objects<br>Current best trial: 7f14d_00003 with mean_accuracy=0.9900166392326355 and parameters={'threads': 2, 'lr': 0.09694874184722062, 'momentum': 0.8807830251886724, 'hidden': 349}<br>Result logdir: /root/ray_results/exp<br>Number of trials: 7/10 (1 PENDING, 1 RUNNING, 5 TERMINATED)<br><table>\n",
              "<thead>\n",
              "<tr><th>Trial name             </th><th>status    </th><th>loc            </th><th style=\"text-align: right;\">  hidden</th><th style=\"text-align: right;\">       lr</th><th style=\"text-align: right;\">  momentum</th><th style=\"text-align: right;\">     acc</th><th style=\"text-align: right;\">  iter</th><th style=\"text-align: right;\">  total time (s)</th></tr>\n",
              "</thead>\n",
              "<tbody>\n",
              "<tr><td>train_mnist_7f14d_00005</td><td>RUNNING   </td><td>172.28.0.2:5147</td><td style=\"text-align: right;\">     370</td><td style=\"text-align: right;\">0.0641523</td><td style=\"text-align: right;\">  0.336615</td><td style=\"text-align: right;\">0.940683</td><td style=\"text-align: right;\">     3</td><td style=\"text-align: right;\">         11.4045</td></tr>\n",
              "<tr><td>train_mnist_7f14d_00006</td><td>PENDING   </td><td>               </td><td style=\"text-align: right;\">     490</td><td style=\"text-align: right;\">0.0740172</td><td style=\"text-align: right;\">  0.266777</td><td style=\"text-align: right;\">        </td><td style=\"text-align: right;\">      </td><td style=\"text-align: right;\">                </td></tr>\n",
              "<tr><td>train_mnist_7f14d_00000</td><td>TERMINATED</td><td>               </td><td style=\"text-align: right;\">     214</td><td style=\"text-align: right;\">0.0352817</td><td style=\"text-align: right;\">  0.787862</td><td style=\"text-align: right;\">0.980483</td><td style=\"text-align: right;\">    12</td><td style=\"text-align: right;\">         30.5803</td></tr>\n",
              "<tr><td>train_mnist_7f14d_00001</td><td>TERMINATED</td><td>               </td><td style=\"text-align: right;\">     122</td><td style=\"text-align: right;\">0.0865463</td><td style=\"text-align: right;\">  0.686742</td><td style=\"text-align: right;\">0.979483</td><td style=\"text-align: right;\">    12</td><td style=\"text-align: right;\">         22.844 </td></tr>\n",
              "<tr><td>train_mnist_7f14d_00002</td><td>TERMINATED</td><td>               </td><td style=\"text-align: right;\">     481</td><td style=\"text-align: right;\">0.012584 </td><td style=\"text-align: right;\">  0.278352</td><td style=\"text-align: right;\">0.937917</td><td style=\"text-align: right;\">    12</td><td style=\"text-align: right;\">         47.2769</td></tr>\n",
              "<tr><td>train_mnist_7f14d_00003</td><td>TERMINATED</td><td>               </td><td style=\"text-align: right;\">     349</td><td style=\"text-align: right;\">0.0969487</td><td style=\"text-align: right;\">  0.880783</td><td style=\"text-align: right;\">0.990017</td><td style=\"text-align: right;\">     9</td><td style=\"text-align: right;\">         29.691 </td></tr>\n",
              "<tr><td>train_mnist_7f14d_00004</td><td>TERMINATED</td><td>               </td><td style=\"text-align: right;\">     490</td><td style=\"text-align: right;\">0.0562747</td><td style=\"text-align: right;\">  0.18449 </td><td style=\"text-align: right;\">0.971917</td><td style=\"text-align: right;\">    12</td><td style=\"text-align: right;\">         47.7958</td></tr>\n",
              "</tbody>\n",
              "</table><br><br>"
            ],
            "text/plain": [
              "<IPython.core.display.HTML object>"
            ]
          },
          "metadata": {
            "tags": []
          }
        },
        {
          "output_type": "stream",
          "text": [
            "Result for train_mnist_7f14d_00005:\n",
            "  date: 2021-03-29_21-01-53\n",
            "  done: false\n",
            "  experiment_id: ac1370add5f44757be28761c9cbaa8ce\n",
            "  hostname: 82eedec80e15\n",
            "  iterations_since_restore: 5\n",
            "  mean_accuracy: 0.9558833241462708\n",
            "  node_ip: 172.28.0.2\n",
            "  pid: 5147\n",
            "  time_since_restore: 17.746111392974854\n",
            "  time_this_iter_s: 3.182340621948242\n",
            "  time_total_s: 17.746111392974854\n",
            "  timestamp: 1617051713\n",
            "  timesteps_since_restore: 0\n",
            "  training_iteration: 5\n",
            "  trial_id: 7f14d_00005\n",
            "  \n"
          ],
          "name": "stdout"
        },
        {
          "output_type": "display_data",
          "data": {
            "text/html": [
              "== Status ==<br>Memory usage on this node: 2.0/12.7 GiB<br>Using AsyncHyperBand: num_stopped=0\n",
              "Bracket: Iter 320.000: None | Iter 80.000: None | Iter 20.000: None<br>Resources requested: 2/2 CPUs, 0/0 GPUs, 0.0/7.52 GiB heap, 0.0/2.59 GiB objects<br>Current best trial: 7f14d_00003 with mean_accuracy=0.9900166392326355 and parameters={'threads': 2, 'lr': 0.09694874184722062, 'momentum': 0.8807830251886724, 'hidden': 349}<br>Result logdir: /root/ray_results/exp<br>Number of trials: 7/10 (1 PENDING, 1 RUNNING, 5 TERMINATED)<br><table>\n",
              "<thead>\n",
              "<tr><th>Trial name             </th><th>status    </th><th>loc            </th><th style=\"text-align: right;\">  hidden</th><th style=\"text-align: right;\">       lr</th><th style=\"text-align: right;\">  momentum</th><th style=\"text-align: right;\">     acc</th><th style=\"text-align: right;\">  iter</th><th style=\"text-align: right;\">  total time (s)</th></tr>\n",
              "</thead>\n",
              "<tbody>\n",
              "<tr><td>train_mnist_7f14d_00005</td><td>RUNNING   </td><td>172.28.0.2:5147</td><td style=\"text-align: right;\">     370</td><td style=\"text-align: right;\">0.0641523</td><td style=\"text-align: right;\">  0.336615</td><td style=\"text-align: right;\">0.955883</td><td style=\"text-align: right;\">     5</td><td style=\"text-align: right;\">         17.7461</td></tr>\n",
              "<tr><td>train_mnist_7f14d_00006</td><td>PENDING   </td><td>               </td><td style=\"text-align: right;\">     490</td><td style=\"text-align: right;\">0.0740172</td><td style=\"text-align: right;\">  0.266777</td><td style=\"text-align: right;\">        </td><td style=\"text-align: right;\">      </td><td style=\"text-align: right;\">                </td></tr>\n",
              "<tr><td>train_mnist_7f14d_00000</td><td>TERMINATED</td><td>               </td><td style=\"text-align: right;\">     214</td><td style=\"text-align: right;\">0.0352817</td><td style=\"text-align: right;\">  0.787862</td><td style=\"text-align: right;\">0.980483</td><td style=\"text-align: right;\">    12</td><td style=\"text-align: right;\">         30.5803</td></tr>\n",
              "<tr><td>train_mnist_7f14d_00001</td><td>TERMINATED</td><td>               </td><td style=\"text-align: right;\">     122</td><td style=\"text-align: right;\">0.0865463</td><td style=\"text-align: right;\">  0.686742</td><td style=\"text-align: right;\">0.979483</td><td style=\"text-align: right;\">    12</td><td style=\"text-align: right;\">         22.844 </td></tr>\n",
              "<tr><td>train_mnist_7f14d_00002</td><td>TERMINATED</td><td>               </td><td style=\"text-align: right;\">     481</td><td style=\"text-align: right;\">0.012584 </td><td style=\"text-align: right;\">  0.278352</td><td style=\"text-align: right;\">0.937917</td><td style=\"text-align: right;\">    12</td><td style=\"text-align: right;\">         47.2769</td></tr>\n",
              "<tr><td>train_mnist_7f14d_00003</td><td>TERMINATED</td><td>               </td><td style=\"text-align: right;\">     349</td><td style=\"text-align: right;\">0.0969487</td><td style=\"text-align: right;\">  0.880783</td><td style=\"text-align: right;\">0.990017</td><td style=\"text-align: right;\">     9</td><td style=\"text-align: right;\">         29.691 </td></tr>\n",
              "<tr><td>train_mnist_7f14d_00004</td><td>TERMINATED</td><td>               </td><td style=\"text-align: right;\">     490</td><td style=\"text-align: right;\">0.0562747</td><td style=\"text-align: right;\">  0.18449 </td><td style=\"text-align: right;\">0.971917</td><td style=\"text-align: right;\">    12</td><td style=\"text-align: right;\">         47.7958</td></tr>\n",
              "</tbody>\n",
              "</table><br><br>"
            ],
            "text/plain": [
              "<IPython.core.display.HTML object>"
            ]
          },
          "metadata": {
            "tags": []
          }
        },
        {
          "output_type": "stream",
          "text": [
            "Result for train_mnist_7f14d_00005:\n",
            "  date: 2021-03-29_21-02-00\n",
            "  done: false\n",
            "  experiment_id: ac1370add5f44757be28761c9cbaa8ce\n",
            "  hostname: 82eedec80e15\n",
            "  iterations_since_restore: 7\n",
            "  mean_accuracy: 0.9641000032424927\n",
            "  node_ip: 172.28.0.2\n",
            "  pid: 5147\n",
            "  time_since_restore: 23.92873787879944\n",
            "  time_this_iter_s: 3.093015432357788\n",
            "  time_total_s: 23.92873787879944\n",
            "  timestamp: 1617051720\n",
            "  timesteps_since_restore: 0\n",
            "  training_iteration: 7\n",
            "  trial_id: 7f14d_00005\n",
            "  \n"
          ],
          "name": "stdout"
        },
        {
          "output_type": "display_data",
          "data": {
            "text/html": [
              "== Status ==<br>Memory usage on this node: 2.0/12.7 GiB<br>Using AsyncHyperBand: num_stopped=0\n",
              "Bracket: Iter 320.000: None | Iter 80.000: None | Iter 20.000: None<br>Resources requested: 2/2 CPUs, 0/0 GPUs, 0.0/7.52 GiB heap, 0.0/2.59 GiB objects<br>Current best trial: 7f14d_00003 with mean_accuracy=0.9900166392326355 and parameters={'threads': 2, 'lr': 0.09694874184722062, 'momentum': 0.8807830251886724, 'hidden': 349}<br>Result logdir: /root/ray_results/exp<br>Number of trials: 7/10 (1 PENDING, 1 RUNNING, 5 TERMINATED)<br><table>\n",
              "<thead>\n",
              "<tr><th>Trial name             </th><th>status    </th><th>loc            </th><th style=\"text-align: right;\">  hidden</th><th style=\"text-align: right;\">       lr</th><th style=\"text-align: right;\">  momentum</th><th style=\"text-align: right;\">     acc</th><th style=\"text-align: right;\">  iter</th><th style=\"text-align: right;\">  total time (s)</th></tr>\n",
              "</thead>\n",
              "<tbody>\n",
              "<tr><td>train_mnist_7f14d_00005</td><td>RUNNING   </td><td>172.28.0.2:5147</td><td style=\"text-align: right;\">     370</td><td style=\"text-align: right;\">0.0641523</td><td style=\"text-align: right;\">  0.336615</td><td style=\"text-align: right;\">0.9641  </td><td style=\"text-align: right;\">     7</td><td style=\"text-align: right;\">         23.9287</td></tr>\n",
              "<tr><td>train_mnist_7f14d_00006</td><td>PENDING   </td><td>               </td><td style=\"text-align: right;\">     490</td><td style=\"text-align: right;\">0.0740172</td><td style=\"text-align: right;\">  0.266777</td><td style=\"text-align: right;\">        </td><td style=\"text-align: right;\">      </td><td style=\"text-align: right;\">                </td></tr>\n",
              "<tr><td>train_mnist_7f14d_00000</td><td>TERMINATED</td><td>               </td><td style=\"text-align: right;\">     214</td><td style=\"text-align: right;\">0.0352817</td><td style=\"text-align: right;\">  0.787862</td><td style=\"text-align: right;\">0.980483</td><td style=\"text-align: right;\">    12</td><td style=\"text-align: right;\">         30.5803</td></tr>\n",
              "<tr><td>train_mnist_7f14d_00001</td><td>TERMINATED</td><td>               </td><td style=\"text-align: right;\">     122</td><td style=\"text-align: right;\">0.0865463</td><td style=\"text-align: right;\">  0.686742</td><td style=\"text-align: right;\">0.979483</td><td style=\"text-align: right;\">    12</td><td style=\"text-align: right;\">         22.844 </td></tr>\n",
              "<tr><td>train_mnist_7f14d_00002</td><td>TERMINATED</td><td>               </td><td style=\"text-align: right;\">     481</td><td style=\"text-align: right;\">0.012584 </td><td style=\"text-align: right;\">  0.278352</td><td style=\"text-align: right;\">0.937917</td><td style=\"text-align: right;\">    12</td><td style=\"text-align: right;\">         47.2769</td></tr>\n",
              "<tr><td>train_mnist_7f14d_00003</td><td>TERMINATED</td><td>               </td><td style=\"text-align: right;\">     349</td><td style=\"text-align: right;\">0.0969487</td><td style=\"text-align: right;\">  0.880783</td><td style=\"text-align: right;\">0.990017</td><td style=\"text-align: right;\">     9</td><td style=\"text-align: right;\">         29.691 </td></tr>\n",
              "<tr><td>train_mnist_7f14d_00004</td><td>TERMINATED</td><td>               </td><td style=\"text-align: right;\">     490</td><td style=\"text-align: right;\">0.0562747</td><td style=\"text-align: right;\">  0.18449 </td><td style=\"text-align: right;\">0.971917</td><td style=\"text-align: right;\">    12</td><td style=\"text-align: right;\">         47.7958</td></tr>\n",
              "</tbody>\n",
              "</table><br><br>"
            ],
            "text/plain": [
              "<IPython.core.display.HTML object>"
            ]
          },
          "metadata": {
            "tags": []
          }
        },
        {
          "output_type": "stream",
          "text": [
            "Result for train_mnist_7f14d_00005:\n",
            "  date: 2021-03-29_21-02-06\n",
            "  done: false\n",
            "  experiment_id: ac1370add5f44757be28761c9cbaa8ce\n",
            "  hostname: 82eedec80e15\n",
            "  iterations_since_restore: 9\n",
            "  mean_accuracy: 0.9696833491325378\n",
            "  node_ip: 172.28.0.2\n",
            "  pid: 5147\n",
            "  time_since_restore: 30.48155951499939\n",
            "  time_this_iter_s: 3.3285439014434814\n",
            "  time_total_s: 30.48155951499939\n",
            "  timestamp: 1617051726\n",
            "  timesteps_since_restore: 0\n",
            "  training_iteration: 9\n",
            "  trial_id: 7f14d_00005\n",
            "  \n"
          ],
          "name": "stdout"
        },
        {
          "output_type": "display_data",
          "data": {
            "text/html": [
              "== Status ==<br>Memory usage on this node: 2.0/12.7 GiB<br>Using AsyncHyperBand: num_stopped=0\n",
              "Bracket: Iter 320.000: None | Iter 80.000: None | Iter 20.000: None<br>Resources requested: 2/2 CPUs, 0/0 GPUs, 0.0/7.52 GiB heap, 0.0/2.59 GiB objects<br>Current best trial: 7f14d_00003 with mean_accuracy=0.9900166392326355 and parameters={'threads': 2, 'lr': 0.09694874184722062, 'momentum': 0.8807830251886724, 'hidden': 349}<br>Result logdir: /root/ray_results/exp<br>Number of trials: 7/10 (1 PENDING, 1 RUNNING, 5 TERMINATED)<br><table>\n",
              "<thead>\n",
              "<tr><th>Trial name             </th><th>status    </th><th>loc            </th><th style=\"text-align: right;\">  hidden</th><th style=\"text-align: right;\">       lr</th><th style=\"text-align: right;\">  momentum</th><th style=\"text-align: right;\">     acc</th><th style=\"text-align: right;\">  iter</th><th style=\"text-align: right;\">  total time (s)</th></tr>\n",
              "</thead>\n",
              "<tbody>\n",
              "<tr><td>train_mnist_7f14d_00005</td><td>RUNNING   </td><td>172.28.0.2:5147</td><td style=\"text-align: right;\">     370</td><td style=\"text-align: right;\">0.0641523</td><td style=\"text-align: right;\">  0.336615</td><td style=\"text-align: right;\">0.969683</td><td style=\"text-align: right;\">     9</td><td style=\"text-align: right;\">         30.4816</td></tr>\n",
              "<tr><td>train_mnist_7f14d_00006</td><td>PENDING   </td><td>               </td><td style=\"text-align: right;\">     490</td><td style=\"text-align: right;\">0.0740172</td><td style=\"text-align: right;\">  0.266777</td><td style=\"text-align: right;\">        </td><td style=\"text-align: right;\">      </td><td style=\"text-align: right;\">                </td></tr>\n",
              "<tr><td>train_mnist_7f14d_00000</td><td>TERMINATED</td><td>               </td><td style=\"text-align: right;\">     214</td><td style=\"text-align: right;\">0.0352817</td><td style=\"text-align: right;\">  0.787862</td><td style=\"text-align: right;\">0.980483</td><td style=\"text-align: right;\">    12</td><td style=\"text-align: right;\">         30.5803</td></tr>\n",
              "<tr><td>train_mnist_7f14d_00001</td><td>TERMINATED</td><td>               </td><td style=\"text-align: right;\">     122</td><td style=\"text-align: right;\">0.0865463</td><td style=\"text-align: right;\">  0.686742</td><td style=\"text-align: right;\">0.979483</td><td style=\"text-align: right;\">    12</td><td style=\"text-align: right;\">         22.844 </td></tr>\n",
              "<tr><td>train_mnist_7f14d_00002</td><td>TERMINATED</td><td>               </td><td style=\"text-align: right;\">     481</td><td style=\"text-align: right;\">0.012584 </td><td style=\"text-align: right;\">  0.278352</td><td style=\"text-align: right;\">0.937917</td><td style=\"text-align: right;\">    12</td><td style=\"text-align: right;\">         47.2769</td></tr>\n",
              "<tr><td>train_mnist_7f14d_00003</td><td>TERMINATED</td><td>               </td><td style=\"text-align: right;\">     349</td><td style=\"text-align: right;\">0.0969487</td><td style=\"text-align: right;\">  0.880783</td><td style=\"text-align: right;\">0.990017</td><td style=\"text-align: right;\">     9</td><td style=\"text-align: right;\">         29.691 </td></tr>\n",
              "<tr><td>train_mnist_7f14d_00004</td><td>TERMINATED</td><td>               </td><td style=\"text-align: right;\">     490</td><td style=\"text-align: right;\">0.0562747</td><td style=\"text-align: right;\">  0.18449 </td><td style=\"text-align: right;\">0.971917</td><td style=\"text-align: right;\">    12</td><td style=\"text-align: right;\">         47.7958</td></tr>\n",
              "</tbody>\n",
              "</table><br><br>"
            ],
            "text/plain": [
              "<IPython.core.display.HTML object>"
            ]
          },
          "metadata": {
            "tags": []
          }
        },
        {
          "output_type": "stream",
          "text": [
            "Result for train_mnist_7f14d_00005:\n",
            "  date: 2021-03-29_21-02-13\n",
            "  done: false\n",
            "  experiment_id: ac1370add5f44757be28761c9cbaa8ce\n",
            "  hostname: 82eedec80e15\n",
            "  iterations_since_restore: 11\n",
            "  mean_accuracy: 0.9751999974250793\n",
            "  node_ip: 172.28.0.2\n",
            "  pid: 5147\n",
            "  time_since_restore: 36.96116065979004\n",
            "  time_this_iter_s: 3.298515558242798\n",
            "  time_total_s: 36.96116065979004\n",
            "  timestamp: 1617051733\n",
            "  timesteps_since_restore: 0\n",
            "  training_iteration: 11\n",
            "  trial_id: 7f14d_00005\n",
            "  \n"
          ],
          "name": "stdout"
        },
        {
          "output_type": "display_data",
          "data": {
            "text/html": [
              "== Status ==<br>Memory usage on this node: 2.0/12.7 GiB<br>Using AsyncHyperBand: num_stopped=0\n",
              "Bracket: Iter 320.000: None | Iter 80.000: None | Iter 20.000: None<br>Resources requested: 2/2 CPUs, 0/0 GPUs, 0.0/7.52 GiB heap, 0.0/2.59 GiB objects<br>Current best trial: 7f14d_00003 with mean_accuracy=0.9900166392326355 and parameters={'threads': 2, 'lr': 0.09694874184722062, 'momentum': 0.8807830251886724, 'hidden': 349}<br>Result logdir: /root/ray_results/exp<br>Number of trials: 7/10 (1 PENDING, 1 RUNNING, 5 TERMINATED)<br><table>\n",
              "<thead>\n",
              "<tr><th>Trial name             </th><th>status    </th><th>loc            </th><th style=\"text-align: right;\">  hidden</th><th style=\"text-align: right;\">       lr</th><th style=\"text-align: right;\">  momentum</th><th style=\"text-align: right;\">     acc</th><th style=\"text-align: right;\">  iter</th><th style=\"text-align: right;\">  total time (s)</th></tr>\n",
              "</thead>\n",
              "<tbody>\n",
              "<tr><td>train_mnist_7f14d_00005</td><td>RUNNING   </td><td>172.28.0.2:5147</td><td style=\"text-align: right;\">     370</td><td style=\"text-align: right;\">0.0641523</td><td style=\"text-align: right;\">  0.336615</td><td style=\"text-align: right;\">0.9752  </td><td style=\"text-align: right;\">    11</td><td style=\"text-align: right;\">         36.9612</td></tr>\n",
              "<tr><td>train_mnist_7f14d_00006</td><td>PENDING   </td><td>               </td><td style=\"text-align: right;\">     490</td><td style=\"text-align: right;\">0.0740172</td><td style=\"text-align: right;\">  0.266777</td><td style=\"text-align: right;\">        </td><td style=\"text-align: right;\">      </td><td style=\"text-align: right;\">                </td></tr>\n",
              "<tr><td>train_mnist_7f14d_00000</td><td>TERMINATED</td><td>               </td><td style=\"text-align: right;\">     214</td><td style=\"text-align: right;\">0.0352817</td><td style=\"text-align: right;\">  0.787862</td><td style=\"text-align: right;\">0.980483</td><td style=\"text-align: right;\">    12</td><td style=\"text-align: right;\">         30.5803</td></tr>\n",
              "<tr><td>train_mnist_7f14d_00001</td><td>TERMINATED</td><td>               </td><td style=\"text-align: right;\">     122</td><td style=\"text-align: right;\">0.0865463</td><td style=\"text-align: right;\">  0.686742</td><td style=\"text-align: right;\">0.979483</td><td style=\"text-align: right;\">    12</td><td style=\"text-align: right;\">         22.844 </td></tr>\n",
              "<tr><td>train_mnist_7f14d_00002</td><td>TERMINATED</td><td>               </td><td style=\"text-align: right;\">     481</td><td style=\"text-align: right;\">0.012584 </td><td style=\"text-align: right;\">  0.278352</td><td style=\"text-align: right;\">0.937917</td><td style=\"text-align: right;\">    12</td><td style=\"text-align: right;\">         47.2769</td></tr>\n",
              "<tr><td>train_mnist_7f14d_00003</td><td>TERMINATED</td><td>               </td><td style=\"text-align: right;\">     349</td><td style=\"text-align: right;\">0.0969487</td><td style=\"text-align: right;\">  0.880783</td><td style=\"text-align: right;\">0.990017</td><td style=\"text-align: right;\">     9</td><td style=\"text-align: right;\">         29.691 </td></tr>\n",
              "<tr><td>train_mnist_7f14d_00004</td><td>TERMINATED</td><td>               </td><td style=\"text-align: right;\">     490</td><td style=\"text-align: right;\">0.0562747</td><td style=\"text-align: right;\">  0.18449 </td><td style=\"text-align: right;\">0.971917</td><td style=\"text-align: right;\">    12</td><td style=\"text-align: right;\">         47.7958</td></tr>\n",
              "</tbody>\n",
              "</table><br><br>"
            ],
            "text/plain": [
              "<IPython.core.display.HTML object>"
            ]
          },
          "metadata": {
            "tags": []
          }
        },
        {
          "output_type": "stream",
          "text": [
            "Result for train_mnist_7f14d_00005:\n",
            "  date: 2021-03-29_21-02-16\n",
            "  done: true\n",
            "  experiment_id: ac1370add5f44757be28761c9cbaa8ce\n",
            "  experiment_tag: 5_hidden=370,lr=0.064152,momentum=0.33662\n",
            "  hostname: 82eedec80e15\n",
            "  iterations_since_restore: 12\n",
            "  mean_accuracy: 0.975516676902771\n",
            "  node_ip: 172.28.0.2\n",
            "  pid: 5147\n",
            "  time_since_restore: 40.1470844745636\n",
            "  time_this_iter_s: 3.1859238147735596\n",
            "  time_total_s: 40.1470844745636\n",
            "  timestamp: 1617051736\n",
            "  timesteps_since_restore: 0\n",
            "  training_iteration: 12\n",
            "  trial_id: 7f14d_00005\n",
            "  \n"
          ],
          "name": "stdout"
        },
        {
          "output_type": "stream",
          "text": [
            "\u001b[2m\u001b[36m(pid=5224)\u001b[0m 2021-03-29 21:02:17.733335: I tensorflow/stream_executor/platform/default/dso_loader.cc:49] Successfully opened dynamic library libcudart.so.11.0\n",
            "\u001b[2m\u001b[36m(pid=5224)\u001b[0m 2021-03-29 21:02:17.733335: I tensorflow/stream_executor/platform/default/dso_loader.cc:49] Successfully opened dynamic library libcudart.so.11.0\n",
            "\u001b[2m\u001b[36m(pid=5224)\u001b[0m 2021-03-29 21:02:19.913158: I tensorflow/compiler/jit/xla_cpu_device.cc:41] Not creating XLA devices, tf_xla_enable_xla_devices not set\n",
            "\u001b[2m\u001b[36m(pid=5224)\u001b[0m 2021-03-29 21:02:19.914232: I tensorflow/stream_executor/platform/default/dso_loader.cc:49] Successfully opened dynamic library libcuda.so.1\n",
            "\u001b[2m\u001b[36m(pid=5224)\u001b[0m 2021-03-29 21:02:19.913158: I tensorflow/compiler/jit/xla_cpu_device.cc:41] Not creating XLA devices, tf_xla_enable_xla_devices not set\n",
            "\u001b[2m\u001b[36m(pid=5224)\u001b[0m 2021-03-29 21:02:19.914232: I tensorflow/stream_executor/platform/default/dso_loader.cc:49] Successfully opened dynamic library libcuda.so.1\n",
            "\u001b[2m\u001b[36m(pid=5224)\u001b[0m 2021-03-29 21:02:19.928258: E tensorflow/stream_executor/cuda/cuda_driver.cc:328] failed call to cuInit: CUDA_ERROR_NO_DEVICE: no CUDA-capable device is detected\n",
            "\u001b[2m\u001b[36m(pid=5224)\u001b[0m 2021-03-29 21:02:19.928335: I tensorflow/stream_executor/cuda/cuda_diagnostics.cc:156] kernel driver does not appear to be running on this host (82eedec80e15): /proc/driver/nvidia/version does not exist\n",
            "\u001b[2m\u001b[36m(pid=5224)\u001b[0m 2021-03-29 21:02:19.929051: I tensorflow/compiler/jit/xla_gpu_device.cc:99] Not creating XLA devices, tf_xla_enable_xla_devices not set\n",
            "\u001b[2m\u001b[36m(pid=5224)\u001b[0m 2021-03-29 21:02:19.928258: E tensorflow/stream_executor/cuda/cuda_driver.cc:328] failed call to cuInit: CUDA_ERROR_NO_DEVICE: no CUDA-capable device is detected\n",
            "\u001b[2m\u001b[36m(pid=5224)\u001b[0m 2021-03-29 21:02:19.928335: I tensorflow/stream_executor/cuda/cuda_diagnostics.cc:156] kernel driver does not appear to be running on this host (82eedec80e15): /proc/driver/nvidia/version does not exist\n",
            "\u001b[2m\u001b[36m(pid=5224)\u001b[0m 2021-03-29 21:02:19.929051: I tensorflow/compiler/jit/xla_gpu_device.cc:99] Not creating XLA devices, tf_xla_enable_xla_devices not set\n",
            "\u001b[2m\u001b[36m(pid=5224)\u001b[0m 2021-03-29 21:02:20.319008: I tensorflow/compiler/mlir/mlir_graph_optimization_pass.cc:116] None of the MLIR optimization passes are enabled (registered 2)\n",
            "\u001b[2m\u001b[36m(pid=5224)\u001b[0m 2021-03-29 21:02:20.319502: I tensorflow/core/platform/profile_utils/cpu_utils.cc:112] CPU Frequency: 2200150000 Hz\n",
            "\u001b[2m\u001b[36m(pid=5224)\u001b[0m 2021-03-29 21:02:20.319008: I tensorflow/compiler/mlir/mlir_graph_optimization_pass.cc:116] None of the MLIR optimization passes are enabled (registered 2)\n",
            "\u001b[2m\u001b[36m(pid=5224)\u001b[0m 2021-03-29 21:02:20.319502: I tensorflow/core/platform/profile_utils/cpu_utils.cc:112] CPU Frequency: 2200150000 Hz\n"
          ],
          "name": "stderr"
        },
        {
          "output_type": "stream",
          "text": [
            "Result for train_mnist_7f14d_00006:\n",
            "  date: 2021-03-29_21-02-25\n",
            "  done: false\n",
            "  experiment_id: a7cb3c08dc8840cbad9483e14f636441\n",
            "  hostname: 82eedec80e15\n",
            "  iterations_since_restore: 1\n",
            "  mean_accuracy: 0.8753833174705505\n",
            "  node_ip: 172.28.0.2\n",
            "  pid: 5224\n",
            "  time_since_restore: 6.003138780593872\n",
            "  time_this_iter_s: 6.003138780593872\n",
            "  time_total_s: 6.003138780593872\n",
            "  timestamp: 1617051745\n",
            "  timesteps_since_restore: 0\n",
            "  training_iteration: 1\n",
            "  trial_id: 7f14d_00006\n",
            "  \n"
          ],
          "name": "stdout"
        },
        {
          "output_type": "display_data",
          "data": {
            "text/html": [
              "== Status ==<br>Memory usage on this node: 2.0/12.7 GiB<br>Using AsyncHyperBand: num_stopped=0\n",
              "Bracket: Iter 320.000: None | Iter 80.000: None | Iter 20.000: None<br>Resources requested: 2/2 CPUs, 0/0 GPUs, 0.0/7.52 GiB heap, 0.0/2.59 GiB objects<br>Current best trial: 7f14d_00003 with mean_accuracy=0.9900166392326355 and parameters={'threads': 2, 'lr': 0.09694874184722062, 'momentum': 0.8807830251886724, 'hidden': 349}<br>Result logdir: /root/ray_results/exp<br>Number of trials: 8/10 (1 PENDING, 1 RUNNING, 6 TERMINATED)<br><table>\n",
              "<thead>\n",
              "<tr><th>Trial name             </th><th>status    </th><th>loc            </th><th style=\"text-align: right;\">  hidden</th><th style=\"text-align: right;\">       lr</th><th style=\"text-align: right;\">  momentum</th><th style=\"text-align: right;\">     acc</th><th style=\"text-align: right;\">  iter</th><th style=\"text-align: right;\">  total time (s)</th></tr>\n",
              "</thead>\n",
              "<tbody>\n",
              "<tr><td>train_mnist_7f14d_00006</td><td>RUNNING   </td><td>172.28.0.2:5224</td><td style=\"text-align: right;\">     490</td><td style=\"text-align: right;\">0.0740172</td><td style=\"text-align: right;\">  0.266777</td><td style=\"text-align: right;\">0.875383</td><td style=\"text-align: right;\">     1</td><td style=\"text-align: right;\">         6.00314</td></tr>\n",
              "<tr><td>train_mnist_7f14d_00007</td><td>PENDING   </td><td>               </td><td style=\"text-align: right;\">      52</td><td style=\"text-align: right;\">0.0991786</td><td style=\"text-align: right;\">  0.799609</td><td style=\"text-align: right;\">        </td><td style=\"text-align: right;\">      </td><td style=\"text-align: right;\">                </td></tr>\n",
              "<tr><td>train_mnist_7f14d_00000</td><td>TERMINATED</td><td>               </td><td style=\"text-align: right;\">     214</td><td style=\"text-align: right;\">0.0352817</td><td style=\"text-align: right;\">  0.787862</td><td style=\"text-align: right;\">0.980483</td><td style=\"text-align: right;\">    12</td><td style=\"text-align: right;\">        30.5803 </td></tr>\n",
              "<tr><td>train_mnist_7f14d_00001</td><td>TERMINATED</td><td>               </td><td style=\"text-align: right;\">     122</td><td style=\"text-align: right;\">0.0865463</td><td style=\"text-align: right;\">  0.686742</td><td style=\"text-align: right;\">0.979483</td><td style=\"text-align: right;\">    12</td><td style=\"text-align: right;\">        22.844  </td></tr>\n",
              "<tr><td>train_mnist_7f14d_00002</td><td>TERMINATED</td><td>               </td><td style=\"text-align: right;\">     481</td><td style=\"text-align: right;\">0.012584 </td><td style=\"text-align: right;\">  0.278352</td><td style=\"text-align: right;\">0.937917</td><td style=\"text-align: right;\">    12</td><td style=\"text-align: right;\">        47.2769 </td></tr>\n",
              "<tr><td>train_mnist_7f14d_00003</td><td>TERMINATED</td><td>               </td><td style=\"text-align: right;\">     349</td><td style=\"text-align: right;\">0.0969487</td><td style=\"text-align: right;\">  0.880783</td><td style=\"text-align: right;\">0.990017</td><td style=\"text-align: right;\">     9</td><td style=\"text-align: right;\">        29.691  </td></tr>\n",
              "<tr><td>train_mnist_7f14d_00004</td><td>TERMINATED</td><td>               </td><td style=\"text-align: right;\">     490</td><td style=\"text-align: right;\">0.0562747</td><td style=\"text-align: right;\">  0.18449 </td><td style=\"text-align: right;\">0.971917</td><td style=\"text-align: right;\">    12</td><td style=\"text-align: right;\">        47.7958 </td></tr>\n",
              "<tr><td>train_mnist_7f14d_00005</td><td>TERMINATED</td><td>               </td><td style=\"text-align: right;\">     370</td><td style=\"text-align: right;\">0.0641523</td><td style=\"text-align: right;\">  0.336615</td><td style=\"text-align: right;\">0.975517</td><td style=\"text-align: right;\">    12</td><td style=\"text-align: right;\">        40.1471 </td></tr>\n",
              "</tbody>\n",
              "</table><br><br>"
            ],
            "text/plain": [
              "<IPython.core.display.HTML object>"
            ]
          },
          "metadata": {
            "tags": []
          }
        },
        {
          "output_type": "stream",
          "text": [
            "Result for train_mnist_7f14d_00006:\n",
            "  date: 2021-03-29_21-02-33\n",
            "  done: false\n",
            "  experiment_id: a7cb3c08dc8840cbad9483e14f636441\n",
            "  hostname: 82eedec80e15\n",
            "  iterations_since_restore: 3\n",
            "  mean_accuracy: 0.9430999755859375\n",
            "  node_ip: 172.28.0.2\n",
            "  pid: 5224\n",
            "  time_since_restore: 13.7930428981781\n",
            "  time_this_iter_s: 3.8824658393859863\n",
            "  time_total_s: 13.7930428981781\n",
            "  timestamp: 1617051753\n",
            "  timesteps_since_restore: 0\n",
            "  training_iteration: 3\n",
            "  trial_id: 7f14d_00006\n",
            "  \n"
          ],
          "name": "stdout"
        },
        {
          "output_type": "display_data",
          "data": {
            "text/html": [
              "== Status ==<br>Memory usage on this node: 2.0/12.7 GiB<br>Using AsyncHyperBand: num_stopped=0\n",
              "Bracket: Iter 320.000: None | Iter 80.000: None | Iter 20.000: None<br>Resources requested: 2/2 CPUs, 0/0 GPUs, 0.0/7.52 GiB heap, 0.0/2.59 GiB objects<br>Current best trial: 7f14d_00003 with mean_accuracy=0.9900166392326355 and parameters={'threads': 2, 'lr': 0.09694874184722062, 'momentum': 0.8807830251886724, 'hidden': 349}<br>Result logdir: /root/ray_results/exp<br>Number of trials: 8/10 (1 PENDING, 1 RUNNING, 6 TERMINATED)<br><table>\n",
              "<thead>\n",
              "<tr><th>Trial name             </th><th>status    </th><th>loc            </th><th style=\"text-align: right;\">  hidden</th><th style=\"text-align: right;\">       lr</th><th style=\"text-align: right;\">  momentum</th><th style=\"text-align: right;\">     acc</th><th style=\"text-align: right;\">  iter</th><th style=\"text-align: right;\">  total time (s)</th></tr>\n",
              "</thead>\n",
              "<tbody>\n",
              "<tr><td>train_mnist_7f14d_00006</td><td>RUNNING   </td><td>172.28.0.2:5224</td><td style=\"text-align: right;\">     490</td><td style=\"text-align: right;\">0.0740172</td><td style=\"text-align: right;\">  0.266777</td><td style=\"text-align: right;\">0.9431  </td><td style=\"text-align: right;\">     3</td><td style=\"text-align: right;\">         13.793 </td></tr>\n",
              "<tr><td>train_mnist_7f14d_00007</td><td>PENDING   </td><td>               </td><td style=\"text-align: right;\">      52</td><td style=\"text-align: right;\">0.0991786</td><td style=\"text-align: right;\">  0.799609</td><td style=\"text-align: right;\">        </td><td style=\"text-align: right;\">      </td><td style=\"text-align: right;\">                </td></tr>\n",
              "<tr><td>train_mnist_7f14d_00000</td><td>TERMINATED</td><td>               </td><td style=\"text-align: right;\">     214</td><td style=\"text-align: right;\">0.0352817</td><td style=\"text-align: right;\">  0.787862</td><td style=\"text-align: right;\">0.980483</td><td style=\"text-align: right;\">    12</td><td style=\"text-align: right;\">         30.5803</td></tr>\n",
              "<tr><td>train_mnist_7f14d_00001</td><td>TERMINATED</td><td>               </td><td style=\"text-align: right;\">     122</td><td style=\"text-align: right;\">0.0865463</td><td style=\"text-align: right;\">  0.686742</td><td style=\"text-align: right;\">0.979483</td><td style=\"text-align: right;\">    12</td><td style=\"text-align: right;\">         22.844 </td></tr>\n",
              "<tr><td>train_mnist_7f14d_00002</td><td>TERMINATED</td><td>               </td><td style=\"text-align: right;\">     481</td><td style=\"text-align: right;\">0.012584 </td><td style=\"text-align: right;\">  0.278352</td><td style=\"text-align: right;\">0.937917</td><td style=\"text-align: right;\">    12</td><td style=\"text-align: right;\">         47.2769</td></tr>\n",
              "<tr><td>train_mnist_7f14d_00003</td><td>TERMINATED</td><td>               </td><td style=\"text-align: right;\">     349</td><td style=\"text-align: right;\">0.0969487</td><td style=\"text-align: right;\">  0.880783</td><td style=\"text-align: right;\">0.990017</td><td style=\"text-align: right;\">     9</td><td style=\"text-align: right;\">         29.691 </td></tr>\n",
              "<tr><td>train_mnist_7f14d_00004</td><td>TERMINATED</td><td>               </td><td style=\"text-align: right;\">     490</td><td style=\"text-align: right;\">0.0562747</td><td style=\"text-align: right;\">  0.18449 </td><td style=\"text-align: right;\">0.971917</td><td style=\"text-align: right;\">    12</td><td style=\"text-align: right;\">         47.7958</td></tr>\n",
              "<tr><td>train_mnist_7f14d_00005</td><td>TERMINATED</td><td>               </td><td style=\"text-align: right;\">     370</td><td style=\"text-align: right;\">0.0641523</td><td style=\"text-align: right;\">  0.336615</td><td style=\"text-align: right;\">0.975517</td><td style=\"text-align: right;\">    12</td><td style=\"text-align: right;\">         40.1471</td></tr>\n",
              "</tbody>\n",
              "</table><br><br>"
            ],
            "text/plain": [
              "<IPython.core.display.HTML object>"
            ]
          },
          "metadata": {
            "tags": []
          }
        },
        {
          "output_type": "stream",
          "text": [
            "Result for train_mnist_7f14d_00006:\n",
            "  date: 2021-03-29_21-02-40\n",
            "  done: false\n",
            "  experiment_id: a7cb3c08dc8840cbad9483e14f636441\n",
            "  hostname: 82eedec80e15\n",
            "  iterations_since_restore: 5\n",
            "  mean_accuracy: 0.9592000246047974\n",
            "  node_ip: 172.28.0.2\n",
            "  pid: 5224\n",
            "  time_since_restore: 21.48747491836548\n",
            "  time_this_iter_s: 3.8530919551849365\n",
            "  time_total_s: 21.48747491836548\n",
            "  timestamp: 1617051760\n",
            "  timesteps_since_restore: 0\n",
            "  training_iteration: 5\n",
            "  trial_id: 7f14d_00006\n",
            "  \n"
          ],
          "name": "stdout"
        },
        {
          "output_type": "display_data",
          "data": {
            "text/html": [
              "== Status ==<br>Memory usage on this node: 2.0/12.7 GiB<br>Using AsyncHyperBand: num_stopped=0\n",
              "Bracket: Iter 320.000: None | Iter 80.000: None | Iter 20.000: None<br>Resources requested: 2/2 CPUs, 0/0 GPUs, 0.0/7.52 GiB heap, 0.0/2.59 GiB objects<br>Current best trial: 7f14d_00003 with mean_accuracy=0.9900166392326355 and parameters={'threads': 2, 'lr': 0.09694874184722062, 'momentum': 0.8807830251886724, 'hidden': 349}<br>Result logdir: /root/ray_results/exp<br>Number of trials: 8/10 (1 PENDING, 1 RUNNING, 6 TERMINATED)<br><table>\n",
              "<thead>\n",
              "<tr><th>Trial name             </th><th>status    </th><th>loc            </th><th style=\"text-align: right;\">  hidden</th><th style=\"text-align: right;\">       lr</th><th style=\"text-align: right;\">  momentum</th><th style=\"text-align: right;\">     acc</th><th style=\"text-align: right;\">  iter</th><th style=\"text-align: right;\">  total time (s)</th></tr>\n",
              "</thead>\n",
              "<tbody>\n",
              "<tr><td>train_mnist_7f14d_00006</td><td>RUNNING   </td><td>172.28.0.2:5224</td><td style=\"text-align: right;\">     490</td><td style=\"text-align: right;\">0.0740172</td><td style=\"text-align: right;\">  0.266777</td><td style=\"text-align: right;\">0.9592  </td><td style=\"text-align: right;\">     5</td><td style=\"text-align: right;\">         21.4875</td></tr>\n",
              "<tr><td>train_mnist_7f14d_00007</td><td>PENDING   </td><td>               </td><td style=\"text-align: right;\">      52</td><td style=\"text-align: right;\">0.0991786</td><td style=\"text-align: right;\">  0.799609</td><td style=\"text-align: right;\">        </td><td style=\"text-align: right;\">      </td><td style=\"text-align: right;\">                </td></tr>\n",
              "<tr><td>train_mnist_7f14d_00000</td><td>TERMINATED</td><td>               </td><td style=\"text-align: right;\">     214</td><td style=\"text-align: right;\">0.0352817</td><td style=\"text-align: right;\">  0.787862</td><td style=\"text-align: right;\">0.980483</td><td style=\"text-align: right;\">    12</td><td style=\"text-align: right;\">         30.5803</td></tr>\n",
              "<tr><td>train_mnist_7f14d_00001</td><td>TERMINATED</td><td>               </td><td style=\"text-align: right;\">     122</td><td style=\"text-align: right;\">0.0865463</td><td style=\"text-align: right;\">  0.686742</td><td style=\"text-align: right;\">0.979483</td><td style=\"text-align: right;\">    12</td><td style=\"text-align: right;\">         22.844 </td></tr>\n",
              "<tr><td>train_mnist_7f14d_00002</td><td>TERMINATED</td><td>               </td><td style=\"text-align: right;\">     481</td><td style=\"text-align: right;\">0.012584 </td><td style=\"text-align: right;\">  0.278352</td><td style=\"text-align: right;\">0.937917</td><td style=\"text-align: right;\">    12</td><td style=\"text-align: right;\">         47.2769</td></tr>\n",
              "<tr><td>train_mnist_7f14d_00003</td><td>TERMINATED</td><td>               </td><td style=\"text-align: right;\">     349</td><td style=\"text-align: right;\">0.0969487</td><td style=\"text-align: right;\">  0.880783</td><td style=\"text-align: right;\">0.990017</td><td style=\"text-align: right;\">     9</td><td style=\"text-align: right;\">         29.691 </td></tr>\n",
              "<tr><td>train_mnist_7f14d_00004</td><td>TERMINATED</td><td>               </td><td style=\"text-align: right;\">     490</td><td style=\"text-align: right;\">0.0562747</td><td style=\"text-align: right;\">  0.18449 </td><td style=\"text-align: right;\">0.971917</td><td style=\"text-align: right;\">    12</td><td style=\"text-align: right;\">         47.7958</td></tr>\n",
              "<tr><td>train_mnist_7f14d_00005</td><td>TERMINATED</td><td>               </td><td style=\"text-align: right;\">     370</td><td style=\"text-align: right;\">0.0641523</td><td style=\"text-align: right;\">  0.336615</td><td style=\"text-align: right;\">0.975517</td><td style=\"text-align: right;\">    12</td><td style=\"text-align: right;\">         40.1471</td></tr>\n",
              "</tbody>\n",
              "</table><br><br>"
            ],
            "text/plain": [
              "<IPython.core.display.HTML object>"
            ]
          },
          "metadata": {
            "tags": []
          }
        },
        {
          "output_type": "stream",
          "text": [
            "Result for train_mnist_7f14d_00006:\n",
            "  date: 2021-03-29_21-02-48\n",
            "  done: false\n",
            "  experiment_id: a7cb3c08dc8840cbad9483e14f636441\n",
            "  hostname: 82eedec80e15\n",
            "  iterations_since_restore: 7\n",
            "  mean_accuracy: 0.9677166938781738\n",
            "  node_ip: 172.28.0.2\n",
            "  pid: 5224\n",
            "  time_since_restore: 29.32058310508728\n",
            "  time_this_iter_s: 3.850594997406006\n",
            "  time_total_s: 29.32058310508728\n",
            "  timestamp: 1617051768\n",
            "  timesteps_since_restore: 0\n",
            "  training_iteration: 7\n",
            "  trial_id: 7f14d_00006\n",
            "  \n"
          ],
          "name": "stdout"
        },
        {
          "output_type": "display_data",
          "data": {
            "text/html": [
              "== Status ==<br>Memory usage on this node: 2.0/12.7 GiB<br>Using AsyncHyperBand: num_stopped=0\n",
              "Bracket: Iter 320.000: None | Iter 80.000: None | Iter 20.000: None<br>Resources requested: 2/2 CPUs, 0/0 GPUs, 0.0/7.52 GiB heap, 0.0/2.59 GiB objects<br>Current best trial: 7f14d_00003 with mean_accuracy=0.9900166392326355 and parameters={'threads': 2, 'lr': 0.09694874184722062, 'momentum': 0.8807830251886724, 'hidden': 349}<br>Result logdir: /root/ray_results/exp<br>Number of trials: 8/10 (1 PENDING, 1 RUNNING, 6 TERMINATED)<br><table>\n",
              "<thead>\n",
              "<tr><th>Trial name             </th><th>status    </th><th>loc            </th><th style=\"text-align: right;\">  hidden</th><th style=\"text-align: right;\">       lr</th><th style=\"text-align: right;\">  momentum</th><th style=\"text-align: right;\">     acc</th><th style=\"text-align: right;\">  iter</th><th style=\"text-align: right;\">  total time (s)</th></tr>\n",
              "</thead>\n",
              "<tbody>\n",
              "<tr><td>train_mnist_7f14d_00006</td><td>RUNNING   </td><td>172.28.0.2:5224</td><td style=\"text-align: right;\">     490</td><td style=\"text-align: right;\">0.0740172</td><td style=\"text-align: right;\">  0.266777</td><td style=\"text-align: right;\">0.967717</td><td style=\"text-align: right;\">     7</td><td style=\"text-align: right;\">         29.3206</td></tr>\n",
              "<tr><td>train_mnist_7f14d_00007</td><td>PENDING   </td><td>               </td><td style=\"text-align: right;\">      52</td><td style=\"text-align: right;\">0.0991786</td><td style=\"text-align: right;\">  0.799609</td><td style=\"text-align: right;\">        </td><td style=\"text-align: right;\">      </td><td style=\"text-align: right;\">                </td></tr>\n",
              "<tr><td>train_mnist_7f14d_00000</td><td>TERMINATED</td><td>               </td><td style=\"text-align: right;\">     214</td><td style=\"text-align: right;\">0.0352817</td><td style=\"text-align: right;\">  0.787862</td><td style=\"text-align: right;\">0.980483</td><td style=\"text-align: right;\">    12</td><td style=\"text-align: right;\">         30.5803</td></tr>\n",
              "<tr><td>train_mnist_7f14d_00001</td><td>TERMINATED</td><td>               </td><td style=\"text-align: right;\">     122</td><td style=\"text-align: right;\">0.0865463</td><td style=\"text-align: right;\">  0.686742</td><td style=\"text-align: right;\">0.979483</td><td style=\"text-align: right;\">    12</td><td style=\"text-align: right;\">         22.844 </td></tr>\n",
              "<tr><td>train_mnist_7f14d_00002</td><td>TERMINATED</td><td>               </td><td style=\"text-align: right;\">     481</td><td style=\"text-align: right;\">0.012584 </td><td style=\"text-align: right;\">  0.278352</td><td style=\"text-align: right;\">0.937917</td><td style=\"text-align: right;\">    12</td><td style=\"text-align: right;\">         47.2769</td></tr>\n",
              "<tr><td>train_mnist_7f14d_00003</td><td>TERMINATED</td><td>               </td><td style=\"text-align: right;\">     349</td><td style=\"text-align: right;\">0.0969487</td><td style=\"text-align: right;\">  0.880783</td><td style=\"text-align: right;\">0.990017</td><td style=\"text-align: right;\">     9</td><td style=\"text-align: right;\">         29.691 </td></tr>\n",
              "<tr><td>train_mnist_7f14d_00004</td><td>TERMINATED</td><td>               </td><td style=\"text-align: right;\">     490</td><td style=\"text-align: right;\">0.0562747</td><td style=\"text-align: right;\">  0.18449 </td><td style=\"text-align: right;\">0.971917</td><td style=\"text-align: right;\">    12</td><td style=\"text-align: right;\">         47.7958</td></tr>\n",
              "<tr><td>train_mnist_7f14d_00005</td><td>TERMINATED</td><td>               </td><td style=\"text-align: right;\">     370</td><td style=\"text-align: right;\">0.0641523</td><td style=\"text-align: right;\">  0.336615</td><td style=\"text-align: right;\">0.975517</td><td style=\"text-align: right;\">    12</td><td style=\"text-align: right;\">         40.1471</td></tr>\n",
              "</tbody>\n",
              "</table><br><br>"
            ],
            "text/plain": [
              "<IPython.core.display.HTML object>"
            ]
          },
          "metadata": {
            "tags": []
          }
        },
        {
          "output_type": "stream",
          "text": [
            "Result for train_mnist_7f14d_00006:\n",
            "  date: 2021-03-29_21-02-56\n",
            "  done: false\n",
            "  experiment_id: a7cb3c08dc8840cbad9483e14f636441\n",
            "  hostname: 82eedec80e15\n",
            "  iterations_since_restore: 9\n",
            "  mean_accuracy: 0.9727166891098022\n",
            "  node_ip: 172.28.0.2\n",
            "  pid: 5224\n",
            "  time_since_restore: 37.22832703590393\n",
            "  time_this_iter_s: 3.865399122238159\n",
            "  time_total_s: 37.22832703590393\n",
            "  timestamp: 1617051776\n",
            "  timesteps_since_restore: 0\n",
            "  training_iteration: 9\n",
            "  trial_id: 7f14d_00006\n",
            "  \n"
          ],
          "name": "stdout"
        },
        {
          "output_type": "display_data",
          "data": {
            "text/html": [
              "== Status ==<br>Memory usage on this node: 2.0/12.7 GiB<br>Using AsyncHyperBand: num_stopped=0\n",
              "Bracket: Iter 320.000: None | Iter 80.000: None | Iter 20.000: None<br>Resources requested: 2/2 CPUs, 0/0 GPUs, 0.0/7.52 GiB heap, 0.0/2.59 GiB objects<br>Current best trial: 7f14d_00003 with mean_accuracy=0.9900166392326355 and parameters={'threads': 2, 'lr': 0.09694874184722062, 'momentum': 0.8807830251886724, 'hidden': 349}<br>Result logdir: /root/ray_results/exp<br>Number of trials: 8/10 (1 PENDING, 1 RUNNING, 6 TERMINATED)<br><table>\n",
              "<thead>\n",
              "<tr><th>Trial name             </th><th>status    </th><th>loc            </th><th style=\"text-align: right;\">  hidden</th><th style=\"text-align: right;\">       lr</th><th style=\"text-align: right;\">  momentum</th><th style=\"text-align: right;\">     acc</th><th style=\"text-align: right;\">  iter</th><th style=\"text-align: right;\">  total time (s)</th></tr>\n",
              "</thead>\n",
              "<tbody>\n",
              "<tr><td>train_mnist_7f14d_00006</td><td>RUNNING   </td><td>172.28.0.2:5224</td><td style=\"text-align: right;\">     490</td><td style=\"text-align: right;\">0.0740172</td><td style=\"text-align: right;\">  0.266777</td><td style=\"text-align: right;\">0.972717</td><td style=\"text-align: right;\">     9</td><td style=\"text-align: right;\">         37.2283</td></tr>\n",
              "<tr><td>train_mnist_7f14d_00007</td><td>PENDING   </td><td>               </td><td style=\"text-align: right;\">      52</td><td style=\"text-align: right;\">0.0991786</td><td style=\"text-align: right;\">  0.799609</td><td style=\"text-align: right;\">        </td><td style=\"text-align: right;\">      </td><td style=\"text-align: right;\">                </td></tr>\n",
              "<tr><td>train_mnist_7f14d_00000</td><td>TERMINATED</td><td>               </td><td style=\"text-align: right;\">     214</td><td style=\"text-align: right;\">0.0352817</td><td style=\"text-align: right;\">  0.787862</td><td style=\"text-align: right;\">0.980483</td><td style=\"text-align: right;\">    12</td><td style=\"text-align: right;\">         30.5803</td></tr>\n",
              "<tr><td>train_mnist_7f14d_00001</td><td>TERMINATED</td><td>               </td><td style=\"text-align: right;\">     122</td><td style=\"text-align: right;\">0.0865463</td><td style=\"text-align: right;\">  0.686742</td><td style=\"text-align: right;\">0.979483</td><td style=\"text-align: right;\">    12</td><td style=\"text-align: right;\">         22.844 </td></tr>\n",
              "<tr><td>train_mnist_7f14d_00002</td><td>TERMINATED</td><td>               </td><td style=\"text-align: right;\">     481</td><td style=\"text-align: right;\">0.012584 </td><td style=\"text-align: right;\">  0.278352</td><td style=\"text-align: right;\">0.937917</td><td style=\"text-align: right;\">    12</td><td style=\"text-align: right;\">         47.2769</td></tr>\n",
              "<tr><td>train_mnist_7f14d_00003</td><td>TERMINATED</td><td>               </td><td style=\"text-align: right;\">     349</td><td style=\"text-align: right;\">0.0969487</td><td style=\"text-align: right;\">  0.880783</td><td style=\"text-align: right;\">0.990017</td><td style=\"text-align: right;\">     9</td><td style=\"text-align: right;\">         29.691 </td></tr>\n",
              "<tr><td>train_mnist_7f14d_00004</td><td>TERMINATED</td><td>               </td><td style=\"text-align: right;\">     490</td><td style=\"text-align: right;\">0.0562747</td><td style=\"text-align: right;\">  0.18449 </td><td style=\"text-align: right;\">0.971917</td><td style=\"text-align: right;\">    12</td><td style=\"text-align: right;\">         47.7958</td></tr>\n",
              "<tr><td>train_mnist_7f14d_00005</td><td>TERMINATED</td><td>               </td><td style=\"text-align: right;\">     370</td><td style=\"text-align: right;\">0.0641523</td><td style=\"text-align: right;\">  0.336615</td><td style=\"text-align: right;\">0.975517</td><td style=\"text-align: right;\">    12</td><td style=\"text-align: right;\">         40.1471</td></tr>\n",
              "</tbody>\n",
              "</table><br><br>"
            ],
            "text/plain": [
              "<IPython.core.display.HTML object>"
            ]
          },
          "metadata": {
            "tags": []
          }
        },
        {
          "output_type": "stream",
          "text": [
            "Result for train_mnist_7f14d_00006:\n",
            "  date: 2021-03-29_21-03-04\n",
            "  done: false\n",
            "  experiment_id: a7cb3c08dc8840cbad9483e14f636441\n",
            "  hostname: 82eedec80e15\n",
            "  iterations_since_restore: 11\n",
            "  mean_accuracy: 0.9763833284378052\n",
            "  node_ip: 172.28.0.2\n",
            "  pid: 5224\n",
            "  time_since_restore: 45.19008541107178\n",
            "  time_this_iter_s: 4.025002717971802\n",
            "  time_total_s: 45.19008541107178\n",
            "  timestamp: 1617051784\n",
            "  timesteps_since_restore: 0\n",
            "  training_iteration: 11\n",
            "  trial_id: 7f14d_00006\n",
            "  \n"
          ],
          "name": "stdout"
        },
        {
          "output_type": "display_data",
          "data": {
            "text/html": [
              "== Status ==<br>Memory usage on this node: 2.0/12.7 GiB<br>Using AsyncHyperBand: num_stopped=0\n",
              "Bracket: Iter 320.000: None | Iter 80.000: None | Iter 20.000: None<br>Resources requested: 2/2 CPUs, 0/0 GPUs, 0.0/7.52 GiB heap, 0.0/2.59 GiB objects<br>Current best trial: 7f14d_00003 with mean_accuracy=0.9900166392326355 and parameters={'threads': 2, 'lr': 0.09694874184722062, 'momentum': 0.8807830251886724, 'hidden': 349}<br>Result logdir: /root/ray_results/exp<br>Number of trials: 8/10 (1 PENDING, 1 RUNNING, 6 TERMINATED)<br><table>\n",
              "<thead>\n",
              "<tr><th>Trial name             </th><th>status    </th><th>loc            </th><th style=\"text-align: right;\">  hidden</th><th style=\"text-align: right;\">       lr</th><th style=\"text-align: right;\">  momentum</th><th style=\"text-align: right;\">     acc</th><th style=\"text-align: right;\">  iter</th><th style=\"text-align: right;\">  total time (s)</th></tr>\n",
              "</thead>\n",
              "<tbody>\n",
              "<tr><td>train_mnist_7f14d_00006</td><td>RUNNING   </td><td>172.28.0.2:5224</td><td style=\"text-align: right;\">     490</td><td style=\"text-align: right;\">0.0740172</td><td style=\"text-align: right;\">  0.266777</td><td style=\"text-align: right;\">0.976383</td><td style=\"text-align: right;\">    11</td><td style=\"text-align: right;\">         45.1901</td></tr>\n",
              "<tr><td>train_mnist_7f14d_00007</td><td>PENDING   </td><td>               </td><td style=\"text-align: right;\">      52</td><td style=\"text-align: right;\">0.0991786</td><td style=\"text-align: right;\">  0.799609</td><td style=\"text-align: right;\">        </td><td style=\"text-align: right;\">      </td><td style=\"text-align: right;\">                </td></tr>\n",
              "<tr><td>train_mnist_7f14d_00000</td><td>TERMINATED</td><td>               </td><td style=\"text-align: right;\">     214</td><td style=\"text-align: right;\">0.0352817</td><td style=\"text-align: right;\">  0.787862</td><td style=\"text-align: right;\">0.980483</td><td style=\"text-align: right;\">    12</td><td style=\"text-align: right;\">         30.5803</td></tr>\n",
              "<tr><td>train_mnist_7f14d_00001</td><td>TERMINATED</td><td>               </td><td style=\"text-align: right;\">     122</td><td style=\"text-align: right;\">0.0865463</td><td style=\"text-align: right;\">  0.686742</td><td style=\"text-align: right;\">0.979483</td><td style=\"text-align: right;\">    12</td><td style=\"text-align: right;\">         22.844 </td></tr>\n",
              "<tr><td>train_mnist_7f14d_00002</td><td>TERMINATED</td><td>               </td><td style=\"text-align: right;\">     481</td><td style=\"text-align: right;\">0.012584 </td><td style=\"text-align: right;\">  0.278352</td><td style=\"text-align: right;\">0.937917</td><td style=\"text-align: right;\">    12</td><td style=\"text-align: right;\">         47.2769</td></tr>\n",
              "<tr><td>train_mnist_7f14d_00003</td><td>TERMINATED</td><td>               </td><td style=\"text-align: right;\">     349</td><td style=\"text-align: right;\">0.0969487</td><td style=\"text-align: right;\">  0.880783</td><td style=\"text-align: right;\">0.990017</td><td style=\"text-align: right;\">     9</td><td style=\"text-align: right;\">         29.691 </td></tr>\n",
              "<tr><td>train_mnist_7f14d_00004</td><td>TERMINATED</td><td>               </td><td style=\"text-align: right;\">     490</td><td style=\"text-align: right;\">0.0562747</td><td style=\"text-align: right;\">  0.18449 </td><td style=\"text-align: right;\">0.971917</td><td style=\"text-align: right;\">    12</td><td style=\"text-align: right;\">         47.7958</td></tr>\n",
              "<tr><td>train_mnist_7f14d_00005</td><td>TERMINATED</td><td>               </td><td style=\"text-align: right;\">     370</td><td style=\"text-align: right;\">0.0641523</td><td style=\"text-align: right;\">  0.336615</td><td style=\"text-align: right;\">0.975517</td><td style=\"text-align: right;\">    12</td><td style=\"text-align: right;\">         40.1471</td></tr>\n",
              "</tbody>\n",
              "</table><br><br>"
            ],
            "text/plain": [
              "<IPython.core.display.HTML object>"
            ]
          },
          "metadata": {
            "tags": []
          }
        },
        {
          "output_type": "stream",
          "text": [
            "Result for train_mnist_7f14d_00006:\n",
            "  date: 2021-03-29_21-03-08\n",
            "  done: true\n",
            "  experiment_id: a7cb3c08dc8840cbad9483e14f636441\n",
            "  experiment_tag: 6_hidden=490,lr=0.074017,momentum=0.26678\n",
            "  hostname: 82eedec80e15\n",
            "  iterations_since_restore: 12\n",
            "  mean_accuracy: 0.9777666926383972\n",
            "  node_ip: 172.28.0.2\n",
            "  pid: 5224\n",
            "  time_since_restore: 49.09697103500366\n",
            "  time_this_iter_s: 3.9068856239318848\n",
            "  time_total_s: 49.09697103500366\n",
            "  timestamp: 1617051788\n",
            "  timesteps_since_restore: 0\n",
            "  training_iteration: 12\n",
            "  trial_id: 7f14d_00006\n",
            "  \n"
          ],
          "name": "stdout"
        },
        {
          "output_type": "stream",
          "text": [
            "\u001b[2m\u001b[36m(pid=5303)\u001b[0m 2021-03-29 21:03:09.528730: I tensorflow/stream_executor/platform/default/dso_loader.cc:49] Successfully opened dynamic library libcudart.so.11.0\n",
            "\u001b[2m\u001b[36m(pid=5303)\u001b[0m 2021-03-29 21:03:09.528730: I tensorflow/stream_executor/platform/default/dso_loader.cc:49] Successfully opened dynamic library libcudart.so.11.0\n",
            "\u001b[2m\u001b[36m(pid=5303)\u001b[0m 2021-03-29 21:03:11.844681: I tensorflow/compiler/jit/xla_cpu_device.cc:41] Not creating XLA devices, tf_xla_enable_xla_devices not set\n",
            "\u001b[2m\u001b[36m(pid=5303)\u001b[0m 2021-03-29 21:03:11.846033: I tensorflow/stream_executor/platform/default/dso_loader.cc:49] Successfully opened dynamic library libcuda.so.1\n",
            "\u001b[2m\u001b[36m(pid=5303)\u001b[0m 2021-03-29 21:03:11.844681: I tensorflow/compiler/jit/xla_cpu_device.cc:41] Not creating XLA devices, tf_xla_enable_xla_devices not set\n",
            "\u001b[2m\u001b[36m(pid=5303)\u001b[0m 2021-03-29 21:03:11.846033: I tensorflow/stream_executor/platform/default/dso_loader.cc:49] Successfully opened dynamic library libcuda.so.1\n",
            "\u001b[2m\u001b[36m(pid=5303)\u001b[0m 2021-03-29 21:03:11.860513: E tensorflow/stream_executor/cuda/cuda_driver.cc:328] failed call to cuInit: CUDA_ERROR_NO_DEVICE: no CUDA-capable device is detected\n",
            "\u001b[2m\u001b[36m(pid=5303)\u001b[0m 2021-03-29 21:03:11.860587: I tensorflow/stream_executor/cuda/cuda_diagnostics.cc:156] kernel driver does not appear to be running on this host (82eedec80e15): /proc/driver/nvidia/version does not exist\n",
            "\u001b[2m\u001b[36m(pid=5303)\u001b[0m 2021-03-29 21:03:11.861293: I tensorflow/compiler/jit/xla_gpu_device.cc:99] Not creating XLA devices, tf_xla_enable_xla_devices not set\n",
            "\u001b[2m\u001b[36m(pid=5303)\u001b[0m 2021-03-29 21:03:11.860513: E tensorflow/stream_executor/cuda/cuda_driver.cc:328] failed call to cuInit: CUDA_ERROR_NO_DEVICE: no CUDA-capable device is detected\n",
            "\u001b[2m\u001b[36m(pid=5303)\u001b[0m 2021-03-29 21:03:11.860587: I tensorflow/stream_executor/cuda/cuda_diagnostics.cc:156] kernel driver does not appear to be running on this host (82eedec80e15): /proc/driver/nvidia/version does not exist\n",
            "\u001b[2m\u001b[36m(pid=5303)\u001b[0m 2021-03-29 21:03:11.861293: I tensorflow/compiler/jit/xla_gpu_device.cc:99] Not creating XLA devices, tf_xla_enable_xla_devices not set\n",
            "\u001b[2m\u001b[36m(pid=5303)\u001b[0m 2021-03-29 21:03:12.216159: I tensorflow/compiler/mlir/mlir_graph_optimization_pass.cc:116] None of the MLIR optimization passes are enabled (registered 2)\n",
            "\u001b[2m\u001b[36m(pid=5303)\u001b[0m 2021-03-29 21:03:12.216709: I tensorflow/core/platform/profile_utils/cpu_utils.cc:112] CPU Frequency: 2200150000 Hz\n",
            "\u001b[2m\u001b[36m(pid=5303)\u001b[0m 2021-03-29 21:03:12.216159: I tensorflow/compiler/mlir/mlir_graph_optimization_pass.cc:116] None of the MLIR optimization passes are enabled (registered 2)\n",
            "\u001b[2m\u001b[36m(pid=5303)\u001b[0m 2021-03-29 21:03:12.216709: I tensorflow/core/platform/profile_utils/cpu_utils.cc:112] CPU Frequency: 2200150000 Hz\n"
          ],
          "name": "stderr"
        },
        {
          "output_type": "stream",
          "text": [
            "Result for train_mnist_7f14d_00007:\n",
            "  date: 2021-03-29_21-03-14\n",
            "  done: false\n",
            "  experiment_id: 620639cdf4d34a0e8dbbed00b3915acb\n",
            "  hostname: 82eedec80e15\n",
            "  iterations_since_restore: 1\n",
            "  mean_accuracy: 0.8831166625022888\n",
            "  node_ip: 172.28.0.2\n",
            "  pid: 5303\n",
            "  time_since_restore: 3.2327308654785156\n",
            "  time_this_iter_s: 3.2327308654785156\n",
            "  time_total_s: 3.2327308654785156\n",
            "  timestamp: 1617051794\n",
            "  timesteps_since_restore: 0\n",
            "  training_iteration: 1\n",
            "  trial_id: 7f14d_00007\n",
            "  \n"
          ],
          "name": "stdout"
        },
        {
          "output_type": "display_data",
          "data": {
            "text/html": [
              "== Status ==<br>Memory usage on this node: 2.0/12.7 GiB<br>Using AsyncHyperBand: num_stopped=0\n",
              "Bracket: Iter 320.000: None | Iter 80.000: None | Iter 20.000: None<br>Resources requested: 2/2 CPUs, 0/0 GPUs, 0.0/7.52 GiB heap, 0.0/2.59 GiB objects<br>Current best trial: 7f14d_00003 with mean_accuracy=0.9900166392326355 and parameters={'threads': 2, 'lr': 0.09694874184722062, 'momentum': 0.8807830251886724, 'hidden': 349}<br>Result logdir: /root/ray_results/exp<br>Number of trials: 9/10 (1 PENDING, 1 RUNNING, 7 TERMINATED)<br><table>\n",
              "<thead>\n",
              "<tr><th>Trial name             </th><th>status    </th><th>loc            </th><th style=\"text-align: right;\">  hidden</th><th style=\"text-align: right;\">       lr</th><th style=\"text-align: right;\">  momentum</th><th style=\"text-align: right;\">     acc</th><th style=\"text-align: right;\">  iter</th><th style=\"text-align: right;\">  total time (s)</th></tr>\n",
              "</thead>\n",
              "<tbody>\n",
              "<tr><td>train_mnist_7f14d_00007</td><td>RUNNING   </td><td>172.28.0.2:5303</td><td style=\"text-align: right;\">      52</td><td style=\"text-align: right;\">0.0991786</td><td style=\"text-align: right;\">  0.799609</td><td style=\"text-align: right;\">0.883117</td><td style=\"text-align: right;\">     1</td><td style=\"text-align: right;\">         3.23273</td></tr>\n",
              "<tr><td>train_mnist_7f14d_00008</td><td>PENDING   </td><td>               </td><td style=\"text-align: right;\">      57</td><td style=\"text-align: right;\">0.0473355</td><td style=\"text-align: right;\">  0.613397</td><td style=\"text-align: right;\">        </td><td style=\"text-align: right;\">      </td><td style=\"text-align: right;\">                </td></tr>\n",
              "<tr><td>train_mnist_7f14d_00000</td><td>TERMINATED</td><td>               </td><td style=\"text-align: right;\">     214</td><td style=\"text-align: right;\">0.0352817</td><td style=\"text-align: right;\">  0.787862</td><td style=\"text-align: right;\">0.980483</td><td style=\"text-align: right;\">    12</td><td style=\"text-align: right;\">        30.5803 </td></tr>\n",
              "<tr><td>train_mnist_7f14d_00001</td><td>TERMINATED</td><td>               </td><td style=\"text-align: right;\">     122</td><td style=\"text-align: right;\">0.0865463</td><td style=\"text-align: right;\">  0.686742</td><td style=\"text-align: right;\">0.979483</td><td style=\"text-align: right;\">    12</td><td style=\"text-align: right;\">        22.844  </td></tr>\n",
              "<tr><td>train_mnist_7f14d_00002</td><td>TERMINATED</td><td>               </td><td style=\"text-align: right;\">     481</td><td style=\"text-align: right;\">0.012584 </td><td style=\"text-align: right;\">  0.278352</td><td style=\"text-align: right;\">0.937917</td><td style=\"text-align: right;\">    12</td><td style=\"text-align: right;\">        47.2769 </td></tr>\n",
              "<tr><td>train_mnist_7f14d_00003</td><td>TERMINATED</td><td>               </td><td style=\"text-align: right;\">     349</td><td style=\"text-align: right;\">0.0969487</td><td style=\"text-align: right;\">  0.880783</td><td style=\"text-align: right;\">0.990017</td><td style=\"text-align: right;\">     9</td><td style=\"text-align: right;\">        29.691  </td></tr>\n",
              "<tr><td>train_mnist_7f14d_00004</td><td>TERMINATED</td><td>               </td><td style=\"text-align: right;\">     490</td><td style=\"text-align: right;\">0.0562747</td><td style=\"text-align: right;\">  0.18449 </td><td style=\"text-align: right;\">0.971917</td><td style=\"text-align: right;\">    12</td><td style=\"text-align: right;\">        47.7958 </td></tr>\n",
              "<tr><td>train_mnist_7f14d_00005</td><td>TERMINATED</td><td>               </td><td style=\"text-align: right;\">     370</td><td style=\"text-align: right;\">0.0641523</td><td style=\"text-align: right;\">  0.336615</td><td style=\"text-align: right;\">0.975517</td><td style=\"text-align: right;\">    12</td><td style=\"text-align: right;\">        40.1471 </td></tr>\n",
              "<tr><td>train_mnist_7f14d_00006</td><td>TERMINATED</td><td>               </td><td style=\"text-align: right;\">     490</td><td style=\"text-align: right;\">0.0740172</td><td style=\"text-align: right;\">  0.266777</td><td style=\"text-align: right;\">0.977767</td><td style=\"text-align: right;\">    12</td><td style=\"text-align: right;\">        49.097  </td></tr>\n",
              "</tbody>\n",
              "</table><br><br>"
            ],
            "text/plain": [
              "<IPython.core.display.HTML object>"
            ]
          },
          "metadata": {
            "tags": []
          }
        },
        {
          "output_type": "stream",
          "text": [
            "Result for train_mnist_7f14d_00007:\n",
            "  date: 2021-03-29_21-03-19\n",
            "  done: false\n",
            "  experiment_id: 620639cdf4d34a0e8dbbed00b3915acb\n",
            "  hostname: 82eedec80e15\n",
            "  iterations_since_restore: 5\n",
            "  mean_accuracy: 0.9537333250045776\n",
            "  node_ip: 172.28.0.2\n",
            "  pid: 5303\n",
            "  time_since_restore: 8.48843002319336\n",
            "  time_this_iter_s: 1.2708594799041748\n",
            "  time_total_s: 8.48843002319336\n",
            "  timestamp: 1617051799\n",
            "  timesteps_since_restore: 0\n",
            "  training_iteration: 5\n",
            "  trial_id: 7f14d_00007\n",
            "  \n"
          ],
          "name": "stdout"
        },
        {
          "output_type": "display_data",
          "data": {
            "text/html": [
              "== Status ==<br>Memory usage on this node: 2.0/12.7 GiB<br>Using AsyncHyperBand: num_stopped=0\n",
              "Bracket: Iter 320.000: None | Iter 80.000: None | Iter 20.000: None<br>Resources requested: 2/2 CPUs, 0/0 GPUs, 0.0/7.52 GiB heap, 0.0/2.59 GiB objects<br>Current best trial: 7f14d_00003 with mean_accuracy=0.9900166392326355 and parameters={'threads': 2, 'lr': 0.09694874184722062, 'momentum': 0.8807830251886724, 'hidden': 349}<br>Result logdir: /root/ray_results/exp<br>Number of trials: 9/10 (1 PENDING, 1 RUNNING, 7 TERMINATED)<br><table>\n",
              "<thead>\n",
              "<tr><th>Trial name             </th><th>status    </th><th>loc            </th><th style=\"text-align: right;\">  hidden</th><th style=\"text-align: right;\">       lr</th><th style=\"text-align: right;\">  momentum</th><th style=\"text-align: right;\">     acc</th><th style=\"text-align: right;\">  iter</th><th style=\"text-align: right;\">  total time (s)</th></tr>\n",
              "</thead>\n",
              "<tbody>\n",
              "<tr><td>train_mnist_7f14d_00007</td><td>RUNNING   </td><td>172.28.0.2:5303</td><td style=\"text-align: right;\">      52</td><td style=\"text-align: right;\">0.0991786</td><td style=\"text-align: right;\">  0.799609</td><td style=\"text-align: right;\">0.953733</td><td style=\"text-align: right;\">     5</td><td style=\"text-align: right;\">         8.48843</td></tr>\n",
              "<tr><td>train_mnist_7f14d_00008</td><td>PENDING   </td><td>               </td><td style=\"text-align: right;\">      57</td><td style=\"text-align: right;\">0.0473355</td><td style=\"text-align: right;\">  0.613397</td><td style=\"text-align: right;\">        </td><td style=\"text-align: right;\">      </td><td style=\"text-align: right;\">                </td></tr>\n",
              "<tr><td>train_mnist_7f14d_00000</td><td>TERMINATED</td><td>               </td><td style=\"text-align: right;\">     214</td><td style=\"text-align: right;\">0.0352817</td><td style=\"text-align: right;\">  0.787862</td><td style=\"text-align: right;\">0.980483</td><td style=\"text-align: right;\">    12</td><td style=\"text-align: right;\">        30.5803 </td></tr>\n",
              "<tr><td>train_mnist_7f14d_00001</td><td>TERMINATED</td><td>               </td><td style=\"text-align: right;\">     122</td><td style=\"text-align: right;\">0.0865463</td><td style=\"text-align: right;\">  0.686742</td><td style=\"text-align: right;\">0.979483</td><td style=\"text-align: right;\">    12</td><td style=\"text-align: right;\">        22.844  </td></tr>\n",
              "<tr><td>train_mnist_7f14d_00002</td><td>TERMINATED</td><td>               </td><td style=\"text-align: right;\">     481</td><td style=\"text-align: right;\">0.012584 </td><td style=\"text-align: right;\">  0.278352</td><td style=\"text-align: right;\">0.937917</td><td style=\"text-align: right;\">    12</td><td style=\"text-align: right;\">        47.2769 </td></tr>\n",
              "<tr><td>train_mnist_7f14d_00003</td><td>TERMINATED</td><td>               </td><td style=\"text-align: right;\">     349</td><td style=\"text-align: right;\">0.0969487</td><td style=\"text-align: right;\">  0.880783</td><td style=\"text-align: right;\">0.990017</td><td style=\"text-align: right;\">     9</td><td style=\"text-align: right;\">        29.691  </td></tr>\n",
              "<tr><td>train_mnist_7f14d_00004</td><td>TERMINATED</td><td>               </td><td style=\"text-align: right;\">     490</td><td style=\"text-align: right;\">0.0562747</td><td style=\"text-align: right;\">  0.18449 </td><td style=\"text-align: right;\">0.971917</td><td style=\"text-align: right;\">    12</td><td style=\"text-align: right;\">        47.7958 </td></tr>\n",
              "<tr><td>train_mnist_7f14d_00005</td><td>TERMINATED</td><td>               </td><td style=\"text-align: right;\">     370</td><td style=\"text-align: right;\">0.0641523</td><td style=\"text-align: right;\">  0.336615</td><td style=\"text-align: right;\">0.975517</td><td style=\"text-align: right;\">    12</td><td style=\"text-align: right;\">        40.1471 </td></tr>\n",
              "<tr><td>train_mnist_7f14d_00006</td><td>TERMINATED</td><td>               </td><td style=\"text-align: right;\">     490</td><td style=\"text-align: right;\">0.0740172</td><td style=\"text-align: right;\">  0.266777</td><td style=\"text-align: right;\">0.977767</td><td style=\"text-align: right;\">    12</td><td style=\"text-align: right;\">        49.097  </td></tr>\n",
              "</tbody>\n",
              "</table><br><br>"
            ],
            "text/plain": [
              "<IPython.core.display.HTML object>"
            ]
          },
          "metadata": {
            "tags": []
          }
        },
        {
          "output_type": "stream",
          "text": [
            "Result for train_mnist_7f14d_00007:\n",
            "  date: 2021-03-29_21-03-24\n",
            "  done: false\n",
            "  experiment_id: 620639cdf4d34a0e8dbbed00b3915acb\n",
            "  hostname: 82eedec80e15\n",
            "  iterations_since_restore: 9\n",
            "  mean_accuracy: 0.9621833562850952\n",
            "  node_ip: 172.28.0.2\n",
            "  pid: 5303\n",
            "  time_since_restore: 13.594040393829346\n",
            "  time_this_iter_s: 1.3066742420196533\n",
            "  time_total_s: 13.594040393829346\n",
            "  timestamp: 1617051804\n",
            "  timesteps_since_restore: 0\n",
            "  training_iteration: 9\n",
            "  trial_id: 7f14d_00007\n",
            "  \n"
          ],
          "name": "stdout"
        },
        {
          "output_type": "display_data",
          "data": {
            "text/html": [
              "== Status ==<br>Memory usage on this node: 2.0/12.7 GiB<br>Using AsyncHyperBand: num_stopped=0\n",
              "Bracket: Iter 320.000: None | Iter 80.000: None | Iter 20.000: None<br>Resources requested: 2/2 CPUs, 0/0 GPUs, 0.0/7.52 GiB heap, 0.0/2.59 GiB objects<br>Current best trial: 7f14d_00003 with mean_accuracy=0.9900166392326355 and parameters={'threads': 2, 'lr': 0.09694874184722062, 'momentum': 0.8807830251886724, 'hidden': 349}<br>Result logdir: /root/ray_results/exp<br>Number of trials: 9/10 (1 PENDING, 1 RUNNING, 7 TERMINATED)<br><table>\n",
              "<thead>\n",
              "<tr><th>Trial name             </th><th>status    </th><th>loc            </th><th style=\"text-align: right;\">  hidden</th><th style=\"text-align: right;\">       lr</th><th style=\"text-align: right;\">  momentum</th><th style=\"text-align: right;\">     acc</th><th style=\"text-align: right;\">  iter</th><th style=\"text-align: right;\">  total time (s)</th></tr>\n",
              "</thead>\n",
              "<tbody>\n",
              "<tr><td>train_mnist_7f14d_00007</td><td>RUNNING   </td><td>172.28.0.2:5303</td><td style=\"text-align: right;\">      52</td><td style=\"text-align: right;\">0.0991786</td><td style=\"text-align: right;\">  0.799609</td><td style=\"text-align: right;\">0.962183</td><td style=\"text-align: right;\">     9</td><td style=\"text-align: right;\">         13.594 </td></tr>\n",
              "<tr><td>train_mnist_7f14d_00008</td><td>PENDING   </td><td>               </td><td style=\"text-align: right;\">      57</td><td style=\"text-align: right;\">0.0473355</td><td style=\"text-align: right;\">  0.613397</td><td style=\"text-align: right;\">        </td><td style=\"text-align: right;\">      </td><td style=\"text-align: right;\">                </td></tr>\n",
              "<tr><td>train_mnist_7f14d_00000</td><td>TERMINATED</td><td>               </td><td style=\"text-align: right;\">     214</td><td style=\"text-align: right;\">0.0352817</td><td style=\"text-align: right;\">  0.787862</td><td style=\"text-align: right;\">0.980483</td><td style=\"text-align: right;\">    12</td><td style=\"text-align: right;\">         30.5803</td></tr>\n",
              "<tr><td>train_mnist_7f14d_00001</td><td>TERMINATED</td><td>               </td><td style=\"text-align: right;\">     122</td><td style=\"text-align: right;\">0.0865463</td><td style=\"text-align: right;\">  0.686742</td><td style=\"text-align: right;\">0.979483</td><td style=\"text-align: right;\">    12</td><td style=\"text-align: right;\">         22.844 </td></tr>\n",
              "<tr><td>train_mnist_7f14d_00002</td><td>TERMINATED</td><td>               </td><td style=\"text-align: right;\">     481</td><td style=\"text-align: right;\">0.012584 </td><td style=\"text-align: right;\">  0.278352</td><td style=\"text-align: right;\">0.937917</td><td style=\"text-align: right;\">    12</td><td style=\"text-align: right;\">         47.2769</td></tr>\n",
              "<tr><td>train_mnist_7f14d_00003</td><td>TERMINATED</td><td>               </td><td style=\"text-align: right;\">     349</td><td style=\"text-align: right;\">0.0969487</td><td style=\"text-align: right;\">  0.880783</td><td style=\"text-align: right;\">0.990017</td><td style=\"text-align: right;\">     9</td><td style=\"text-align: right;\">         29.691 </td></tr>\n",
              "<tr><td>train_mnist_7f14d_00004</td><td>TERMINATED</td><td>               </td><td style=\"text-align: right;\">     490</td><td style=\"text-align: right;\">0.0562747</td><td style=\"text-align: right;\">  0.18449 </td><td style=\"text-align: right;\">0.971917</td><td style=\"text-align: right;\">    12</td><td style=\"text-align: right;\">         47.7958</td></tr>\n",
              "<tr><td>train_mnist_7f14d_00005</td><td>TERMINATED</td><td>               </td><td style=\"text-align: right;\">     370</td><td style=\"text-align: right;\">0.0641523</td><td style=\"text-align: right;\">  0.336615</td><td style=\"text-align: right;\">0.975517</td><td style=\"text-align: right;\">    12</td><td style=\"text-align: right;\">         40.1471</td></tr>\n",
              "<tr><td>train_mnist_7f14d_00006</td><td>TERMINATED</td><td>               </td><td style=\"text-align: right;\">     490</td><td style=\"text-align: right;\">0.0740172</td><td style=\"text-align: right;\">  0.266777</td><td style=\"text-align: right;\">0.977767</td><td style=\"text-align: right;\">    12</td><td style=\"text-align: right;\">         49.097 </td></tr>\n",
              "</tbody>\n",
              "</table><br><br>"
            ],
            "text/plain": [
              "<IPython.core.display.HTML object>"
            ]
          },
          "metadata": {
            "tags": []
          }
        },
        {
          "output_type": "stream",
          "text": [
            "Result for train_mnist_7f14d_00007:\n",
            "  date: 2021-03-29_21-03-28\n",
            "  done: true\n",
            "  experiment_id: 620639cdf4d34a0e8dbbed00b3915acb\n",
            "  experiment_tag: 7_hidden=52,lr=0.099179,momentum=0.79961\n",
            "  hostname: 82eedec80e15\n",
            "  iterations_since_restore: 12\n",
            "  mean_accuracy: 0.9650333523750305\n",
            "  node_ip: 172.28.0.2\n",
            "  pid: 5303\n",
            "  time_since_restore: 17.449495553970337\n",
            "  time_this_iter_s: 1.2616119384765625\n",
            "  time_total_s: 17.449495553970337\n",
            "  timestamp: 1617051808\n",
            "  timesteps_since_restore: 0\n",
            "  training_iteration: 12\n",
            "  trial_id: 7f14d_00007\n",
            "  \n"
          ],
          "name": "stdout"
        },
        {
          "output_type": "stream",
          "text": [
            "\u001b[2m\u001b[36m(pid=5373)\u001b[0m 2021-03-29 21:03:29.756925: I tensorflow/stream_executor/platform/default/dso_loader.cc:49] Successfully opened dynamic library libcudart.so.11.0\n",
            "\u001b[2m\u001b[36m(pid=5373)\u001b[0m 2021-03-29 21:03:29.756925: I tensorflow/stream_executor/platform/default/dso_loader.cc:49] Successfully opened dynamic library libcudart.so.11.0\n",
            "\u001b[2m\u001b[36m(pid=5373)\u001b[0m 2021-03-29 21:03:32.020321: I tensorflow/compiler/jit/xla_cpu_device.cc:41] Not creating XLA devices, tf_xla_enable_xla_devices not set\n",
            "\u001b[2m\u001b[36m(pid=5373)\u001b[0m 2021-03-29 21:03:32.021423: I tensorflow/stream_executor/platform/default/dso_loader.cc:49] Successfully opened dynamic library libcuda.so.1\n",
            "\u001b[2m\u001b[36m(pid=5373)\u001b[0m 2021-03-29 21:03:32.032495: E tensorflow/stream_executor/cuda/cuda_driver.cc:328] failed call to cuInit: CUDA_ERROR_NO_DEVICE: no CUDA-capable device is detected\n",
            "\u001b[2m\u001b[36m(pid=5373)\u001b[0m 2021-03-29 21:03:32.032557: I tensorflow/stream_executor/cuda/cuda_diagnostics.cc:156] kernel driver does not appear to be running on this host (82eedec80e15): /proc/driver/nvidia/version does not exist\n",
            "\u001b[2m\u001b[36m(pid=5373)\u001b[0m 2021-03-29 21:03:32.033099: I tensorflow/compiler/jit/xla_gpu_device.cc:99] Not creating XLA devices, tf_xla_enable_xla_devices not set\n",
            "\u001b[2m\u001b[36m(pid=5373)\u001b[0m 2021-03-29 21:03:32.020321: I tensorflow/compiler/jit/xla_cpu_device.cc:41] Not creating XLA devices, tf_xla_enable_xla_devices not set\n",
            "\u001b[2m\u001b[36m(pid=5373)\u001b[0m 2021-03-29 21:03:32.021423: I tensorflow/stream_executor/platform/default/dso_loader.cc:49] Successfully opened dynamic library libcuda.so.1\n",
            "\u001b[2m\u001b[36m(pid=5373)\u001b[0m 2021-03-29 21:03:32.032495: E tensorflow/stream_executor/cuda/cuda_driver.cc:328] failed call to cuInit: CUDA_ERROR_NO_DEVICE: no CUDA-capable device is detected\n",
            "\u001b[2m\u001b[36m(pid=5373)\u001b[0m 2021-03-29 21:03:32.032557: I tensorflow/stream_executor/cuda/cuda_diagnostics.cc:156] kernel driver does not appear to be running on this host (82eedec80e15): /proc/driver/nvidia/version does not exist\n",
            "\u001b[2m\u001b[36m(pid=5373)\u001b[0m 2021-03-29 21:03:32.033099: I tensorflow/compiler/jit/xla_gpu_device.cc:99] Not creating XLA devices, tf_xla_enable_xla_devices not set\n",
            "\u001b[2m\u001b[36m(pid=5373)\u001b[0m 2021-03-29 21:03:32.359328: I tensorflow/compiler/mlir/mlir_graph_optimization_pass.cc:116] None of the MLIR optimization passes are enabled (registered 2)\n",
            "\u001b[2m\u001b[36m(pid=5373)\u001b[0m 2021-03-29 21:03:32.359839: I tensorflow/core/platform/profile_utils/cpu_utils.cc:112] CPU Frequency: 2200150000 Hz\n",
            "\u001b[2m\u001b[36m(pid=5373)\u001b[0m 2021-03-29 21:03:32.359328: I tensorflow/compiler/mlir/mlir_graph_optimization_pass.cc:116] None of the MLIR optimization passes are enabled (registered 2)\n",
            "\u001b[2m\u001b[36m(pid=5373)\u001b[0m 2021-03-29 21:03:32.359839: I tensorflow/core/platform/profile_utils/cpu_utils.cc:112] CPU Frequency: 2200150000 Hz\n"
          ],
          "name": "stderr"
        },
        {
          "output_type": "stream",
          "text": [
            "Result for train_mnist_7f14d_00008:\n",
            "  date: 2021-03-29_21-03-34\n",
            "  done: false\n",
            "  experiment_id: 383ccbb3718646ddad2f80b6078e60bd\n",
            "  hostname: 82eedec80e15\n",
            "  iterations_since_restore: 1\n",
            "  mean_accuracy: 0.8433166742324829\n",
            "  node_ip: 172.28.0.2\n",
            "  pid: 5373\n",
            "  time_since_restore: 3.120847702026367\n",
            "  time_this_iter_s: 3.120847702026367\n",
            "  time_total_s: 3.120847702026367\n",
            "  timestamp: 1617051814\n",
            "  timesteps_since_restore: 0\n",
            "  training_iteration: 1\n",
            "  trial_id: 7f14d_00008\n",
            "  \n"
          ],
          "name": "stdout"
        },
        {
          "output_type": "display_data",
          "data": {
            "text/html": [
              "== Status ==<br>Memory usage on this node: 2.0/12.7 GiB<br>Using AsyncHyperBand: num_stopped=0\n",
              "Bracket: Iter 320.000: None | Iter 80.000: None | Iter 20.000: None<br>Resources requested: 2/2 CPUs, 0/0 GPUs, 0.0/7.52 GiB heap, 0.0/2.59 GiB objects<br>Current best trial: 7f14d_00003 with mean_accuracy=0.9900166392326355 and parameters={'threads': 2, 'lr': 0.09694874184722062, 'momentum': 0.8807830251886724, 'hidden': 349}<br>Result logdir: /root/ray_results/exp<br>Number of trials: 10/10 (1 PENDING, 1 RUNNING, 8 TERMINATED)<br><table>\n",
              "<thead>\n",
              "<tr><th>Trial name             </th><th>status    </th><th>loc            </th><th style=\"text-align: right;\">  hidden</th><th style=\"text-align: right;\">       lr</th><th style=\"text-align: right;\">  momentum</th><th style=\"text-align: right;\">     acc</th><th style=\"text-align: right;\">  iter</th><th style=\"text-align: right;\">  total time (s)</th></tr>\n",
              "</thead>\n",
              "<tbody>\n",
              "<tr><td>train_mnist_7f14d_00008</td><td>RUNNING   </td><td>172.28.0.2:5373</td><td style=\"text-align: right;\">      57</td><td style=\"text-align: right;\">0.0473355</td><td style=\"text-align: right;\">  0.613397</td><td style=\"text-align: right;\">0.843317</td><td style=\"text-align: right;\">     1</td><td style=\"text-align: right;\">         3.12085</td></tr>\n",
              "<tr><td>train_mnist_7f14d_00009</td><td>PENDING   </td><td>               </td><td style=\"text-align: right;\">     166</td><td style=\"text-align: right;\">0.0984966</td><td style=\"text-align: right;\">  0.674162</td><td style=\"text-align: right;\">        </td><td style=\"text-align: right;\">      </td><td style=\"text-align: right;\">                </td></tr>\n",
              "<tr><td>train_mnist_7f14d_00000</td><td>TERMINATED</td><td>               </td><td style=\"text-align: right;\">     214</td><td style=\"text-align: right;\">0.0352817</td><td style=\"text-align: right;\">  0.787862</td><td style=\"text-align: right;\">0.980483</td><td style=\"text-align: right;\">    12</td><td style=\"text-align: right;\">        30.5803 </td></tr>\n",
              "<tr><td>train_mnist_7f14d_00001</td><td>TERMINATED</td><td>               </td><td style=\"text-align: right;\">     122</td><td style=\"text-align: right;\">0.0865463</td><td style=\"text-align: right;\">  0.686742</td><td style=\"text-align: right;\">0.979483</td><td style=\"text-align: right;\">    12</td><td style=\"text-align: right;\">        22.844  </td></tr>\n",
              "<tr><td>train_mnist_7f14d_00002</td><td>TERMINATED</td><td>               </td><td style=\"text-align: right;\">     481</td><td style=\"text-align: right;\">0.012584 </td><td style=\"text-align: right;\">  0.278352</td><td style=\"text-align: right;\">0.937917</td><td style=\"text-align: right;\">    12</td><td style=\"text-align: right;\">        47.2769 </td></tr>\n",
              "<tr><td>train_mnist_7f14d_00003</td><td>TERMINATED</td><td>               </td><td style=\"text-align: right;\">     349</td><td style=\"text-align: right;\">0.0969487</td><td style=\"text-align: right;\">  0.880783</td><td style=\"text-align: right;\">0.990017</td><td style=\"text-align: right;\">     9</td><td style=\"text-align: right;\">        29.691  </td></tr>\n",
              "<tr><td>train_mnist_7f14d_00004</td><td>TERMINATED</td><td>               </td><td style=\"text-align: right;\">     490</td><td style=\"text-align: right;\">0.0562747</td><td style=\"text-align: right;\">  0.18449 </td><td style=\"text-align: right;\">0.971917</td><td style=\"text-align: right;\">    12</td><td style=\"text-align: right;\">        47.7958 </td></tr>\n",
              "<tr><td>train_mnist_7f14d_00005</td><td>TERMINATED</td><td>               </td><td style=\"text-align: right;\">     370</td><td style=\"text-align: right;\">0.0641523</td><td style=\"text-align: right;\">  0.336615</td><td style=\"text-align: right;\">0.975517</td><td style=\"text-align: right;\">    12</td><td style=\"text-align: right;\">        40.1471 </td></tr>\n",
              "<tr><td>train_mnist_7f14d_00006</td><td>TERMINATED</td><td>               </td><td style=\"text-align: right;\">     490</td><td style=\"text-align: right;\">0.0740172</td><td style=\"text-align: right;\">  0.266777</td><td style=\"text-align: right;\">0.977767</td><td style=\"text-align: right;\">    12</td><td style=\"text-align: right;\">        49.097  </td></tr>\n",
              "<tr><td>train_mnist_7f14d_00007</td><td>TERMINATED</td><td>               </td><td style=\"text-align: right;\">      52</td><td style=\"text-align: right;\">0.0991786</td><td style=\"text-align: right;\">  0.799609</td><td style=\"text-align: right;\">0.965033</td><td style=\"text-align: right;\">    12</td><td style=\"text-align: right;\">        17.4495 </td></tr>\n",
              "</tbody>\n",
              "</table><br><br>"
            ],
            "text/plain": [
              "<IPython.core.display.HTML object>"
            ]
          },
          "metadata": {
            "tags": []
          }
        },
        {
          "output_type": "stream",
          "text": [
            "Result for train_mnist_7f14d_00008:\n",
            "  date: 2021-03-29_21-03-39\n",
            "  done: false\n",
            "  experiment_id: 383ccbb3718646ddad2f80b6078e60bd\n",
            "  hostname: 82eedec80e15\n",
            "  iterations_since_restore: 5\n",
            "  mean_accuracy: 0.9408666491508484\n",
            "  node_ip: 172.28.0.2\n",
            "  pid: 5373\n",
            "  time_since_restore: 8.395544052124023\n",
            "  time_this_iter_s: 1.3577957153320312\n",
            "  time_total_s: 8.395544052124023\n",
            "  timestamp: 1617051819\n",
            "  timesteps_since_restore: 0\n",
            "  training_iteration: 5\n",
            "  trial_id: 7f14d_00008\n",
            "  \n"
          ],
          "name": "stdout"
        },
        {
          "output_type": "display_data",
          "data": {
            "text/html": [
              "== Status ==<br>Memory usage on this node: 2.0/12.7 GiB<br>Using AsyncHyperBand: num_stopped=0\n",
              "Bracket: Iter 320.000: None | Iter 80.000: None | Iter 20.000: None<br>Resources requested: 2/2 CPUs, 0/0 GPUs, 0.0/7.52 GiB heap, 0.0/2.59 GiB objects<br>Current best trial: 7f14d_00003 with mean_accuracy=0.9900166392326355 and parameters={'threads': 2, 'lr': 0.09694874184722062, 'momentum': 0.8807830251886724, 'hidden': 349}<br>Result logdir: /root/ray_results/exp<br>Number of trials: 10/10 (1 PENDING, 1 RUNNING, 8 TERMINATED)<br><table>\n",
              "<thead>\n",
              "<tr><th>Trial name             </th><th>status    </th><th>loc            </th><th style=\"text-align: right;\">  hidden</th><th style=\"text-align: right;\">       lr</th><th style=\"text-align: right;\">  momentum</th><th style=\"text-align: right;\">     acc</th><th style=\"text-align: right;\">  iter</th><th style=\"text-align: right;\">  total time (s)</th></tr>\n",
              "</thead>\n",
              "<tbody>\n",
              "<tr><td>train_mnist_7f14d_00008</td><td>RUNNING   </td><td>172.28.0.2:5373</td><td style=\"text-align: right;\">      57</td><td style=\"text-align: right;\">0.0473355</td><td style=\"text-align: right;\">  0.613397</td><td style=\"text-align: right;\">0.940867</td><td style=\"text-align: right;\">     5</td><td style=\"text-align: right;\">         8.39554</td></tr>\n",
              "<tr><td>train_mnist_7f14d_00009</td><td>PENDING   </td><td>               </td><td style=\"text-align: right;\">     166</td><td style=\"text-align: right;\">0.0984966</td><td style=\"text-align: right;\">  0.674162</td><td style=\"text-align: right;\">        </td><td style=\"text-align: right;\">      </td><td style=\"text-align: right;\">                </td></tr>\n",
              "<tr><td>train_mnist_7f14d_00000</td><td>TERMINATED</td><td>               </td><td style=\"text-align: right;\">     214</td><td style=\"text-align: right;\">0.0352817</td><td style=\"text-align: right;\">  0.787862</td><td style=\"text-align: right;\">0.980483</td><td style=\"text-align: right;\">    12</td><td style=\"text-align: right;\">        30.5803 </td></tr>\n",
              "<tr><td>train_mnist_7f14d_00001</td><td>TERMINATED</td><td>               </td><td style=\"text-align: right;\">     122</td><td style=\"text-align: right;\">0.0865463</td><td style=\"text-align: right;\">  0.686742</td><td style=\"text-align: right;\">0.979483</td><td style=\"text-align: right;\">    12</td><td style=\"text-align: right;\">        22.844  </td></tr>\n",
              "<tr><td>train_mnist_7f14d_00002</td><td>TERMINATED</td><td>               </td><td style=\"text-align: right;\">     481</td><td style=\"text-align: right;\">0.012584 </td><td style=\"text-align: right;\">  0.278352</td><td style=\"text-align: right;\">0.937917</td><td style=\"text-align: right;\">    12</td><td style=\"text-align: right;\">        47.2769 </td></tr>\n",
              "<tr><td>train_mnist_7f14d_00003</td><td>TERMINATED</td><td>               </td><td style=\"text-align: right;\">     349</td><td style=\"text-align: right;\">0.0969487</td><td style=\"text-align: right;\">  0.880783</td><td style=\"text-align: right;\">0.990017</td><td style=\"text-align: right;\">     9</td><td style=\"text-align: right;\">        29.691  </td></tr>\n",
              "<tr><td>train_mnist_7f14d_00004</td><td>TERMINATED</td><td>               </td><td style=\"text-align: right;\">     490</td><td style=\"text-align: right;\">0.0562747</td><td style=\"text-align: right;\">  0.18449 </td><td style=\"text-align: right;\">0.971917</td><td style=\"text-align: right;\">    12</td><td style=\"text-align: right;\">        47.7958 </td></tr>\n",
              "<tr><td>train_mnist_7f14d_00005</td><td>TERMINATED</td><td>               </td><td style=\"text-align: right;\">     370</td><td style=\"text-align: right;\">0.0641523</td><td style=\"text-align: right;\">  0.336615</td><td style=\"text-align: right;\">0.975517</td><td style=\"text-align: right;\">    12</td><td style=\"text-align: right;\">        40.1471 </td></tr>\n",
              "<tr><td>train_mnist_7f14d_00006</td><td>TERMINATED</td><td>               </td><td style=\"text-align: right;\">     490</td><td style=\"text-align: right;\">0.0740172</td><td style=\"text-align: right;\">  0.266777</td><td style=\"text-align: right;\">0.977767</td><td style=\"text-align: right;\">    12</td><td style=\"text-align: right;\">        49.097  </td></tr>\n",
              "<tr><td>train_mnist_7f14d_00007</td><td>TERMINATED</td><td>               </td><td style=\"text-align: right;\">      52</td><td style=\"text-align: right;\">0.0991786</td><td style=\"text-align: right;\">  0.799609</td><td style=\"text-align: right;\">0.965033</td><td style=\"text-align: right;\">    12</td><td style=\"text-align: right;\">        17.4495 </td></tr>\n",
              "</tbody>\n",
              "</table><br><br>"
            ],
            "text/plain": [
              "<IPython.core.display.HTML object>"
            ]
          },
          "metadata": {
            "tags": []
          }
        },
        {
          "output_type": "stream",
          "text": [
            "Result for train_mnist_7f14d_00008:\n",
            "  date: 2021-03-29_21-03-45\n",
            "  done: false\n",
            "  experiment_id: 383ccbb3718646ddad2f80b6078e60bd\n",
            "  hostname: 82eedec80e15\n",
            "  iterations_since_restore: 9\n",
            "  mean_accuracy: 0.9548166394233704\n",
            "  node_ip: 172.28.0.2\n",
            "  pid: 5373\n",
            "  time_since_restore: 13.643930673599243\n",
            "  time_this_iter_s: 1.3021345138549805\n",
            "  time_total_s: 13.643930673599243\n",
            "  timestamp: 1617051825\n",
            "  timesteps_since_restore: 0\n",
            "  training_iteration: 9\n",
            "  trial_id: 7f14d_00008\n",
            "  \n"
          ],
          "name": "stdout"
        },
        {
          "output_type": "display_data",
          "data": {
            "text/html": [
              "== Status ==<br>Memory usage on this node: 2.0/12.7 GiB<br>Using AsyncHyperBand: num_stopped=0\n",
              "Bracket: Iter 320.000: None | Iter 80.000: None | Iter 20.000: None<br>Resources requested: 2/2 CPUs, 0/0 GPUs, 0.0/7.52 GiB heap, 0.0/2.59 GiB objects<br>Current best trial: 7f14d_00003 with mean_accuracy=0.9900166392326355 and parameters={'threads': 2, 'lr': 0.09694874184722062, 'momentum': 0.8807830251886724, 'hidden': 349}<br>Result logdir: /root/ray_results/exp<br>Number of trials: 10/10 (1 PENDING, 1 RUNNING, 8 TERMINATED)<br><table>\n",
              "<thead>\n",
              "<tr><th>Trial name             </th><th>status    </th><th>loc            </th><th style=\"text-align: right;\">  hidden</th><th style=\"text-align: right;\">       lr</th><th style=\"text-align: right;\">  momentum</th><th style=\"text-align: right;\">     acc</th><th style=\"text-align: right;\">  iter</th><th style=\"text-align: right;\">  total time (s)</th></tr>\n",
              "</thead>\n",
              "<tbody>\n",
              "<tr><td>train_mnist_7f14d_00008</td><td>RUNNING   </td><td>172.28.0.2:5373</td><td style=\"text-align: right;\">      57</td><td style=\"text-align: right;\">0.0473355</td><td style=\"text-align: right;\">  0.613397</td><td style=\"text-align: right;\">0.954817</td><td style=\"text-align: right;\">     9</td><td style=\"text-align: right;\">         13.6439</td></tr>\n",
              "<tr><td>train_mnist_7f14d_00009</td><td>PENDING   </td><td>               </td><td style=\"text-align: right;\">     166</td><td style=\"text-align: right;\">0.0984966</td><td style=\"text-align: right;\">  0.674162</td><td style=\"text-align: right;\">        </td><td style=\"text-align: right;\">      </td><td style=\"text-align: right;\">                </td></tr>\n",
              "<tr><td>train_mnist_7f14d_00000</td><td>TERMINATED</td><td>               </td><td style=\"text-align: right;\">     214</td><td style=\"text-align: right;\">0.0352817</td><td style=\"text-align: right;\">  0.787862</td><td style=\"text-align: right;\">0.980483</td><td style=\"text-align: right;\">    12</td><td style=\"text-align: right;\">         30.5803</td></tr>\n",
              "<tr><td>train_mnist_7f14d_00001</td><td>TERMINATED</td><td>               </td><td style=\"text-align: right;\">     122</td><td style=\"text-align: right;\">0.0865463</td><td style=\"text-align: right;\">  0.686742</td><td style=\"text-align: right;\">0.979483</td><td style=\"text-align: right;\">    12</td><td style=\"text-align: right;\">         22.844 </td></tr>\n",
              "<tr><td>train_mnist_7f14d_00002</td><td>TERMINATED</td><td>               </td><td style=\"text-align: right;\">     481</td><td style=\"text-align: right;\">0.012584 </td><td style=\"text-align: right;\">  0.278352</td><td style=\"text-align: right;\">0.937917</td><td style=\"text-align: right;\">    12</td><td style=\"text-align: right;\">         47.2769</td></tr>\n",
              "<tr><td>train_mnist_7f14d_00003</td><td>TERMINATED</td><td>               </td><td style=\"text-align: right;\">     349</td><td style=\"text-align: right;\">0.0969487</td><td style=\"text-align: right;\">  0.880783</td><td style=\"text-align: right;\">0.990017</td><td style=\"text-align: right;\">     9</td><td style=\"text-align: right;\">         29.691 </td></tr>\n",
              "<tr><td>train_mnist_7f14d_00004</td><td>TERMINATED</td><td>               </td><td style=\"text-align: right;\">     490</td><td style=\"text-align: right;\">0.0562747</td><td style=\"text-align: right;\">  0.18449 </td><td style=\"text-align: right;\">0.971917</td><td style=\"text-align: right;\">    12</td><td style=\"text-align: right;\">         47.7958</td></tr>\n",
              "<tr><td>train_mnist_7f14d_00005</td><td>TERMINATED</td><td>               </td><td style=\"text-align: right;\">     370</td><td style=\"text-align: right;\">0.0641523</td><td style=\"text-align: right;\">  0.336615</td><td style=\"text-align: right;\">0.975517</td><td style=\"text-align: right;\">    12</td><td style=\"text-align: right;\">         40.1471</td></tr>\n",
              "<tr><td>train_mnist_7f14d_00006</td><td>TERMINATED</td><td>               </td><td style=\"text-align: right;\">     490</td><td style=\"text-align: right;\">0.0740172</td><td style=\"text-align: right;\">  0.266777</td><td style=\"text-align: right;\">0.977767</td><td style=\"text-align: right;\">    12</td><td style=\"text-align: right;\">         49.097 </td></tr>\n",
              "<tr><td>train_mnist_7f14d_00007</td><td>TERMINATED</td><td>               </td><td style=\"text-align: right;\">      52</td><td style=\"text-align: right;\">0.0991786</td><td style=\"text-align: right;\">  0.799609</td><td style=\"text-align: right;\">0.965033</td><td style=\"text-align: right;\">    12</td><td style=\"text-align: right;\">         17.4495</td></tr>\n",
              "</tbody>\n",
              "</table><br><br>"
            ],
            "text/plain": [
              "<IPython.core.display.HTML object>"
            ]
          },
          "metadata": {
            "tags": []
          }
        },
        {
          "output_type": "stream",
          "text": [
            "Result for train_mnist_7f14d_00008:\n",
            "  date: 2021-03-29_21-03-48\n",
            "  done: true\n",
            "  experiment_id: 383ccbb3718646ddad2f80b6078e60bd\n",
            "  experiment_tag: 8_hidden=57,lr=0.047335,momentum=0.6134\n",
            "  hostname: 82eedec80e15\n",
            "  iterations_since_restore: 12\n",
            "  mean_accuracy: 0.9594166874885559\n",
            "  node_ip: 172.28.0.2\n",
            "  pid: 5373\n",
            "  time_since_restore: 17.429354190826416\n",
            "  time_this_iter_s: 1.2119083404541016\n",
            "  time_total_s: 17.429354190826416\n",
            "  timestamp: 1617051828\n",
            "  timesteps_since_restore: 0\n",
            "  training_iteration: 12\n",
            "  trial_id: 7f14d_00008\n",
            "  \n"
          ],
          "name": "stdout"
        },
        {
          "output_type": "stream",
          "text": [
            "\u001b[2m\u001b[36m(pid=5443)\u001b[0m 2021-03-29 21:03:49.933268: I tensorflow/stream_executor/platform/default/dso_loader.cc:49] Successfully opened dynamic library libcudart.so.11.0\n",
            "\u001b[2m\u001b[36m(pid=5443)\u001b[0m 2021-03-29 21:03:49.933268: I tensorflow/stream_executor/platform/default/dso_loader.cc:49] Successfully opened dynamic library libcudart.so.11.0\n",
            "\u001b[2m\u001b[36m(pid=5443)\u001b[0m 2021-03-29 21:03:52.180912: I tensorflow/compiler/jit/xla_cpu_device.cc:41] Not creating XLA devices, tf_xla_enable_xla_devices not set\n",
            "\u001b[2m\u001b[36m(pid=5443)\u001b[0m 2021-03-29 21:03:52.182014: I tensorflow/stream_executor/platform/default/dso_loader.cc:49] Successfully opened dynamic library libcuda.so.1\n",
            "\u001b[2m\u001b[36m(pid=5443)\u001b[0m 2021-03-29 21:03:52.193352: E tensorflow/stream_executor/cuda/cuda_driver.cc:328] failed call to cuInit: CUDA_ERROR_NO_DEVICE: no CUDA-capable device is detected\n",
            "\u001b[2m\u001b[36m(pid=5443)\u001b[0m 2021-03-29 21:03:52.193426: I tensorflow/stream_executor/cuda/cuda_diagnostics.cc:156] kernel driver does not appear to be running on this host (82eedec80e15): /proc/driver/nvidia/version does not exist\n",
            "\u001b[2m\u001b[36m(pid=5443)\u001b[0m 2021-03-29 21:03:52.194171: I tensorflow/compiler/jit/xla_gpu_device.cc:99] Not creating XLA devices, tf_xla_enable_xla_devices not set\n",
            "\u001b[2m\u001b[36m(pid=5443)\u001b[0m 2021-03-29 21:03:52.180912: I tensorflow/compiler/jit/xla_cpu_device.cc:41] Not creating XLA devices, tf_xla_enable_xla_devices not set\n",
            "\u001b[2m\u001b[36m(pid=5443)\u001b[0m 2021-03-29 21:03:52.182014: I tensorflow/stream_executor/platform/default/dso_loader.cc:49] Successfully opened dynamic library libcuda.so.1\n",
            "\u001b[2m\u001b[36m(pid=5443)\u001b[0m 2021-03-29 21:03:52.193352: E tensorflow/stream_executor/cuda/cuda_driver.cc:328] failed call to cuInit: CUDA_ERROR_NO_DEVICE: no CUDA-capable device is detected\n",
            "\u001b[2m\u001b[36m(pid=5443)\u001b[0m 2021-03-29 21:03:52.193426: I tensorflow/stream_executor/cuda/cuda_diagnostics.cc:156] kernel driver does not appear to be running on this host (82eedec80e15): /proc/driver/nvidia/version does not exist\n",
            "\u001b[2m\u001b[36m(pid=5443)\u001b[0m 2021-03-29 21:03:52.194171: I tensorflow/compiler/jit/xla_gpu_device.cc:99] Not creating XLA devices, tf_xla_enable_xla_devices not set\n",
            "\u001b[2m\u001b[36m(pid=5443)\u001b[0m 2021-03-29 21:03:52.520738: I tensorflow/compiler/mlir/mlir_graph_optimization_pass.cc:116] None of the MLIR optimization passes are enabled (registered 2)\n",
            "\u001b[2m\u001b[36m(pid=5443)\u001b[0m 2021-03-29 21:03:52.521334: I tensorflow/core/platform/profile_utils/cpu_utils.cc:112] CPU Frequency: 2200150000 Hz\n",
            "\u001b[2m\u001b[36m(pid=5443)\u001b[0m 2021-03-29 21:03:52.520738: I tensorflow/compiler/mlir/mlir_graph_optimization_pass.cc:116] None of the MLIR optimization passes are enabled (registered 2)\n",
            "\u001b[2m\u001b[36m(pid=5443)\u001b[0m 2021-03-29 21:03:52.521334: I tensorflow/core/platform/profile_utils/cpu_utils.cc:112] CPU Frequency: 2200150000 Hz\n"
          ],
          "name": "stderr"
        },
        {
          "output_type": "stream",
          "text": [
            "Result for train_mnist_7f14d_00009:\n",
            "  date: 2021-03-29_21-03-55\n",
            "  done: false\n",
            "  experiment_id: f85ba8ee8ae040b68f61055e251516e0\n",
            "  hostname: 82eedec80e15\n",
            "  iterations_since_restore: 1\n",
            "  mean_accuracy: 0.8963666558265686\n",
            "  node_ip: 172.28.0.2\n",
            "  pid: 5443\n",
            "  time_since_restore: 3.9655463695526123\n",
            "  time_this_iter_s: 3.9655463695526123\n",
            "  time_total_s: 3.9655463695526123\n",
            "  timestamp: 1617051835\n",
            "  timesteps_since_restore: 0\n",
            "  training_iteration: 1\n",
            "  trial_id: 7f14d_00009\n",
            "  \n"
          ],
          "name": "stdout"
        },
        {
          "output_type": "display_data",
          "data": {
            "text/html": [
              "== Status ==<br>Memory usage on this node: 2.0/12.7 GiB<br>Using AsyncHyperBand: num_stopped=0\n",
              "Bracket: Iter 320.000: None | Iter 80.000: None | Iter 20.000: None<br>Resources requested: 2/2 CPUs, 0/0 GPUs, 0.0/7.52 GiB heap, 0.0/2.59 GiB objects<br>Current best trial: 7f14d_00003 with mean_accuracy=0.9900166392326355 and parameters={'threads': 2, 'lr': 0.09694874184722062, 'momentum': 0.8807830251886724, 'hidden': 349}<br>Result logdir: /root/ray_results/exp<br>Number of trials: 10/10 (1 RUNNING, 9 TERMINATED)<br><table>\n",
              "<thead>\n",
              "<tr><th>Trial name             </th><th>status    </th><th>loc            </th><th style=\"text-align: right;\">  hidden</th><th style=\"text-align: right;\">       lr</th><th style=\"text-align: right;\">  momentum</th><th style=\"text-align: right;\">     acc</th><th style=\"text-align: right;\">  iter</th><th style=\"text-align: right;\">  total time (s)</th></tr>\n",
              "</thead>\n",
              "<tbody>\n",
              "<tr><td>train_mnist_7f14d_00009</td><td>RUNNING   </td><td>172.28.0.2:5443</td><td style=\"text-align: right;\">     166</td><td style=\"text-align: right;\">0.0984966</td><td style=\"text-align: right;\">  0.674162</td><td style=\"text-align: right;\">0.896367</td><td style=\"text-align: right;\">     1</td><td style=\"text-align: right;\">         3.96555</td></tr>\n",
              "<tr><td>train_mnist_7f14d_00000</td><td>TERMINATED</td><td>               </td><td style=\"text-align: right;\">     214</td><td style=\"text-align: right;\">0.0352817</td><td style=\"text-align: right;\">  0.787862</td><td style=\"text-align: right;\">0.980483</td><td style=\"text-align: right;\">    12</td><td style=\"text-align: right;\">        30.5803 </td></tr>\n",
              "<tr><td>train_mnist_7f14d_00001</td><td>TERMINATED</td><td>               </td><td style=\"text-align: right;\">     122</td><td style=\"text-align: right;\">0.0865463</td><td style=\"text-align: right;\">  0.686742</td><td style=\"text-align: right;\">0.979483</td><td style=\"text-align: right;\">    12</td><td style=\"text-align: right;\">        22.844  </td></tr>\n",
              "<tr><td>train_mnist_7f14d_00002</td><td>TERMINATED</td><td>               </td><td style=\"text-align: right;\">     481</td><td style=\"text-align: right;\">0.012584 </td><td style=\"text-align: right;\">  0.278352</td><td style=\"text-align: right;\">0.937917</td><td style=\"text-align: right;\">    12</td><td style=\"text-align: right;\">        47.2769 </td></tr>\n",
              "<tr><td>train_mnist_7f14d_00003</td><td>TERMINATED</td><td>               </td><td style=\"text-align: right;\">     349</td><td style=\"text-align: right;\">0.0969487</td><td style=\"text-align: right;\">  0.880783</td><td style=\"text-align: right;\">0.990017</td><td style=\"text-align: right;\">     9</td><td style=\"text-align: right;\">        29.691  </td></tr>\n",
              "<tr><td>train_mnist_7f14d_00004</td><td>TERMINATED</td><td>               </td><td style=\"text-align: right;\">     490</td><td style=\"text-align: right;\">0.0562747</td><td style=\"text-align: right;\">  0.18449 </td><td style=\"text-align: right;\">0.971917</td><td style=\"text-align: right;\">    12</td><td style=\"text-align: right;\">        47.7958 </td></tr>\n",
              "<tr><td>train_mnist_7f14d_00005</td><td>TERMINATED</td><td>               </td><td style=\"text-align: right;\">     370</td><td style=\"text-align: right;\">0.0641523</td><td style=\"text-align: right;\">  0.336615</td><td style=\"text-align: right;\">0.975517</td><td style=\"text-align: right;\">    12</td><td style=\"text-align: right;\">        40.1471 </td></tr>\n",
              "<tr><td>train_mnist_7f14d_00006</td><td>TERMINATED</td><td>               </td><td style=\"text-align: right;\">     490</td><td style=\"text-align: right;\">0.0740172</td><td style=\"text-align: right;\">  0.266777</td><td style=\"text-align: right;\">0.977767</td><td style=\"text-align: right;\">    12</td><td style=\"text-align: right;\">        49.097  </td></tr>\n",
              "<tr><td>train_mnist_7f14d_00007</td><td>TERMINATED</td><td>               </td><td style=\"text-align: right;\">      52</td><td style=\"text-align: right;\">0.0991786</td><td style=\"text-align: right;\">  0.799609</td><td style=\"text-align: right;\">0.965033</td><td style=\"text-align: right;\">    12</td><td style=\"text-align: right;\">        17.4495 </td></tr>\n",
              "<tr><td>train_mnist_7f14d_00008</td><td>TERMINATED</td><td>               </td><td style=\"text-align: right;\">      57</td><td style=\"text-align: right;\">0.0473355</td><td style=\"text-align: right;\">  0.613397</td><td style=\"text-align: right;\">0.959417</td><td style=\"text-align: right;\">    12</td><td style=\"text-align: right;\">        17.4294 </td></tr>\n",
              "</tbody>\n",
              "</table><br><br>"
            ],
            "text/plain": [
              "<IPython.core.display.HTML object>"
            ]
          },
          "metadata": {
            "tags": []
          }
        },
        {
          "output_type": "stream",
          "text": [
            "Result for train_mnist_7f14d_00009:\n",
            "  date: 2021-03-29_21-04-02\n",
            "  done: false\n",
            "  experiment_id: f85ba8ee8ae040b68f61055e251516e0\n",
            "  hostname: 82eedec80e15\n",
            "  iterations_since_restore: 4\n",
            "  mean_accuracy: 0.9668833613395691\n",
            "  node_ip: 172.28.0.2\n",
            "  pid: 5443\n",
            "  time_since_restore: 10.553200483322144\n",
            "  time_this_iter_s: 2.2278006076812744\n",
            "  time_total_s: 10.553200483322144\n",
            "  timestamp: 1617051842\n",
            "  timesteps_since_restore: 0\n",
            "  training_iteration: 4\n",
            "  trial_id: 7f14d_00009\n",
            "  \n"
          ],
          "name": "stdout"
        },
        {
          "output_type": "display_data",
          "data": {
            "text/html": [
              "== Status ==<br>Memory usage on this node: 2.0/12.7 GiB<br>Using AsyncHyperBand: num_stopped=0\n",
              "Bracket: Iter 320.000: None | Iter 80.000: None | Iter 20.000: None<br>Resources requested: 2/2 CPUs, 0/0 GPUs, 0.0/7.52 GiB heap, 0.0/2.59 GiB objects<br>Current best trial: 7f14d_00003 with mean_accuracy=0.9900166392326355 and parameters={'threads': 2, 'lr': 0.09694874184722062, 'momentum': 0.8807830251886724, 'hidden': 349}<br>Result logdir: /root/ray_results/exp<br>Number of trials: 10/10 (1 RUNNING, 9 TERMINATED)<br><table>\n",
              "<thead>\n",
              "<tr><th>Trial name             </th><th>status    </th><th>loc            </th><th style=\"text-align: right;\">  hidden</th><th style=\"text-align: right;\">       lr</th><th style=\"text-align: right;\">  momentum</th><th style=\"text-align: right;\">     acc</th><th style=\"text-align: right;\">  iter</th><th style=\"text-align: right;\">  total time (s)</th></tr>\n",
              "</thead>\n",
              "<tbody>\n",
              "<tr><td>train_mnist_7f14d_00009</td><td>RUNNING   </td><td>172.28.0.2:5443</td><td style=\"text-align: right;\">     166</td><td style=\"text-align: right;\">0.0984966</td><td style=\"text-align: right;\">  0.674162</td><td style=\"text-align: right;\">0.966883</td><td style=\"text-align: right;\">     4</td><td style=\"text-align: right;\">         10.5532</td></tr>\n",
              "<tr><td>train_mnist_7f14d_00000</td><td>TERMINATED</td><td>               </td><td style=\"text-align: right;\">     214</td><td style=\"text-align: right;\">0.0352817</td><td style=\"text-align: right;\">  0.787862</td><td style=\"text-align: right;\">0.980483</td><td style=\"text-align: right;\">    12</td><td style=\"text-align: right;\">         30.5803</td></tr>\n",
              "<tr><td>train_mnist_7f14d_00001</td><td>TERMINATED</td><td>               </td><td style=\"text-align: right;\">     122</td><td style=\"text-align: right;\">0.0865463</td><td style=\"text-align: right;\">  0.686742</td><td style=\"text-align: right;\">0.979483</td><td style=\"text-align: right;\">    12</td><td style=\"text-align: right;\">         22.844 </td></tr>\n",
              "<tr><td>train_mnist_7f14d_00002</td><td>TERMINATED</td><td>               </td><td style=\"text-align: right;\">     481</td><td style=\"text-align: right;\">0.012584 </td><td style=\"text-align: right;\">  0.278352</td><td style=\"text-align: right;\">0.937917</td><td style=\"text-align: right;\">    12</td><td style=\"text-align: right;\">         47.2769</td></tr>\n",
              "<tr><td>train_mnist_7f14d_00003</td><td>TERMINATED</td><td>               </td><td style=\"text-align: right;\">     349</td><td style=\"text-align: right;\">0.0969487</td><td style=\"text-align: right;\">  0.880783</td><td style=\"text-align: right;\">0.990017</td><td style=\"text-align: right;\">     9</td><td style=\"text-align: right;\">         29.691 </td></tr>\n",
              "<tr><td>train_mnist_7f14d_00004</td><td>TERMINATED</td><td>               </td><td style=\"text-align: right;\">     490</td><td style=\"text-align: right;\">0.0562747</td><td style=\"text-align: right;\">  0.18449 </td><td style=\"text-align: right;\">0.971917</td><td style=\"text-align: right;\">    12</td><td style=\"text-align: right;\">         47.7958</td></tr>\n",
              "<tr><td>train_mnist_7f14d_00005</td><td>TERMINATED</td><td>               </td><td style=\"text-align: right;\">     370</td><td style=\"text-align: right;\">0.0641523</td><td style=\"text-align: right;\">  0.336615</td><td style=\"text-align: right;\">0.975517</td><td style=\"text-align: right;\">    12</td><td style=\"text-align: right;\">         40.1471</td></tr>\n",
              "<tr><td>train_mnist_7f14d_00006</td><td>TERMINATED</td><td>               </td><td style=\"text-align: right;\">     490</td><td style=\"text-align: right;\">0.0740172</td><td style=\"text-align: right;\">  0.266777</td><td style=\"text-align: right;\">0.977767</td><td style=\"text-align: right;\">    12</td><td style=\"text-align: right;\">         49.097 </td></tr>\n",
              "<tr><td>train_mnist_7f14d_00007</td><td>TERMINATED</td><td>               </td><td style=\"text-align: right;\">      52</td><td style=\"text-align: right;\">0.0991786</td><td style=\"text-align: right;\">  0.799609</td><td style=\"text-align: right;\">0.965033</td><td style=\"text-align: right;\">    12</td><td style=\"text-align: right;\">         17.4495</td></tr>\n",
              "<tr><td>train_mnist_7f14d_00008</td><td>TERMINATED</td><td>               </td><td style=\"text-align: right;\">      57</td><td style=\"text-align: right;\">0.0473355</td><td style=\"text-align: right;\">  0.613397</td><td style=\"text-align: right;\">0.959417</td><td style=\"text-align: right;\">    12</td><td style=\"text-align: right;\">         17.4294</td></tr>\n",
              "</tbody>\n",
              "</table><br><br>"
            ],
            "text/plain": [
              "<IPython.core.display.HTML object>"
            ]
          },
          "metadata": {
            "tags": []
          }
        },
        {
          "output_type": "stream",
          "text": [
            "Result for train_mnist_7f14d_00009:\n",
            "  date: 2021-03-29_21-04-08\n",
            "  done: false\n",
            "  experiment_id: f85ba8ee8ae040b68f61055e251516e0\n",
            "  hostname: 82eedec80e15\n",
            "  iterations_since_restore: 7\n",
            "  mean_accuracy: 0.9768333435058594\n",
            "  node_ip: 172.28.0.2\n",
            "  pid: 5443\n",
            "  time_since_restore: 17.05149245262146\n",
            "  time_this_iter_s: 2.1064083576202393\n",
            "  time_total_s: 17.05149245262146\n",
            "  timestamp: 1617051848\n",
            "  timesteps_since_restore: 0\n",
            "  training_iteration: 7\n",
            "  trial_id: 7f14d_00009\n",
            "  \n"
          ],
          "name": "stdout"
        },
        {
          "output_type": "display_data",
          "data": {
            "text/html": [
              "== Status ==<br>Memory usage on this node: 2.0/12.7 GiB<br>Using AsyncHyperBand: num_stopped=0\n",
              "Bracket: Iter 320.000: None | Iter 80.000: None | Iter 20.000: None<br>Resources requested: 2/2 CPUs, 0/0 GPUs, 0.0/7.52 GiB heap, 0.0/2.59 GiB objects<br>Current best trial: 7f14d_00003 with mean_accuracy=0.9900166392326355 and parameters={'threads': 2, 'lr': 0.09694874184722062, 'momentum': 0.8807830251886724, 'hidden': 349}<br>Result logdir: /root/ray_results/exp<br>Number of trials: 10/10 (1 RUNNING, 9 TERMINATED)<br><table>\n",
              "<thead>\n",
              "<tr><th>Trial name             </th><th>status    </th><th>loc            </th><th style=\"text-align: right;\">  hidden</th><th style=\"text-align: right;\">       lr</th><th style=\"text-align: right;\">  momentum</th><th style=\"text-align: right;\">     acc</th><th style=\"text-align: right;\">  iter</th><th style=\"text-align: right;\">  total time (s)</th></tr>\n",
              "</thead>\n",
              "<tbody>\n",
              "<tr><td>train_mnist_7f14d_00009</td><td>RUNNING   </td><td>172.28.0.2:5443</td><td style=\"text-align: right;\">     166</td><td style=\"text-align: right;\">0.0984966</td><td style=\"text-align: right;\">  0.674162</td><td style=\"text-align: right;\">0.976833</td><td style=\"text-align: right;\">     7</td><td style=\"text-align: right;\">         17.0515</td></tr>\n",
              "<tr><td>train_mnist_7f14d_00000</td><td>TERMINATED</td><td>               </td><td style=\"text-align: right;\">     214</td><td style=\"text-align: right;\">0.0352817</td><td style=\"text-align: right;\">  0.787862</td><td style=\"text-align: right;\">0.980483</td><td style=\"text-align: right;\">    12</td><td style=\"text-align: right;\">         30.5803</td></tr>\n",
              "<tr><td>train_mnist_7f14d_00001</td><td>TERMINATED</td><td>               </td><td style=\"text-align: right;\">     122</td><td style=\"text-align: right;\">0.0865463</td><td style=\"text-align: right;\">  0.686742</td><td style=\"text-align: right;\">0.979483</td><td style=\"text-align: right;\">    12</td><td style=\"text-align: right;\">         22.844 </td></tr>\n",
              "<tr><td>train_mnist_7f14d_00002</td><td>TERMINATED</td><td>               </td><td style=\"text-align: right;\">     481</td><td style=\"text-align: right;\">0.012584 </td><td style=\"text-align: right;\">  0.278352</td><td style=\"text-align: right;\">0.937917</td><td style=\"text-align: right;\">    12</td><td style=\"text-align: right;\">         47.2769</td></tr>\n",
              "<tr><td>train_mnist_7f14d_00003</td><td>TERMINATED</td><td>               </td><td style=\"text-align: right;\">     349</td><td style=\"text-align: right;\">0.0969487</td><td style=\"text-align: right;\">  0.880783</td><td style=\"text-align: right;\">0.990017</td><td style=\"text-align: right;\">     9</td><td style=\"text-align: right;\">         29.691 </td></tr>\n",
              "<tr><td>train_mnist_7f14d_00004</td><td>TERMINATED</td><td>               </td><td style=\"text-align: right;\">     490</td><td style=\"text-align: right;\">0.0562747</td><td style=\"text-align: right;\">  0.18449 </td><td style=\"text-align: right;\">0.971917</td><td style=\"text-align: right;\">    12</td><td style=\"text-align: right;\">         47.7958</td></tr>\n",
              "<tr><td>train_mnist_7f14d_00005</td><td>TERMINATED</td><td>               </td><td style=\"text-align: right;\">     370</td><td style=\"text-align: right;\">0.0641523</td><td style=\"text-align: right;\">  0.336615</td><td style=\"text-align: right;\">0.975517</td><td style=\"text-align: right;\">    12</td><td style=\"text-align: right;\">         40.1471</td></tr>\n",
              "<tr><td>train_mnist_7f14d_00006</td><td>TERMINATED</td><td>               </td><td style=\"text-align: right;\">     490</td><td style=\"text-align: right;\">0.0740172</td><td style=\"text-align: right;\">  0.266777</td><td style=\"text-align: right;\">0.977767</td><td style=\"text-align: right;\">    12</td><td style=\"text-align: right;\">         49.097 </td></tr>\n",
              "<tr><td>train_mnist_7f14d_00007</td><td>TERMINATED</td><td>               </td><td style=\"text-align: right;\">      52</td><td style=\"text-align: right;\">0.0991786</td><td style=\"text-align: right;\">  0.799609</td><td style=\"text-align: right;\">0.965033</td><td style=\"text-align: right;\">    12</td><td style=\"text-align: right;\">         17.4495</td></tr>\n",
              "<tr><td>train_mnist_7f14d_00008</td><td>TERMINATED</td><td>               </td><td style=\"text-align: right;\">      57</td><td style=\"text-align: right;\">0.0473355</td><td style=\"text-align: right;\">  0.613397</td><td style=\"text-align: right;\">0.959417</td><td style=\"text-align: right;\">    12</td><td style=\"text-align: right;\">         17.4294</td></tr>\n",
              "</tbody>\n",
              "</table><br><br>"
            ],
            "text/plain": [
              "<IPython.core.display.HTML object>"
            ]
          },
          "metadata": {
            "tags": []
          }
        },
        {
          "output_type": "stream",
          "text": [
            "Result for train_mnist_7f14d_00009:\n",
            "  date: 2021-03-29_21-04-14\n",
            "  done: false\n",
            "  experiment_id: f85ba8ee8ae040b68f61055e251516e0\n",
            "  hostname: 82eedec80e15\n",
            "  iterations_since_restore: 10\n",
            "  mean_accuracy: 0.9815666675567627\n",
            "  node_ip: 172.28.0.2\n",
            "  pid: 5443\n",
            "  time_since_restore: 23.432929754257202\n",
            "  time_this_iter_s: 2.1371235847473145\n",
            "  time_total_s: 23.432929754257202\n",
            "  timestamp: 1617051854\n",
            "  timesteps_since_restore: 0\n",
            "  training_iteration: 10\n",
            "  trial_id: 7f14d_00009\n",
            "  \n"
          ],
          "name": "stdout"
        },
        {
          "output_type": "display_data",
          "data": {
            "text/html": [
              "== Status ==<br>Memory usage on this node: 2.0/12.7 GiB<br>Using AsyncHyperBand: num_stopped=0\n",
              "Bracket: Iter 320.000: None | Iter 80.000: None | Iter 20.000: None<br>Resources requested: 2/2 CPUs, 0/0 GPUs, 0.0/7.52 GiB heap, 0.0/2.59 GiB objects<br>Current best trial: 7f14d_00003 with mean_accuracy=0.9900166392326355 and parameters={'threads': 2, 'lr': 0.09694874184722062, 'momentum': 0.8807830251886724, 'hidden': 349}<br>Result logdir: /root/ray_results/exp<br>Number of trials: 10/10 (1 RUNNING, 9 TERMINATED)<br><table>\n",
              "<thead>\n",
              "<tr><th>Trial name             </th><th>status    </th><th>loc            </th><th style=\"text-align: right;\">  hidden</th><th style=\"text-align: right;\">       lr</th><th style=\"text-align: right;\">  momentum</th><th style=\"text-align: right;\">     acc</th><th style=\"text-align: right;\">  iter</th><th style=\"text-align: right;\">  total time (s)</th></tr>\n",
              "</thead>\n",
              "<tbody>\n",
              "<tr><td>train_mnist_7f14d_00009</td><td>RUNNING   </td><td>172.28.0.2:5443</td><td style=\"text-align: right;\">     166</td><td style=\"text-align: right;\">0.0984966</td><td style=\"text-align: right;\">  0.674162</td><td style=\"text-align: right;\">0.981567</td><td style=\"text-align: right;\">    10</td><td style=\"text-align: right;\">         23.4329</td></tr>\n",
              "<tr><td>train_mnist_7f14d_00000</td><td>TERMINATED</td><td>               </td><td style=\"text-align: right;\">     214</td><td style=\"text-align: right;\">0.0352817</td><td style=\"text-align: right;\">  0.787862</td><td style=\"text-align: right;\">0.980483</td><td style=\"text-align: right;\">    12</td><td style=\"text-align: right;\">         30.5803</td></tr>\n",
              "<tr><td>train_mnist_7f14d_00001</td><td>TERMINATED</td><td>               </td><td style=\"text-align: right;\">     122</td><td style=\"text-align: right;\">0.0865463</td><td style=\"text-align: right;\">  0.686742</td><td style=\"text-align: right;\">0.979483</td><td style=\"text-align: right;\">    12</td><td style=\"text-align: right;\">         22.844 </td></tr>\n",
              "<tr><td>train_mnist_7f14d_00002</td><td>TERMINATED</td><td>               </td><td style=\"text-align: right;\">     481</td><td style=\"text-align: right;\">0.012584 </td><td style=\"text-align: right;\">  0.278352</td><td style=\"text-align: right;\">0.937917</td><td style=\"text-align: right;\">    12</td><td style=\"text-align: right;\">         47.2769</td></tr>\n",
              "<tr><td>train_mnist_7f14d_00003</td><td>TERMINATED</td><td>               </td><td style=\"text-align: right;\">     349</td><td style=\"text-align: right;\">0.0969487</td><td style=\"text-align: right;\">  0.880783</td><td style=\"text-align: right;\">0.990017</td><td style=\"text-align: right;\">     9</td><td style=\"text-align: right;\">         29.691 </td></tr>\n",
              "<tr><td>train_mnist_7f14d_00004</td><td>TERMINATED</td><td>               </td><td style=\"text-align: right;\">     490</td><td style=\"text-align: right;\">0.0562747</td><td style=\"text-align: right;\">  0.18449 </td><td style=\"text-align: right;\">0.971917</td><td style=\"text-align: right;\">    12</td><td style=\"text-align: right;\">         47.7958</td></tr>\n",
              "<tr><td>train_mnist_7f14d_00005</td><td>TERMINATED</td><td>               </td><td style=\"text-align: right;\">     370</td><td style=\"text-align: right;\">0.0641523</td><td style=\"text-align: right;\">  0.336615</td><td style=\"text-align: right;\">0.975517</td><td style=\"text-align: right;\">    12</td><td style=\"text-align: right;\">         40.1471</td></tr>\n",
              "<tr><td>train_mnist_7f14d_00006</td><td>TERMINATED</td><td>               </td><td style=\"text-align: right;\">     490</td><td style=\"text-align: right;\">0.0740172</td><td style=\"text-align: right;\">  0.266777</td><td style=\"text-align: right;\">0.977767</td><td style=\"text-align: right;\">    12</td><td style=\"text-align: right;\">         49.097 </td></tr>\n",
              "<tr><td>train_mnist_7f14d_00007</td><td>TERMINATED</td><td>               </td><td style=\"text-align: right;\">      52</td><td style=\"text-align: right;\">0.0991786</td><td style=\"text-align: right;\">  0.799609</td><td style=\"text-align: right;\">0.965033</td><td style=\"text-align: right;\">    12</td><td style=\"text-align: right;\">         17.4495</td></tr>\n",
              "<tr><td>train_mnist_7f14d_00008</td><td>TERMINATED</td><td>               </td><td style=\"text-align: right;\">      57</td><td style=\"text-align: right;\">0.0473355</td><td style=\"text-align: right;\">  0.613397</td><td style=\"text-align: right;\">0.959417</td><td style=\"text-align: right;\">    12</td><td style=\"text-align: right;\">         17.4294</td></tr>\n",
              "</tbody>\n",
              "</table><br><br>"
            ],
            "text/plain": [
              "<IPython.core.display.HTML object>"
            ]
          },
          "metadata": {
            "tags": []
          }
        },
        {
          "output_type": "stream",
          "text": [
            "Result for train_mnist_7f14d_00009:\n",
            "  date: 2021-03-29_21-04-19\n",
            "  done: true\n",
            "  experiment_id: f85ba8ee8ae040b68f61055e251516e0\n",
            "  experiment_tag: 9_hidden=166,lr=0.098497,momentum=0.67416\n",
            "  hostname: 82eedec80e15\n",
            "  iterations_since_restore: 12\n",
            "  mean_accuracy: 0.9837499856948853\n",
            "  node_ip: 172.28.0.2\n",
            "  pid: 5443\n",
            "  time_since_restore: 27.607826232910156\n",
            "  time_this_iter_s: 2.0735113620758057\n",
            "  time_total_s: 27.607826232910156\n",
            "  timestamp: 1617051859\n",
            "  timesteps_since_restore: 0\n",
            "  training_iteration: 12\n",
            "  trial_id: 7f14d_00009\n",
            "  \n"
          ],
          "name": "stdout"
        },
        {
          "output_type": "display_data",
          "data": {
            "text/html": [
              "== Status ==<br>Memory usage on this node: 1.6/12.7 GiB<br>Using AsyncHyperBand: num_stopped=0\n",
              "Bracket: Iter 320.000: None | Iter 80.000: None | Iter 20.000: None<br>Resources requested: 0/2 CPUs, 0/0 GPUs, 0.0/7.52 GiB heap, 0.0/2.59 GiB objects<br>Current best trial: 7f14d_00003 with mean_accuracy=0.9900166392326355 and parameters={'threads': 2, 'lr': 0.09694874184722062, 'momentum': 0.8807830251886724, 'hidden': 349}<br>Result logdir: /root/ray_results/exp<br>Number of trials: 10/10 (10 TERMINATED)<br><table>\n",
              "<thead>\n",
              "<tr><th>Trial name             </th><th>status    </th><th>loc  </th><th style=\"text-align: right;\">  hidden</th><th style=\"text-align: right;\">       lr</th><th style=\"text-align: right;\">  momentum</th><th style=\"text-align: right;\">     acc</th><th style=\"text-align: right;\">  iter</th><th style=\"text-align: right;\">  total time (s)</th></tr>\n",
              "</thead>\n",
              "<tbody>\n",
              "<tr><td>train_mnist_7f14d_00000</td><td>TERMINATED</td><td>     </td><td style=\"text-align: right;\">     214</td><td style=\"text-align: right;\">0.0352817</td><td style=\"text-align: right;\">  0.787862</td><td style=\"text-align: right;\">0.980483</td><td style=\"text-align: right;\">    12</td><td style=\"text-align: right;\">         30.5803</td></tr>\n",
              "<tr><td>train_mnist_7f14d_00001</td><td>TERMINATED</td><td>     </td><td style=\"text-align: right;\">     122</td><td style=\"text-align: right;\">0.0865463</td><td style=\"text-align: right;\">  0.686742</td><td style=\"text-align: right;\">0.979483</td><td style=\"text-align: right;\">    12</td><td style=\"text-align: right;\">         22.844 </td></tr>\n",
              "<tr><td>train_mnist_7f14d_00002</td><td>TERMINATED</td><td>     </td><td style=\"text-align: right;\">     481</td><td style=\"text-align: right;\">0.012584 </td><td style=\"text-align: right;\">  0.278352</td><td style=\"text-align: right;\">0.937917</td><td style=\"text-align: right;\">    12</td><td style=\"text-align: right;\">         47.2769</td></tr>\n",
              "<tr><td>train_mnist_7f14d_00003</td><td>TERMINATED</td><td>     </td><td style=\"text-align: right;\">     349</td><td style=\"text-align: right;\">0.0969487</td><td style=\"text-align: right;\">  0.880783</td><td style=\"text-align: right;\">0.990017</td><td style=\"text-align: right;\">     9</td><td style=\"text-align: right;\">         29.691 </td></tr>\n",
              "<tr><td>train_mnist_7f14d_00004</td><td>TERMINATED</td><td>     </td><td style=\"text-align: right;\">     490</td><td style=\"text-align: right;\">0.0562747</td><td style=\"text-align: right;\">  0.18449 </td><td style=\"text-align: right;\">0.971917</td><td style=\"text-align: right;\">    12</td><td style=\"text-align: right;\">         47.7958</td></tr>\n",
              "<tr><td>train_mnist_7f14d_00005</td><td>TERMINATED</td><td>     </td><td style=\"text-align: right;\">     370</td><td style=\"text-align: right;\">0.0641523</td><td style=\"text-align: right;\">  0.336615</td><td style=\"text-align: right;\">0.975517</td><td style=\"text-align: right;\">    12</td><td style=\"text-align: right;\">         40.1471</td></tr>\n",
              "<tr><td>train_mnist_7f14d_00006</td><td>TERMINATED</td><td>     </td><td style=\"text-align: right;\">     490</td><td style=\"text-align: right;\">0.0740172</td><td style=\"text-align: right;\">  0.266777</td><td style=\"text-align: right;\">0.977767</td><td style=\"text-align: right;\">    12</td><td style=\"text-align: right;\">         49.097 </td></tr>\n",
              "<tr><td>train_mnist_7f14d_00007</td><td>TERMINATED</td><td>     </td><td style=\"text-align: right;\">      52</td><td style=\"text-align: right;\">0.0991786</td><td style=\"text-align: right;\">  0.799609</td><td style=\"text-align: right;\">0.965033</td><td style=\"text-align: right;\">    12</td><td style=\"text-align: right;\">         17.4495</td></tr>\n",
              "<tr><td>train_mnist_7f14d_00008</td><td>TERMINATED</td><td>     </td><td style=\"text-align: right;\">      57</td><td style=\"text-align: right;\">0.0473355</td><td style=\"text-align: right;\">  0.613397</td><td style=\"text-align: right;\">0.959417</td><td style=\"text-align: right;\">    12</td><td style=\"text-align: right;\">         17.4294</td></tr>\n",
              "<tr><td>train_mnist_7f14d_00009</td><td>TERMINATED</td><td>     </td><td style=\"text-align: right;\">     166</td><td style=\"text-align: right;\">0.0984966</td><td style=\"text-align: right;\">  0.674162</td><td style=\"text-align: right;\">0.98375 </td><td style=\"text-align: right;\">    12</td><td style=\"text-align: right;\">         27.6078</td></tr>\n",
              "</tbody>\n",
              "</table><br><br>"
            ],
            "text/plain": [
              "<IPython.core.display.HTML object>"
            ]
          },
          "metadata": {
            "tags": []
          }
        },
        {
          "output_type": "stream",
          "text": [
            "2021-03-29 21:04:19,153\tINFO tune.py:450 -- Total run time: 357.21 seconds (357.17 seconds for the tuning loop).\n"
          ],
          "name": "stderr"
        },
        {
          "output_type": "stream",
          "text": [
            "Best hyperparameters found were:  {'threads': 2, 'lr': 0.09694874184722062, 'momentum': 0.8807830251886724, 'hidden': 349}\n"
          ],
          "name": "stdout"
        }
      ]
    },
    {
      "cell_type": "code",
      "metadata": {
        "id": "lJ4otttbxwXg"
      },
      "source": [
        ""
      ],
      "execution_count": null,
      "outputs": []
    }
  ]
}